{
  "nbformat": 4,
  "nbformat_minor": 0,
  "metadata": {
    "colab": {
      "name": "asr_lab_3.ipynb",
      "provenance": [],
      "collapsed_sections": [],
      "toc_visible": true,
      "include_colab_link": true
    },
    "kernelspec": {
      "name": "python3",
      "display_name": "Python 3"
    },
    "widgets": {
      "application/vnd.jupyter.widget-state+json": {
        "6dd38f500e9142c2a36a6fedcac8de0b": {
          "model_module": "@jupyter-widgets/controls",
          "model_name": "HBoxModel",
          "state": {
            "_view_name": "HBoxView",
            "_dom_classes": [],
            "_model_name": "HBoxModel",
            "_view_module": "@jupyter-widgets/controls",
            "_model_module_version": "1.5.0",
            "_view_count": null,
            "_view_module_version": "1.5.0",
            "box_style": "",
            "layout": "IPY_MODEL_05039c6f4b984788b033a2af59972502",
            "_model_module": "@jupyter-widgets/controls",
            "children": [
              "IPY_MODEL_5e8929c07b2b44fa9d06cba61a68220d",
              "IPY_MODEL_11cd07a1550141a4a634ef1b431ac1d3"
            ]
          }
        },
        "05039c6f4b984788b033a2af59972502": {
          "model_module": "@jupyter-widgets/base",
          "model_name": "LayoutModel",
          "state": {
            "_view_name": "LayoutView",
            "grid_template_rows": null,
            "right": null,
            "justify_content": null,
            "_view_module": "@jupyter-widgets/base",
            "overflow": null,
            "_model_module_version": "1.2.0",
            "_view_count": null,
            "flex_flow": null,
            "width": null,
            "min_width": null,
            "border": null,
            "align_items": null,
            "bottom": null,
            "_model_module": "@jupyter-widgets/base",
            "top": null,
            "grid_column": null,
            "overflow_y": null,
            "overflow_x": null,
            "grid_auto_flow": null,
            "grid_area": null,
            "grid_template_columns": null,
            "flex": null,
            "_model_name": "LayoutModel",
            "justify_items": null,
            "grid_row": null,
            "max_height": null,
            "align_content": null,
            "visibility": null,
            "align_self": null,
            "height": null,
            "min_height": null,
            "padding": null,
            "grid_auto_rows": null,
            "grid_gap": null,
            "max_width": null,
            "order": null,
            "_view_module_version": "1.2.0",
            "grid_template_areas": null,
            "object_position": null,
            "object_fit": null,
            "grid_auto_columns": null,
            "margin": null,
            "display": null,
            "left": null
          }
        },
        "5e8929c07b2b44fa9d06cba61a68220d": {
          "model_module": "@jupyter-widgets/controls",
          "model_name": "FloatProgressModel",
          "state": {
            "_view_name": "ProgressView",
            "style": "IPY_MODEL_d05d1815b223490f8137093954012006",
            "_dom_classes": [],
            "description": " 33%",
            "_model_name": "FloatProgressModel",
            "bar_style": "danger",
            "max": 3000,
            "_view_module": "@jupyter-widgets/controls",
            "_model_module_version": "1.5.0",
            "value": 996,
            "_view_count": null,
            "_view_module_version": "1.5.0",
            "orientation": "horizontal",
            "min": 0,
            "description_tooltip": null,
            "_model_module": "@jupyter-widgets/controls",
            "layout": "IPY_MODEL_c5e8b6a344ce44299090517cddad9f92"
          }
        },
        "11cd07a1550141a4a634ef1b431ac1d3": {
          "model_module": "@jupyter-widgets/controls",
          "model_name": "HTMLModel",
          "state": {
            "_view_name": "HTMLView",
            "style": "IPY_MODEL_d5e25f1c18b24c5b82cbe84bc640bd9c",
            "_dom_classes": [],
            "description": "",
            "_model_name": "HTMLModel",
            "placeholder": "​",
            "_view_module": "@jupyter-widgets/controls",
            "_model_module_version": "1.5.0",
            "value": " 996/3000 [00:40&lt;00:53, 37.80it/s]",
            "_view_count": null,
            "_view_module_version": "1.5.0",
            "description_tooltip": null,
            "_model_module": "@jupyter-widgets/controls",
            "layout": "IPY_MODEL_fc66c97daaa143928e3f06da980b9a14"
          }
        },
        "d05d1815b223490f8137093954012006": {
          "model_module": "@jupyter-widgets/controls",
          "model_name": "ProgressStyleModel",
          "state": {
            "_view_name": "StyleView",
            "_model_name": "ProgressStyleModel",
            "description_width": "initial",
            "_view_module": "@jupyter-widgets/base",
            "_model_module_version": "1.5.0",
            "_view_count": null,
            "_view_module_version": "1.2.0",
            "bar_color": null,
            "_model_module": "@jupyter-widgets/controls"
          }
        },
        "c5e8b6a344ce44299090517cddad9f92": {
          "model_module": "@jupyter-widgets/base",
          "model_name": "LayoutModel",
          "state": {
            "_view_name": "LayoutView",
            "grid_template_rows": null,
            "right": null,
            "justify_content": null,
            "_view_module": "@jupyter-widgets/base",
            "overflow": null,
            "_model_module_version": "1.2.0",
            "_view_count": null,
            "flex_flow": null,
            "width": null,
            "min_width": null,
            "border": null,
            "align_items": null,
            "bottom": null,
            "_model_module": "@jupyter-widgets/base",
            "top": null,
            "grid_column": null,
            "overflow_y": null,
            "overflow_x": null,
            "grid_auto_flow": null,
            "grid_area": null,
            "grid_template_columns": null,
            "flex": null,
            "_model_name": "LayoutModel",
            "justify_items": null,
            "grid_row": null,
            "max_height": null,
            "align_content": null,
            "visibility": null,
            "align_self": null,
            "height": null,
            "min_height": null,
            "padding": null,
            "grid_auto_rows": null,
            "grid_gap": null,
            "max_width": null,
            "order": null,
            "_view_module_version": "1.2.0",
            "grid_template_areas": null,
            "object_position": null,
            "object_fit": null,
            "grid_auto_columns": null,
            "margin": null,
            "display": null,
            "left": null
          }
        },
        "d5e25f1c18b24c5b82cbe84bc640bd9c": {
          "model_module": "@jupyter-widgets/controls",
          "model_name": "DescriptionStyleModel",
          "state": {
            "_view_name": "StyleView",
            "_model_name": "DescriptionStyleModel",
            "description_width": "",
            "_view_module": "@jupyter-widgets/base",
            "_model_module_version": "1.5.0",
            "_view_count": null,
            "_view_module_version": "1.2.0",
            "_model_module": "@jupyter-widgets/controls"
          }
        },
        "fc66c97daaa143928e3f06da980b9a14": {
          "model_module": "@jupyter-widgets/base",
          "model_name": "LayoutModel",
          "state": {
            "_view_name": "LayoutView",
            "grid_template_rows": null,
            "right": null,
            "justify_content": null,
            "_view_module": "@jupyter-widgets/base",
            "overflow": null,
            "_model_module_version": "1.2.0",
            "_view_count": null,
            "flex_flow": null,
            "width": null,
            "min_width": null,
            "border": null,
            "align_items": null,
            "bottom": null,
            "_model_module": "@jupyter-widgets/base",
            "top": null,
            "grid_column": null,
            "overflow_y": null,
            "overflow_x": null,
            "grid_auto_flow": null,
            "grid_area": null,
            "grid_template_columns": null,
            "flex": null,
            "_model_name": "LayoutModel",
            "justify_items": null,
            "grid_row": null,
            "max_height": null,
            "align_content": null,
            "visibility": null,
            "align_self": null,
            "height": null,
            "min_height": null,
            "padding": null,
            "grid_auto_rows": null,
            "grid_gap": null,
            "max_width": null,
            "order": null,
            "_view_module_version": "1.2.0",
            "grid_template_areas": null,
            "object_position": null,
            "object_fit": null,
            "grid_auto_columns": null,
            "margin": null,
            "display": null,
            "left": null
          }
        },
        "88c324af840f421b83a30ec15f76833c": {
          "model_module": "@jupyter-widgets/controls",
          "model_name": "HBoxModel",
          "state": {
            "_view_name": "HBoxView",
            "_dom_classes": [],
            "_model_name": "HBoxModel",
            "_view_module": "@jupyter-widgets/controls",
            "_model_module_version": "1.5.0",
            "_view_count": null,
            "_view_module_version": "1.5.0",
            "box_style": "",
            "layout": "IPY_MODEL_8ee5d80d7a53455a8fe62b8774bed234",
            "_model_module": "@jupyter-widgets/controls",
            "children": [
              "IPY_MODEL_6f54d81b8fc14deebb02b17ab82972be",
              "IPY_MODEL_fb1810c046ae4d928d2c0c2cd85dc167"
            ]
          }
        },
        "8ee5d80d7a53455a8fe62b8774bed234": {
          "model_module": "@jupyter-widgets/base",
          "model_name": "LayoutModel",
          "state": {
            "_view_name": "LayoutView",
            "grid_template_rows": null,
            "right": null,
            "justify_content": null,
            "_view_module": "@jupyter-widgets/base",
            "overflow": null,
            "_model_module_version": "1.2.0",
            "_view_count": null,
            "flex_flow": null,
            "width": null,
            "min_width": null,
            "border": null,
            "align_items": null,
            "bottom": null,
            "_model_module": "@jupyter-widgets/base",
            "top": null,
            "grid_column": null,
            "overflow_y": null,
            "overflow_x": null,
            "grid_auto_flow": null,
            "grid_area": null,
            "grid_template_columns": null,
            "flex": null,
            "_model_name": "LayoutModel",
            "justify_items": null,
            "grid_row": null,
            "max_height": null,
            "align_content": null,
            "visibility": null,
            "align_self": null,
            "height": null,
            "min_height": null,
            "padding": null,
            "grid_auto_rows": null,
            "grid_gap": null,
            "max_width": null,
            "order": null,
            "_view_module_version": "1.2.0",
            "grid_template_areas": null,
            "object_position": null,
            "object_fit": null,
            "grid_auto_columns": null,
            "margin": null,
            "display": null,
            "left": null
          }
        },
        "6f54d81b8fc14deebb02b17ab82972be": {
          "model_module": "@jupyter-widgets/controls",
          "model_name": "FloatProgressModel",
          "state": {
            "_view_name": "ProgressView",
            "style": "IPY_MODEL_17ba8dabc45e49c2b244881bd2fad601",
            "_dom_classes": [],
            "description": "epoch 0: 100%",
            "_model_name": "FloatProgressModel",
            "bar_style": "success",
            "max": 4440,
            "_view_module": "@jupyter-widgets/controls",
            "_model_module_version": "1.5.0",
            "value": 4440,
            "_view_count": null,
            "_view_module_version": "1.5.0",
            "orientation": "horizontal",
            "min": 0,
            "description_tooltip": null,
            "_model_module": "@jupyter-widgets/controls",
            "layout": "IPY_MODEL_cd68a8a756e942b4a9514bd58046bf21"
          }
        },
        "fb1810c046ae4d928d2c0c2cd85dc167": {
          "model_module": "@jupyter-widgets/controls",
          "model_name": "HTMLModel",
          "state": {
            "_view_name": "HTMLView",
            "style": "IPY_MODEL_e388779a854048ceaae6a7a10b016e41",
            "_dom_classes": [],
            "description": "",
            "_model_name": "HTMLModel",
            "placeholder": "​",
            "_view_module": "@jupyter-widgets/controls",
            "_model_module_version": "1.5.0",
            "value": " 4440/4440 [00:10&lt;00:00, 406.37it/s]",
            "_view_count": null,
            "_view_module_version": "1.5.0",
            "description_tooltip": null,
            "_model_module": "@jupyter-widgets/controls",
            "layout": "IPY_MODEL_4cd61648380d4ea592ff5d17944ce3ec"
          }
        },
        "17ba8dabc45e49c2b244881bd2fad601": {
          "model_module": "@jupyter-widgets/controls",
          "model_name": "ProgressStyleModel",
          "state": {
            "_view_name": "StyleView",
            "_model_name": "ProgressStyleModel",
            "description_width": "initial",
            "_view_module": "@jupyter-widgets/base",
            "_model_module_version": "1.5.0",
            "_view_count": null,
            "_view_module_version": "1.2.0",
            "bar_color": null,
            "_model_module": "@jupyter-widgets/controls"
          }
        },
        "cd68a8a756e942b4a9514bd58046bf21": {
          "model_module": "@jupyter-widgets/base",
          "model_name": "LayoutModel",
          "state": {
            "_view_name": "LayoutView",
            "grid_template_rows": null,
            "right": null,
            "justify_content": null,
            "_view_module": "@jupyter-widgets/base",
            "overflow": null,
            "_model_module_version": "1.2.0",
            "_view_count": null,
            "flex_flow": null,
            "width": null,
            "min_width": null,
            "border": null,
            "align_items": null,
            "bottom": null,
            "_model_module": "@jupyter-widgets/base",
            "top": null,
            "grid_column": null,
            "overflow_y": null,
            "overflow_x": null,
            "grid_auto_flow": null,
            "grid_area": null,
            "grid_template_columns": null,
            "flex": null,
            "_model_name": "LayoutModel",
            "justify_items": null,
            "grid_row": null,
            "max_height": null,
            "align_content": null,
            "visibility": null,
            "align_self": null,
            "height": null,
            "min_height": null,
            "padding": null,
            "grid_auto_rows": null,
            "grid_gap": null,
            "max_width": null,
            "order": null,
            "_view_module_version": "1.2.0",
            "grid_template_areas": null,
            "object_position": null,
            "object_fit": null,
            "grid_auto_columns": null,
            "margin": null,
            "display": null,
            "left": null
          }
        },
        "e388779a854048ceaae6a7a10b016e41": {
          "model_module": "@jupyter-widgets/controls",
          "model_name": "DescriptionStyleModel",
          "state": {
            "_view_name": "StyleView",
            "_model_name": "DescriptionStyleModel",
            "description_width": "",
            "_view_module": "@jupyter-widgets/base",
            "_model_module_version": "1.5.0",
            "_view_count": null,
            "_view_module_version": "1.2.0",
            "_model_module": "@jupyter-widgets/controls"
          }
        },
        "4cd61648380d4ea592ff5d17944ce3ec": {
          "model_module": "@jupyter-widgets/base",
          "model_name": "LayoutModel",
          "state": {
            "_view_name": "LayoutView",
            "grid_template_rows": null,
            "right": null,
            "justify_content": null,
            "_view_module": "@jupyter-widgets/base",
            "overflow": null,
            "_model_module_version": "1.2.0",
            "_view_count": null,
            "flex_flow": null,
            "width": null,
            "min_width": null,
            "border": null,
            "align_items": null,
            "bottom": null,
            "_model_module": "@jupyter-widgets/base",
            "top": null,
            "grid_column": null,
            "overflow_y": null,
            "overflow_x": null,
            "grid_auto_flow": null,
            "grid_area": null,
            "grid_template_columns": null,
            "flex": null,
            "_model_name": "LayoutModel",
            "justify_items": null,
            "grid_row": null,
            "max_height": null,
            "align_content": null,
            "visibility": null,
            "align_self": null,
            "height": null,
            "min_height": null,
            "padding": null,
            "grid_auto_rows": null,
            "grid_gap": null,
            "max_width": null,
            "order": null,
            "_view_module_version": "1.2.0",
            "grid_template_areas": null,
            "object_position": null,
            "object_fit": null,
            "grid_auto_columns": null,
            "margin": null,
            "display": null,
            "left": null
          }
        },
        "810f2999c7224e63a6966cde9502b32d": {
          "model_module": "@jupyter-widgets/controls",
          "model_name": "HBoxModel",
          "state": {
            "_view_name": "HBoxView",
            "_dom_classes": [],
            "_model_name": "HBoxModel",
            "_view_module": "@jupyter-widgets/controls",
            "_model_module_version": "1.5.0",
            "_view_count": null,
            "_view_module_version": "1.5.0",
            "box_style": "",
            "layout": "IPY_MODEL_9703768077f9499da1631ff4d7798440",
            "_model_module": "@jupyter-widgets/controls",
            "children": [
              "IPY_MODEL_132306103cf248c5a574cc9f3bf9e990",
              "IPY_MODEL_ab73972bdaef422a9d89cb8d889da4fa"
            ]
          }
        },
        "9703768077f9499da1631ff4d7798440": {
          "model_module": "@jupyter-widgets/base",
          "model_name": "LayoutModel",
          "state": {
            "_view_name": "LayoutView",
            "grid_template_rows": null,
            "right": null,
            "justify_content": null,
            "_view_module": "@jupyter-widgets/base",
            "overflow": null,
            "_model_module_version": "1.2.0",
            "_view_count": null,
            "flex_flow": null,
            "width": null,
            "min_width": null,
            "border": null,
            "align_items": null,
            "bottom": null,
            "_model_module": "@jupyter-widgets/base",
            "top": null,
            "grid_column": null,
            "overflow_y": null,
            "overflow_x": null,
            "grid_auto_flow": null,
            "grid_area": null,
            "grid_template_columns": null,
            "flex": null,
            "_model_name": "LayoutModel",
            "justify_items": null,
            "grid_row": null,
            "max_height": null,
            "align_content": null,
            "visibility": null,
            "align_self": null,
            "height": null,
            "min_height": null,
            "padding": null,
            "grid_auto_rows": null,
            "grid_gap": null,
            "max_width": null,
            "order": null,
            "_view_module_version": "1.2.0",
            "grid_template_areas": null,
            "object_position": null,
            "object_fit": null,
            "grid_auto_columns": null,
            "margin": null,
            "display": null,
            "left": null
          }
        },
        "132306103cf248c5a574cc9f3bf9e990": {
          "model_module": "@jupyter-widgets/controls",
          "model_name": "FloatProgressModel",
          "state": {
            "_view_name": "ProgressView",
            "style": "IPY_MODEL_9274e3fa864540bd80896c3437b3a4ec",
            "_dom_classes": [],
            "description": "epoch 1: 100%",
            "_model_name": "FloatProgressModel",
            "bar_style": "success",
            "max": 4440,
            "_view_module": "@jupyter-widgets/controls",
            "_model_module_version": "1.5.0",
            "value": 4440,
            "_view_count": null,
            "_view_module_version": "1.5.0",
            "orientation": "horizontal",
            "min": 0,
            "description_tooltip": null,
            "_model_module": "@jupyter-widgets/controls",
            "layout": "IPY_MODEL_ce41f0a9984a426887084ba6fda52f9d"
          }
        },
        "ab73972bdaef422a9d89cb8d889da4fa": {
          "model_module": "@jupyter-widgets/controls",
          "model_name": "HTMLModel",
          "state": {
            "_view_name": "HTMLView",
            "style": "IPY_MODEL_c802358ca46c481ea20c2085274c1c32",
            "_dom_classes": [],
            "description": "",
            "_model_name": "HTMLModel",
            "placeholder": "​",
            "_view_module": "@jupyter-widgets/controls",
            "_model_module_version": "1.5.0",
            "value": " 4440/4440 [00:32&lt;00:00, 135.18it/s]",
            "_view_count": null,
            "_view_module_version": "1.5.0",
            "description_tooltip": null,
            "_model_module": "@jupyter-widgets/controls",
            "layout": "IPY_MODEL_e130755827c84304b4cb2f75d9e0b44e"
          }
        },
        "9274e3fa864540bd80896c3437b3a4ec": {
          "model_module": "@jupyter-widgets/controls",
          "model_name": "ProgressStyleModel",
          "state": {
            "_view_name": "StyleView",
            "_model_name": "ProgressStyleModel",
            "description_width": "initial",
            "_view_module": "@jupyter-widgets/base",
            "_model_module_version": "1.5.0",
            "_view_count": null,
            "_view_module_version": "1.2.0",
            "bar_color": null,
            "_model_module": "@jupyter-widgets/controls"
          }
        },
        "ce41f0a9984a426887084ba6fda52f9d": {
          "model_module": "@jupyter-widgets/base",
          "model_name": "LayoutModel",
          "state": {
            "_view_name": "LayoutView",
            "grid_template_rows": null,
            "right": null,
            "justify_content": null,
            "_view_module": "@jupyter-widgets/base",
            "overflow": null,
            "_model_module_version": "1.2.0",
            "_view_count": null,
            "flex_flow": null,
            "width": null,
            "min_width": null,
            "border": null,
            "align_items": null,
            "bottom": null,
            "_model_module": "@jupyter-widgets/base",
            "top": null,
            "grid_column": null,
            "overflow_y": null,
            "overflow_x": null,
            "grid_auto_flow": null,
            "grid_area": null,
            "grid_template_columns": null,
            "flex": null,
            "_model_name": "LayoutModel",
            "justify_items": null,
            "grid_row": null,
            "max_height": null,
            "align_content": null,
            "visibility": null,
            "align_self": null,
            "height": null,
            "min_height": null,
            "padding": null,
            "grid_auto_rows": null,
            "grid_gap": null,
            "max_width": null,
            "order": null,
            "_view_module_version": "1.2.0",
            "grid_template_areas": null,
            "object_position": null,
            "object_fit": null,
            "grid_auto_columns": null,
            "margin": null,
            "display": null,
            "left": null
          }
        },
        "c802358ca46c481ea20c2085274c1c32": {
          "model_module": "@jupyter-widgets/controls",
          "model_name": "DescriptionStyleModel",
          "state": {
            "_view_name": "StyleView",
            "_model_name": "DescriptionStyleModel",
            "description_width": "",
            "_view_module": "@jupyter-widgets/base",
            "_model_module_version": "1.5.0",
            "_view_count": null,
            "_view_module_version": "1.2.0",
            "_model_module": "@jupyter-widgets/controls"
          }
        },
        "e130755827c84304b4cb2f75d9e0b44e": {
          "model_module": "@jupyter-widgets/base",
          "model_name": "LayoutModel",
          "state": {
            "_view_name": "LayoutView",
            "grid_template_rows": null,
            "right": null,
            "justify_content": null,
            "_view_module": "@jupyter-widgets/base",
            "overflow": null,
            "_model_module_version": "1.2.0",
            "_view_count": null,
            "flex_flow": null,
            "width": null,
            "min_width": null,
            "border": null,
            "align_items": null,
            "bottom": null,
            "_model_module": "@jupyter-widgets/base",
            "top": null,
            "grid_column": null,
            "overflow_y": null,
            "overflow_x": null,
            "grid_auto_flow": null,
            "grid_area": null,
            "grid_template_columns": null,
            "flex": null,
            "_model_name": "LayoutModel",
            "justify_items": null,
            "grid_row": null,
            "max_height": null,
            "align_content": null,
            "visibility": null,
            "align_self": null,
            "height": null,
            "min_height": null,
            "padding": null,
            "grid_auto_rows": null,
            "grid_gap": null,
            "max_width": null,
            "order": null,
            "_view_module_version": "1.2.0",
            "grid_template_areas": null,
            "object_position": null,
            "object_fit": null,
            "grid_auto_columns": null,
            "margin": null,
            "display": null,
            "left": null
          }
        },
        "efd49a678d824d46aebcb014e1160b95": {
          "model_module": "@jupyter-widgets/controls",
          "model_name": "HBoxModel",
          "state": {
            "_view_name": "HBoxView",
            "_dom_classes": [],
            "_model_name": "HBoxModel",
            "_view_module": "@jupyter-widgets/controls",
            "_model_module_version": "1.5.0",
            "_view_count": null,
            "_view_module_version": "1.5.0",
            "box_style": "",
            "layout": "IPY_MODEL_3866a1e0bbf54830a23ff35d2bc5f8e4",
            "_model_module": "@jupyter-widgets/controls",
            "children": [
              "IPY_MODEL_a83e991dd4574a0a87cf48413bb67510",
              "IPY_MODEL_ed88206cf6ab47c4a1dea79cf5a9882f"
            ]
          }
        },
        "3866a1e0bbf54830a23ff35d2bc5f8e4": {
          "model_module": "@jupyter-widgets/base",
          "model_name": "LayoutModel",
          "state": {
            "_view_name": "LayoutView",
            "grid_template_rows": null,
            "right": null,
            "justify_content": null,
            "_view_module": "@jupyter-widgets/base",
            "overflow": null,
            "_model_module_version": "1.2.0",
            "_view_count": null,
            "flex_flow": null,
            "width": null,
            "min_width": null,
            "border": null,
            "align_items": null,
            "bottom": null,
            "_model_module": "@jupyter-widgets/base",
            "top": null,
            "grid_column": null,
            "overflow_y": null,
            "overflow_x": null,
            "grid_auto_flow": null,
            "grid_area": null,
            "grid_template_columns": null,
            "flex": null,
            "_model_name": "LayoutModel",
            "justify_items": null,
            "grid_row": null,
            "max_height": null,
            "align_content": null,
            "visibility": null,
            "align_self": null,
            "height": null,
            "min_height": null,
            "padding": null,
            "grid_auto_rows": null,
            "grid_gap": null,
            "max_width": null,
            "order": null,
            "_view_module_version": "1.2.0",
            "grid_template_areas": null,
            "object_position": null,
            "object_fit": null,
            "grid_auto_columns": null,
            "margin": null,
            "display": null,
            "left": null
          }
        },
        "a83e991dd4574a0a87cf48413bb67510": {
          "model_module": "@jupyter-widgets/controls",
          "model_name": "FloatProgressModel",
          "state": {
            "_view_name": "ProgressView",
            "style": "IPY_MODEL_6826981d235e4eb380a641744ea0cefe",
            "_dom_classes": [],
            "description": "epoch 2: 100%",
            "_model_name": "FloatProgressModel",
            "bar_style": "success",
            "max": 4440,
            "_view_module": "@jupyter-widgets/controls",
            "_model_module_version": "1.5.0",
            "value": 4440,
            "_view_count": null,
            "_view_module_version": "1.5.0",
            "orientation": "horizontal",
            "min": 0,
            "description_tooltip": null,
            "_model_module": "@jupyter-widgets/controls",
            "layout": "IPY_MODEL_993d9f6f93e6441986b4410952d97038"
          }
        },
        "ed88206cf6ab47c4a1dea79cf5a9882f": {
          "model_module": "@jupyter-widgets/controls",
          "model_name": "HTMLModel",
          "state": {
            "_view_name": "HTMLView",
            "style": "IPY_MODEL_6732c65dae6541f6a43f6e951e76f4bc",
            "_dom_classes": [],
            "description": "",
            "_model_name": "HTMLModel",
            "placeholder": "​",
            "_view_module": "@jupyter-widgets/controls",
            "_model_module_version": "1.5.0",
            "value": " 4440/4440 [00:21&lt;00:00, 202.20it/s]",
            "_view_count": null,
            "_view_module_version": "1.5.0",
            "description_tooltip": null,
            "_model_module": "@jupyter-widgets/controls",
            "layout": "IPY_MODEL_534ea3b5d9a84a54b9da20382bd1c737"
          }
        },
        "6826981d235e4eb380a641744ea0cefe": {
          "model_module": "@jupyter-widgets/controls",
          "model_name": "ProgressStyleModel",
          "state": {
            "_view_name": "StyleView",
            "_model_name": "ProgressStyleModel",
            "description_width": "initial",
            "_view_module": "@jupyter-widgets/base",
            "_model_module_version": "1.5.0",
            "_view_count": null,
            "_view_module_version": "1.2.0",
            "bar_color": null,
            "_model_module": "@jupyter-widgets/controls"
          }
        },
        "993d9f6f93e6441986b4410952d97038": {
          "model_module": "@jupyter-widgets/base",
          "model_name": "LayoutModel",
          "state": {
            "_view_name": "LayoutView",
            "grid_template_rows": null,
            "right": null,
            "justify_content": null,
            "_view_module": "@jupyter-widgets/base",
            "overflow": null,
            "_model_module_version": "1.2.0",
            "_view_count": null,
            "flex_flow": null,
            "width": null,
            "min_width": null,
            "border": null,
            "align_items": null,
            "bottom": null,
            "_model_module": "@jupyter-widgets/base",
            "top": null,
            "grid_column": null,
            "overflow_y": null,
            "overflow_x": null,
            "grid_auto_flow": null,
            "grid_area": null,
            "grid_template_columns": null,
            "flex": null,
            "_model_name": "LayoutModel",
            "justify_items": null,
            "grid_row": null,
            "max_height": null,
            "align_content": null,
            "visibility": null,
            "align_self": null,
            "height": null,
            "min_height": null,
            "padding": null,
            "grid_auto_rows": null,
            "grid_gap": null,
            "max_width": null,
            "order": null,
            "_view_module_version": "1.2.0",
            "grid_template_areas": null,
            "object_position": null,
            "object_fit": null,
            "grid_auto_columns": null,
            "margin": null,
            "display": null,
            "left": null
          }
        },
        "6732c65dae6541f6a43f6e951e76f4bc": {
          "model_module": "@jupyter-widgets/controls",
          "model_name": "DescriptionStyleModel",
          "state": {
            "_view_name": "StyleView",
            "_model_name": "DescriptionStyleModel",
            "description_width": "",
            "_view_module": "@jupyter-widgets/base",
            "_model_module_version": "1.5.0",
            "_view_count": null,
            "_view_module_version": "1.2.0",
            "_model_module": "@jupyter-widgets/controls"
          }
        },
        "534ea3b5d9a84a54b9da20382bd1c737": {
          "model_module": "@jupyter-widgets/base",
          "model_name": "LayoutModel",
          "state": {
            "_view_name": "LayoutView",
            "grid_template_rows": null,
            "right": null,
            "justify_content": null,
            "_view_module": "@jupyter-widgets/base",
            "overflow": null,
            "_model_module_version": "1.2.0",
            "_view_count": null,
            "flex_flow": null,
            "width": null,
            "min_width": null,
            "border": null,
            "align_items": null,
            "bottom": null,
            "_model_module": "@jupyter-widgets/base",
            "top": null,
            "grid_column": null,
            "overflow_y": null,
            "overflow_x": null,
            "grid_auto_flow": null,
            "grid_area": null,
            "grid_template_columns": null,
            "flex": null,
            "_model_name": "LayoutModel",
            "justify_items": null,
            "grid_row": null,
            "max_height": null,
            "align_content": null,
            "visibility": null,
            "align_self": null,
            "height": null,
            "min_height": null,
            "padding": null,
            "grid_auto_rows": null,
            "grid_gap": null,
            "max_width": null,
            "order": null,
            "_view_module_version": "1.2.0",
            "grid_template_areas": null,
            "object_position": null,
            "object_fit": null,
            "grid_auto_columns": null,
            "margin": null,
            "display": null,
            "left": null
          }
        },
        "b41332c1f47a4ef99f423d6d3b318318": {
          "model_module": "@jupyter-widgets/controls",
          "model_name": "HBoxModel",
          "state": {
            "_view_name": "HBoxView",
            "_dom_classes": [],
            "_model_name": "HBoxModel",
            "_view_module": "@jupyter-widgets/controls",
            "_model_module_version": "1.5.0",
            "_view_count": null,
            "_view_module_version": "1.5.0",
            "box_style": "",
            "layout": "IPY_MODEL_c6c40745095b4ae09b05b7233c49357e",
            "_model_module": "@jupyter-widgets/controls",
            "children": [
              "IPY_MODEL_2fd0c3b403c041559fcd6079c23a79ff",
              "IPY_MODEL_f4834e3917d34a20b72cb79d103e3229"
            ]
          }
        },
        "c6c40745095b4ae09b05b7233c49357e": {
          "model_module": "@jupyter-widgets/base",
          "model_name": "LayoutModel",
          "state": {
            "_view_name": "LayoutView",
            "grid_template_rows": null,
            "right": null,
            "justify_content": null,
            "_view_module": "@jupyter-widgets/base",
            "overflow": null,
            "_model_module_version": "1.2.0",
            "_view_count": null,
            "flex_flow": null,
            "width": null,
            "min_width": null,
            "border": null,
            "align_items": null,
            "bottom": null,
            "_model_module": "@jupyter-widgets/base",
            "top": null,
            "grid_column": null,
            "overflow_y": null,
            "overflow_x": null,
            "grid_auto_flow": null,
            "grid_area": null,
            "grid_template_columns": null,
            "flex": null,
            "_model_name": "LayoutModel",
            "justify_items": null,
            "grid_row": null,
            "max_height": null,
            "align_content": null,
            "visibility": null,
            "align_self": null,
            "height": null,
            "min_height": null,
            "padding": null,
            "grid_auto_rows": null,
            "grid_gap": null,
            "max_width": null,
            "order": null,
            "_view_module_version": "1.2.0",
            "grid_template_areas": null,
            "object_position": null,
            "object_fit": null,
            "grid_auto_columns": null,
            "margin": null,
            "display": null,
            "left": null
          }
        },
        "2fd0c3b403c041559fcd6079c23a79ff": {
          "model_module": "@jupyter-widgets/controls",
          "model_name": "FloatProgressModel",
          "state": {
            "_view_name": "ProgressView",
            "style": "IPY_MODEL_60a93b5374124095b044fb2ad781b9fe",
            "_dom_classes": [],
            "description": "epoch 3: 100%",
            "_model_name": "FloatProgressModel",
            "bar_style": "success",
            "max": 4440,
            "_view_module": "@jupyter-widgets/controls",
            "_model_module_version": "1.5.0",
            "value": 4440,
            "_view_count": null,
            "_view_module_version": "1.5.0",
            "orientation": "horizontal",
            "min": 0,
            "description_tooltip": null,
            "_model_module": "@jupyter-widgets/controls",
            "layout": "IPY_MODEL_d67bb629ad3f4cdd8d7b3d408d70a11f"
          }
        },
        "f4834e3917d34a20b72cb79d103e3229": {
          "model_module": "@jupyter-widgets/controls",
          "model_name": "HTMLModel",
          "state": {
            "_view_name": "HTMLView",
            "style": "IPY_MODEL_9e49595eb68b420aac2a474d1d9591de",
            "_dom_classes": [],
            "description": "",
            "_model_name": "HTMLModel",
            "placeholder": "​",
            "_view_module": "@jupyter-widgets/controls",
            "_model_module_version": "1.5.0",
            "value": " 4440/4440 [01:17&lt;00:00, 57.17it/s]",
            "_view_count": null,
            "_view_module_version": "1.5.0",
            "description_tooltip": null,
            "_model_module": "@jupyter-widgets/controls",
            "layout": "IPY_MODEL_0efb3cd2179d4acdbd8bdc1a1bcc3bb8"
          }
        },
        "60a93b5374124095b044fb2ad781b9fe": {
          "model_module": "@jupyter-widgets/controls",
          "model_name": "ProgressStyleModel",
          "state": {
            "_view_name": "StyleView",
            "_model_name": "ProgressStyleModel",
            "description_width": "initial",
            "_view_module": "@jupyter-widgets/base",
            "_model_module_version": "1.5.0",
            "_view_count": null,
            "_view_module_version": "1.2.0",
            "bar_color": null,
            "_model_module": "@jupyter-widgets/controls"
          }
        },
        "d67bb629ad3f4cdd8d7b3d408d70a11f": {
          "model_module": "@jupyter-widgets/base",
          "model_name": "LayoutModel",
          "state": {
            "_view_name": "LayoutView",
            "grid_template_rows": null,
            "right": null,
            "justify_content": null,
            "_view_module": "@jupyter-widgets/base",
            "overflow": null,
            "_model_module_version": "1.2.0",
            "_view_count": null,
            "flex_flow": null,
            "width": null,
            "min_width": null,
            "border": null,
            "align_items": null,
            "bottom": null,
            "_model_module": "@jupyter-widgets/base",
            "top": null,
            "grid_column": null,
            "overflow_y": null,
            "overflow_x": null,
            "grid_auto_flow": null,
            "grid_area": null,
            "grid_template_columns": null,
            "flex": null,
            "_model_name": "LayoutModel",
            "justify_items": null,
            "grid_row": null,
            "max_height": null,
            "align_content": null,
            "visibility": null,
            "align_self": null,
            "height": null,
            "min_height": null,
            "padding": null,
            "grid_auto_rows": null,
            "grid_gap": null,
            "max_width": null,
            "order": null,
            "_view_module_version": "1.2.0",
            "grid_template_areas": null,
            "object_position": null,
            "object_fit": null,
            "grid_auto_columns": null,
            "margin": null,
            "display": null,
            "left": null
          }
        },
        "9e49595eb68b420aac2a474d1d9591de": {
          "model_module": "@jupyter-widgets/controls",
          "model_name": "DescriptionStyleModel",
          "state": {
            "_view_name": "StyleView",
            "_model_name": "DescriptionStyleModel",
            "description_width": "",
            "_view_module": "@jupyter-widgets/base",
            "_model_module_version": "1.5.0",
            "_view_count": null,
            "_view_module_version": "1.2.0",
            "_model_module": "@jupyter-widgets/controls"
          }
        },
        "0efb3cd2179d4acdbd8bdc1a1bcc3bb8": {
          "model_module": "@jupyter-widgets/base",
          "model_name": "LayoutModel",
          "state": {
            "_view_name": "LayoutView",
            "grid_template_rows": null,
            "right": null,
            "justify_content": null,
            "_view_module": "@jupyter-widgets/base",
            "overflow": null,
            "_model_module_version": "1.2.0",
            "_view_count": null,
            "flex_flow": null,
            "width": null,
            "min_width": null,
            "border": null,
            "align_items": null,
            "bottom": null,
            "_model_module": "@jupyter-widgets/base",
            "top": null,
            "grid_column": null,
            "overflow_y": null,
            "overflow_x": null,
            "grid_auto_flow": null,
            "grid_area": null,
            "grid_template_columns": null,
            "flex": null,
            "_model_name": "LayoutModel",
            "justify_items": null,
            "grid_row": null,
            "max_height": null,
            "align_content": null,
            "visibility": null,
            "align_self": null,
            "height": null,
            "min_height": null,
            "padding": null,
            "grid_auto_rows": null,
            "grid_gap": null,
            "max_width": null,
            "order": null,
            "_view_module_version": "1.2.0",
            "grid_template_areas": null,
            "object_position": null,
            "object_fit": null,
            "grid_auto_columns": null,
            "margin": null,
            "display": null,
            "left": null
          }
        },
        "c79e25b1b2c54963b21a59570b3ebe4e": {
          "model_module": "@jupyter-widgets/controls",
          "model_name": "HBoxModel",
          "state": {
            "_view_name": "HBoxView",
            "_dom_classes": [],
            "_model_name": "HBoxModel",
            "_view_module": "@jupyter-widgets/controls",
            "_model_module_version": "1.5.0",
            "_view_count": null,
            "_view_module_version": "1.5.0",
            "box_style": "",
            "layout": "IPY_MODEL_12bd7c490d0f4cd1acae3a63eac77281",
            "_model_module": "@jupyter-widgets/controls",
            "children": [
              "IPY_MODEL_37785b459ce04dba88bad729d827125f",
              "IPY_MODEL_6d978260b31144abb8e67d193fc7b120"
            ]
          }
        },
        "12bd7c490d0f4cd1acae3a63eac77281": {
          "model_module": "@jupyter-widgets/base",
          "model_name": "LayoutModel",
          "state": {
            "_view_name": "LayoutView",
            "grid_template_rows": null,
            "right": null,
            "justify_content": null,
            "_view_module": "@jupyter-widgets/base",
            "overflow": null,
            "_model_module_version": "1.2.0",
            "_view_count": null,
            "flex_flow": null,
            "width": null,
            "min_width": null,
            "border": null,
            "align_items": null,
            "bottom": null,
            "_model_module": "@jupyter-widgets/base",
            "top": null,
            "grid_column": null,
            "overflow_y": null,
            "overflow_x": null,
            "grid_auto_flow": null,
            "grid_area": null,
            "grid_template_columns": null,
            "flex": null,
            "_model_name": "LayoutModel",
            "justify_items": null,
            "grid_row": null,
            "max_height": null,
            "align_content": null,
            "visibility": null,
            "align_self": null,
            "height": null,
            "min_height": null,
            "padding": null,
            "grid_auto_rows": null,
            "grid_gap": null,
            "max_width": null,
            "order": null,
            "_view_module_version": "1.2.0",
            "grid_template_areas": null,
            "object_position": null,
            "object_fit": null,
            "grid_auto_columns": null,
            "margin": null,
            "display": null,
            "left": null
          }
        },
        "37785b459ce04dba88bad729d827125f": {
          "model_module": "@jupyter-widgets/controls",
          "model_name": "FloatProgressModel",
          "state": {
            "_view_name": "ProgressView",
            "style": "IPY_MODEL_fdf4ae8c62fa48618551c6f63a59c862",
            "_dom_classes": [],
            "description": "epoch 4: 100%",
            "_model_name": "FloatProgressModel",
            "bar_style": "success",
            "max": 4440,
            "_view_module": "@jupyter-widgets/controls",
            "_model_module_version": "1.5.0",
            "value": 4440,
            "_view_count": null,
            "_view_module_version": "1.5.0",
            "orientation": "horizontal",
            "min": 0,
            "description_tooltip": null,
            "_model_module": "@jupyter-widgets/controls",
            "layout": "IPY_MODEL_7857b6d4012f479d85221acf0760c0a4"
          }
        },
        "6d978260b31144abb8e67d193fc7b120": {
          "model_module": "@jupyter-widgets/controls",
          "model_name": "HTMLModel",
          "state": {
            "_view_name": "HTMLView",
            "style": "IPY_MODEL_ec0d936ca79242f59bb11519d0221d8a",
            "_dom_classes": [],
            "description": "",
            "_model_name": "HTMLModel",
            "placeholder": "​",
            "_view_module": "@jupyter-widgets/controls",
            "_model_module_version": "1.5.0",
            "value": " 4440/4440 [01:06&lt;00:00, 66.59it/s]",
            "_view_count": null,
            "_view_module_version": "1.5.0",
            "description_tooltip": null,
            "_model_module": "@jupyter-widgets/controls",
            "layout": "IPY_MODEL_c1c0e72fb87f4fe8880dbb779c8d3e98"
          }
        },
        "fdf4ae8c62fa48618551c6f63a59c862": {
          "model_module": "@jupyter-widgets/controls",
          "model_name": "ProgressStyleModel",
          "state": {
            "_view_name": "StyleView",
            "_model_name": "ProgressStyleModel",
            "description_width": "initial",
            "_view_module": "@jupyter-widgets/base",
            "_model_module_version": "1.5.0",
            "_view_count": null,
            "_view_module_version": "1.2.0",
            "bar_color": null,
            "_model_module": "@jupyter-widgets/controls"
          }
        },
        "7857b6d4012f479d85221acf0760c0a4": {
          "model_module": "@jupyter-widgets/base",
          "model_name": "LayoutModel",
          "state": {
            "_view_name": "LayoutView",
            "grid_template_rows": null,
            "right": null,
            "justify_content": null,
            "_view_module": "@jupyter-widgets/base",
            "overflow": null,
            "_model_module_version": "1.2.0",
            "_view_count": null,
            "flex_flow": null,
            "width": null,
            "min_width": null,
            "border": null,
            "align_items": null,
            "bottom": null,
            "_model_module": "@jupyter-widgets/base",
            "top": null,
            "grid_column": null,
            "overflow_y": null,
            "overflow_x": null,
            "grid_auto_flow": null,
            "grid_area": null,
            "grid_template_columns": null,
            "flex": null,
            "_model_name": "LayoutModel",
            "justify_items": null,
            "grid_row": null,
            "max_height": null,
            "align_content": null,
            "visibility": null,
            "align_self": null,
            "height": null,
            "min_height": null,
            "padding": null,
            "grid_auto_rows": null,
            "grid_gap": null,
            "max_width": null,
            "order": null,
            "_view_module_version": "1.2.0",
            "grid_template_areas": null,
            "object_position": null,
            "object_fit": null,
            "grid_auto_columns": null,
            "margin": null,
            "display": null,
            "left": null
          }
        },
        "ec0d936ca79242f59bb11519d0221d8a": {
          "model_module": "@jupyter-widgets/controls",
          "model_name": "DescriptionStyleModel",
          "state": {
            "_view_name": "StyleView",
            "_model_name": "DescriptionStyleModel",
            "description_width": "",
            "_view_module": "@jupyter-widgets/base",
            "_model_module_version": "1.5.0",
            "_view_count": null,
            "_view_module_version": "1.2.0",
            "_model_module": "@jupyter-widgets/controls"
          }
        },
        "c1c0e72fb87f4fe8880dbb779c8d3e98": {
          "model_module": "@jupyter-widgets/base",
          "model_name": "LayoutModel",
          "state": {
            "_view_name": "LayoutView",
            "grid_template_rows": null,
            "right": null,
            "justify_content": null,
            "_view_module": "@jupyter-widgets/base",
            "overflow": null,
            "_model_module_version": "1.2.0",
            "_view_count": null,
            "flex_flow": null,
            "width": null,
            "min_width": null,
            "border": null,
            "align_items": null,
            "bottom": null,
            "_model_module": "@jupyter-widgets/base",
            "top": null,
            "grid_column": null,
            "overflow_y": null,
            "overflow_x": null,
            "grid_auto_flow": null,
            "grid_area": null,
            "grid_template_columns": null,
            "flex": null,
            "_model_name": "LayoutModel",
            "justify_items": null,
            "grid_row": null,
            "max_height": null,
            "align_content": null,
            "visibility": null,
            "align_self": null,
            "height": null,
            "min_height": null,
            "padding": null,
            "grid_auto_rows": null,
            "grid_gap": null,
            "max_width": null,
            "order": null,
            "_view_module_version": "1.2.0",
            "grid_template_areas": null,
            "object_position": null,
            "object_fit": null,
            "grid_auto_columns": null,
            "margin": null,
            "display": null,
            "left": null
          }
        },
        "ba3d04f3456d42c8a62cb8dec5e1f4d9": {
          "model_module": "@jupyter-widgets/controls",
          "model_name": "HBoxModel",
          "state": {
            "_view_name": "HBoxView",
            "_dom_classes": [],
            "_model_name": "HBoxModel",
            "_view_module": "@jupyter-widgets/controls",
            "_model_module_version": "1.5.0",
            "_view_count": null,
            "_view_module_version": "1.5.0",
            "box_style": "",
            "layout": "IPY_MODEL_102db263c432491a9c0bcfaaa4deb567",
            "_model_module": "@jupyter-widgets/controls",
            "children": [
              "IPY_MODEL_9efacd2c8b4147cc933376ee83acce70",
              "IPY_MODEL_66d3d4a62f8a4ab6bdde9eddb39cd3ad"
            ]
          }
        },
        "102db263c432491a9c0bcfaaa4deb567": {
          "model_module": "@jupyter-widgets/base",
          "model_name": "LayoutModel",
          "state": {
            "_view_name": "LayoutView",
            "grid_template_rows": null,
            "right": null,
            "justify_content": null,
            "_view_module": "@jupyter-widgets/base",
            "overflow": null,
            "_model_module_version": "1.2.0",
            "_view_count": null,
            "flex_flow": null,
            "width": null,
            "min_width": null,
            "border": null,
            "align_items": null,
            "bottom": null,
            "_model_module": "@jupyter-widgets/base",
            "top": null,
            "grid_column": null,
            "overflow_y": null,
            "overflow_x": null,
            "grid_auto_flow": null,
            "grid_area": null,
            "grid_template_columns": null,
            "flex": null,
            "_model_name": "LayoutModel",
            "justify_items": null,
            "grid_row": null,
            "max_height": null,
            "align_content": null,
            "visibility": null,
            "align_self": null,
            "height": null,
            "min_height": null,
            "padding": null,
            "grid_auto_rows": null,
            "grid_gap": null,
            "max_width": null,
            "order": null,
            "_view_module_version": "1.2.0",
            "grid_template_areas": null,
            "object_position": null,
            "object_fit": null,
            "grid_auto_columns": null,
            "margin": null,
            "display": null,
            "left": null
          }
        },
        "9efacd2c8b4147cc933376ee83acce70": {
          "model_module": "@jupyter-widgets/controls",
          "model_name": "FloatProgressModel",
          "state": {
            "_view_name": "ProgressView",
            "style": "IPY_MODEL_3196cfb6c8be4de0b0b3935759c6fd26",
            "_dom_classes": [],
            "description": "epoch 5: 100%",
            "_model_name": "FloatProgressModel",
            "bar_style": "success",
            "max": 4440,
            "_view_module": "@jupyter-widgets/controls",
            "_model_module_version": "1.5.0",
            "value": 4440,
            "_view_count": null,
            "_view_module_version": "1.5.0",
            "orientation": "horizontal",
            "min": 0,
            "description_tooltip": null,
            "_model_module": "@jupyter-widgets/controls",
            "layout": "IPY_MODEL_ad39196338da4e21b49c8c321e33f84f"
          }
        },
        "66d3d4a62f8a4ab6bdde9eddb39cd3ad": {
          "model_module": "@jupyter-widgets/controls",
          "model_name": "HTMLModel",
          "state": {
            "_view_name": "HTMLView",
            "style": "IPY_MODEL_70404527ef3747d388a71bf15e23b362",
            "_dom_classes": [],
            "description": "",
            "_model_name": "HTMLModel",
            "placeholder": "​",
            "_view_module": "@jupyter-widgets/controls",
            "_model_module_version": "1.5.0",
            "value": " 4440/4440 [00:33&lt;00:00, 133.56it/s]",
            "_view_count": null,
            "_view_module_version": "1.5.0",
            "description_tooltip": null,
            "_model_module": "@jupyter-widgets/controls",
            "layout": "IPY_MODEL_6d84a5a65c85469ebd7d6dfeb562e137"
          }
        },
        "3196cfb6c8be4de0b0b3935759c6fd26": {
          "model_module": "@jupyter-widgets/controls",
          "model_name": "ProgressStyleModel",
          "state": {
            "_view_name": "StyleView",
            "_model_name": "ProgressStyleModel",
            "description_width": "initial",
            "_view_module": "@jupyter-widgets/base",
            "_model_module_version": "1.5.0",
            "_view_count": null,
            "_view_module_version": "1.2.0",
            "bar_color": null,
            "_model_module": "@jupyter-widgets/controls"
          }
        },
        "ad39196338da4e21b49c8c321e33f84f": {
          "model_module": "@jupyter-widgets/base",
          "model_name": "LayoutModel",
          "state": {
            "_view_name": "LayoutView",
            "grid_template_rows": null,
            "right": null,
            "justify_content": null,
            "_view_module": "@jupyter-widgets/base",
            "overflow": null,
            "_model_module_version": "1.2.0",
            "_view_count": null,
            "flex_flow": null,
            "width": null,
            "min_width": null,
            "border": null,
            "align_items": null,
            "bottom": null,
            "_model_module": "@jupyter-widgets/base",
            "top": null,
            "grid_column": null,
            "overflow_y": null,
            "overflow_x": null,
            "grid_auto_flow": null,
            "grid_area": null,
            "grid_template_columns": null,
            "flex": null,
            "_model_name": "LayoutModel",
            "justify_items": null,
            "grid_row": null,
            "max_height": null,
            "align_content": null,
            "visibility": null,
            "align_self": null,
            "height": null,
            "min_height": null,
            "padding": null,
            "grid_auto_rows": null,
            "grid_gap": null,
            "max_width": null,
            "order": null,
            "_view_module_version": "1.2.0",
            "grid_template_areas": null,
            "object_position": null,
            "object_fit": null,
            "grid_auto_columns": null,
            "margin": null,
            "display": null,
            "left": null
          }
        },
        "70404527ef3747d388a71bf15e23b362": {
          "model_module": "@jupyter-widgets/controls",
          "model_name": "DescriptionStyleModel",
          "state": {
            "_view_name": "StyleView",
            "_model_name": "DescriptionStyleModel",
            "description_width": "",
            "_view_module": "@jupyter-widgets/base",
            "_model_module_version": "1.5.0",
            "_view_count": null,
            "_view_module_version": "1.2.0",
            "_model_module": "@jupyter-widgets/controls"
          }
        },
        "6d84a5a65c85469ebd7d6dfeb562e137": {
          "model_module": "@jupyter-widgets/base",
          "model_name": "LayoutModel",
          "state": {
            "_view_name": "LayoutView",
            "grid_template_rows": null,
            "right": null,
            "justify_content": null,
            "_view_module": "@jupyter-widgets/base",
            "overflow": null,
            "_model_module_version": "1.2.0",
            "_view_count": null,
            "flex_flow": null,
            "width": null,
            "min_width": null,
            "border": null,
            "align_items": null,
            "bottom": null,
            "_model_module": "@jupyter-widgets/base",
            "top": null,
            "grid_column": null,
            "overflow_y": null,
            "overflow_x": null,
            "grid_auto_flow": null,
            "grid_area": null,
            "grid_template_columns": null,
            "flex": null,
            "_model_name": "LayoutModel",
            "justify_items": null,
            "grid_row": null,
            "max_height": null,
            "align_content": null,
            "visibility": null,
            "align_self": null,
            "height": null,
            "min_height": null,
            "padding": null,
            "grid_auto_rows": null,
            "grid_gap": null,
            "max_width": null,
            "order": null,
            "_view_module_version": "1.2.0",
            "grid_template_areas": null,
            "object_position": null,
            "object_fit": null,
            "grid_auto_columns": null,
            "margin": null,
            "display": null,
            "left": null
          }
        },
        "42bd39e2a2f048f1a99cf4a37ba8c4f4": {
          "model_module": "@jupyter-widgets/controls",
          "model_name": "HBoxModel",
          "state": {
            "_view_name": "HBoxView",
            "_dom_classes": [],
            "_model_name": "HBoxModel",
            "_view_module": "@jupyter-widgets/controls",
            "_model_module_version": "1.5.0",
            "_view_count": null,
            "_view_module_version": "1.5.0",
            "box_style": "",
            "layout": "IPY_MODEL_3c12a02f2a1145cfae8691c36743c563",
            "_model_module": "@jupyter-widgets/controls",
            "children": [
              "IPY_MODEL_81c6bdf725874ab49453aea31790b55d",
              "IPY_MODEL_c270dc871469475c8f4a6d0079f2de87"
            ]
          }
        },
        "3c12a02f2a1145cfae8691c36743c563": {
          "model_module": "@jupyter-widgets/base",
          "model_name": "LayoutModel",
          "state": {
            "_view_name": "LayoutView",
            "grid_template_rows": null,
            "right": null,
            "justify_content": null,
            "_view_module": "@jupyter-widgets/base",
            "overflow": null,
            "_model_module_version": "1.2.0",
            "_view_count": null,
            "flex_flow": null,
            "width": null,
            "min_width": null,
            "border": null,
            "align_items": null,
            "bottom": null,
            "_model_module": "@jupyter-widgets/base",
            "top": null,
            "grid_column": null,
            "overflow_y": null,
            "overflow_x": null,
            "grid_auto_flow": null,
            "grid_area": null,
            "grid_template_columns": null,
            "flex": null,
            "_model_name": "LayoutModel",
            "justify_items": null,
            "grid_row": null,
            "max_height": null,
            "align_content": null,
            "visibility": null,
            "align_self": null,
            "height": null,
            "min_height": null,
            "padding": null,
            "grid_auto_rows": null,
            "grid_gap": null,
            "max_width": null,
            "order": null,
            "_view_module_version": "1.2.0",
            "grid_template_areas": null,
            "object_position": null,
            "object_fit": null,
            "grid_auto_columns": null,
            "margin": null,
            "display": null,
            "left": null
          }
        },
        "81c6bdf725874ab49453aea31790b55d": {
          "model_module": "@jupyter-widgets/controls",
          "model_name": "FloatProgressModel",
          "state": {
            "_view_name": "ProgressView",
            "style": "IPY_MODEL_ee13a14de8334cab9bdf30548a408aca",
            "_dom_classes": [],
            "description": "epoch 6: 100%",
            "_model_name": "FloatProgressModel",
            "bar_style": "success",
            "max": 4440,
            "_view_module": "@jupyter-widgets/controls",
            "_model_module_version": "1.5.0",
            "value": 4440,
            "_view_count": null,
            "_view_module_version": "1.5.0",
            "orientation": "horizontal",
            "min": 0,
            "description_tooltip": null,
            "_model_module": "@jupyter-widgets/controls",
            "layout": "IPY_MODEL_93113c990f434a348f15459feba95ce8"
          }
        },
        "c270dc871469475c8f4a6d0079f2de87": {
          "model_module": "@jupyter-widgets/controls",
          "model_name": "HTMLModel",
          "state": {
            "_view_name": "HTMLView",
            "style": "IPY_MODEL_40c18ad3881a4c19a6bf86247fd39904",
            "_dom_classes": [],
            "description": "",
            "_model_name": "HTMLModel",
            "placeholder": "​",
            "_view_module": "@jupyter-widgets/controls",
            "_model_module_version": "1.5.0",
            "value": " 4440/4440 [00:22&lt;00:00, 201.60it/s]",
            "_view_count": null,
            "_view_module_version": "1.5.0",
            "description_tooltip": null,
            "_model_module": "@jupyter-widgets/controls",
            "layout": "IPY_MODEL_b978b120bb5d4c3b9dd345759f27ce4a"
          }
        },
        "ee13a14de8334cab9bdf30548a408aca": {
          "model_module": "@jupyter-widgets/controls",
          "model_name": "ProgressStyleModel",
          "state": {
            "_view_name": "StyleView",
            "_model_name": "ProgressStyleModel",
            "description_width": "initial",
            "_view_module": "@jupyter-widgets/base",
            "_model_module_version": "1.5.0",
            "_view_count": null,
            "_view_module_version": "1.2.0",
            "bar_color": null,
            "_model_module": "@jupyter-widgets/controls"
          }
        },
        "93113c990f434a348f15459feba95ce8": {
          "model_module": "@jupyter-widgets/base",
          "model_name": "LayoutModel",
          "state": {
            "_view_name": "LayoutView",
            "grid_template_rows": null,
            "right": null,
            "justify_content": null,
            "_view_module": "@jupyter-widgets/base",
            "overflow": null,
            "_model_module_version": "1.2.0",
            "_view_count": null,
            "flex_flow": null,
            "width": null,
            "min_width": null,
            "border": null,
            "align_items": null,
            "bottom": null,
            "_model_module": "@jupyter-widgets/base",
            "top": null,
            "grid_column": null,
            "overflow_y": null,
            "overflow_x": null,
            "grid_auto_flow": null,
            "grid_area": null,
            "grid_template_columns": null,
            "flex": null,
            "_model_name": "LayoutModel",
            "justify_items": null,
            "grid_row": null,
            "max_height": null,
            "align_content": null,
            "visibility": null,
            "align_self": null,
            "height": null,
            "min_height": null,
            "padding": null,
            "grid_auto_rows": null,
            "grid_gap": null,
            "max_width": null,
            "order": null,
            "_view_module_version": "1.2.0",
            "grid_template_areas": null,
            "object_position": null,
            "object_fit": null,
            "grid_auto_columns": null,
            "margin": null,
            "display": null,
            "left": null
          }
        },
        "40c18ad3881a4c19a6bf86247fd39904": {
          "model_module": "@jupyter-widgets/controls",
          "model_name": "DescriptionStyleModel",
          "state": {
            "_view_name": "StyleView",
            "_model_name": "DescriptionStyleModel",
            "description_width": "",
            "_view_module": "@jupyter-widgets/base",
            "_model_module_version": "1.5.0",
            "_view_count": null,
            "_view_module_version": "1.2.0",
            "_model_module": "@jupyter-widgets/controls"
          }
        },
        "b978b120bb5d4c3b9dd345759f27ce4a": {
          "model_module": "@jupyter-widgets/base",
          "model_name": "LayoutModel",
          "state": {
            "_view_name": "LayoutView",
            "grid_template_rows": null,
            "right": null,
            "justify_content": null,
            "_view_module": "@jupyter-widgets/base",
            "overflow": null,
            "_model_module_version": "1.2.0",
            "_view_count": null,
            "flex_flow": null,
            "width": null,
            "min_width": null,
            "border": null,
            "align_items": null,
            "bottom": null,
            "_model_module": "@jupyter-widgets/base",
            "top": null,
            "grid_column": null,
            "overflow_y": null,
            "overflow_x": null,
            "grid_auto_flow": null,
            "grid_area": null,
            "grid_template_columns": null,
            "flex": null,
            "_model_name": "LayoutModel",
            "justify_items": null,
            "grid_row": null,
            "max_height": null,
            "align_content": null,
            "visibility": null,
            "align_self": null,
            "height": null,
            "min_height": null,
            "padding": null,
            "grid_auto_rows": null,
            "grid_gap": null,
            "max_width": null,
            "order": null,
            "_view_module_version": "1.2.0",
            "grid_template_areas": null,
            "object_position": null,
            "object_fit": null,
            "grid_auto_columns": null,
            "margin": null,
            "display": null,
            "left": null
          }
        },
        "6f9ef00e48184cd1b81bcd06c0eace94": {
          "model_module": "@jupyter-widgets/controls",
          "model_name": "HBoxModel",
          "state": {
            "_view_name": "HBoxView",
            "_dom_classes": [],
            "_model_name": "HBoxModel",
            "_view_module": "@jupyter-widgets/controls",
            "_model_module_version": "1.5.0",
            "_view_count": null,
            "_view_module_version": "1.5.0",
            "box_style": "",
            "layout": "IPY_MODEL_2284459edd0a4aeea8feb41112a939a1",
            "_model_module": "@jupyter-widgets/controls",
            "children": [
              "IPY_MODEL_9042640cd4b54d619aca5e6fde1ee18f",
              "IPY_MODEL_719ca3a74fc348ea9bf337b342ba7986"
            ]
          }
        },
        "2284459edd0a4aeea8feb41112a939a1": {
          "model_module": "@jupyter-widgets/base",
          "model_name": "LayoutModel",
          "state": {
            "_view_name": "LayoutView",
            "grid_template_rows": null,
            "right": null,
            "justify_content": null,
            "_view_module": "@jupyter-widgets/base",
            "overflow": null,
            "_model_module_version": "1.2.0",
            "_view_count": null,
            "flex_flow": null,
            "width": null,
            "min_width": null,
            "border": null,
            "align_items": null,
            "bottom": null,
            "_model_module": "@jupyter-widgets/base",
            "top": null,
            "grid_column": null,
            "overflow_y": null,
            "overflow_x": null,
            "grid_auto_flow": null,
            "grid_area": null,
            "grid_template_columns": null,
            "flex": null,
            "_model_name": "LayoutModel",
            "justify_items": null,
            "grid_row": null,
            "max_height": null,
            "align_content": null,
            "visibility": null,
            "align_self": null,
            "height": null,
            "min_height": null,
            "padding": null,
            "grid_auto_rows": null,
            "grid_gap": null,
            "max_width": null,
            "order": null,
            "_view_module_version": "1.2.0",
            "grid_template_areas": null,
            "object_position": null,
            "object_fit": null,
            "grid_auto_columns": null,
            "margin": null,
            "display": null,
            "left": null
          }
        },
        "9042640cd4b54d619aca5e6fde1ee18f": {
          "model_module": "@jupyter-widgets/controls",
          "model_name": "FloatProgressModel",
          "state": {
            "_view_name": "ProgressView",
            "style": "IPY_MODEL_6c67d31495fb49d382f71765aaa41e53",
            "_dom_classes": [],
            "description": "epoch 7: 100%",
            "_model_name": "FloatProgressModel",
            "bar_style": "success",
            "max": 4440,
            "_view_module": "@jupyter-widgets/controls",
            "_model_module_version": "1.5.0",
            "value": 4440,
            "_view_count": null,
            "_view_module_version": "1.5.0",
            "orientation": "horizontal",
            "min": 0,
            "description_tooltip": null,
            "_model_module": "@jupyter-widgets/controls",
            "layout": "IPY_MODEL_7593746118744a9bb4af13bc99b868ff"
          }
        },
        "719ca3a74fc348ea9bf337b342ba7986": {
          "model_module": "@jupyter-widgets/controls",
          "model_name": "HTMLModel",
          "state": {
            "_view_name": "HTMLView",
            "style": "IPY_MODEL_d9dbd26009db40c889b8f8bb6bc4b83f",
            "_dom_classes": [],
            "description": "",
            "_model_name": "HTMLModel",
            "placeholder": "​",
            "_view_module": "@jupyter-widgets/controls",
            "_model_module_version": "1.5.0",
            "value": " 4440/4440 [00:33&lt;00:00, 133.89it/s]",
            "_view_count": null,
            "_view_module_version": "1.5.0",
            "description_tooltip": null,
            "_model_module": "@jupyter-widgets/controls",
            "layout": "IPY_MODEL_bb68643837f2456ba876b9c7dfe0d162"
          }
        },
        "6c67d31495fb49d382f71765aaa41e53": {
          "model_module": "@jupyter-widgets/controls",
          "model_name": "ProgressStyleModel",
          "state": {
            "_view_name": "StyleView",
            "_model_name": "ProgressStyleModel",
            "description_width": "initial",
            "_view_module": "@jupyter-widgets/base",
            "_model_module_version": "1.5.0",
            "_view_count": null,
            "_view_module_version": "1.2.0",
            "bar_color": null,
            "_model_module": "@jupyter-widgets/controls"
          }
        },
        "7593746118744a9bb4af13bc99b868ff": {
          "model_module": "@jupyter-widgets/base",
          "model_name": "LayoutModel",
          "state": {
            "_view_name": "LayoutView",
            "grid_template_rows": null,
            "right": null,
            "justify_content": null,
            "_view_module": "@jupyter-widgets/base",
            "overflow": null,
            "_model_module_version": "1.2.0",
            "_view_count": null,
            "flex_flow": null,
            "width": null,
            "min_width": null,
            "border": null,
            "align_items": null,
            "bottom": null,
            "_model_module": "@jupyter-widgets/base",
            "top": null,
            "grid_column": null,
            "overflow_y": null,
            "overflow_x": null,
            "grid_auto_flow": null,
            "grid_area": null,
            "grid_template_columns": null,
            "flex": null,
            "_model_name": "LayoutModel",
            "justify_items": null,
            "grid_row": null,
            "max_height": null,
            "align_content": null,
            "visibility": null,
            "align_self": null,
            "height": null,
            "min_height": null,
            "padding": null,
            "grid_auto_rows": null,
            "grid_gap": null,
            "max_width": null,
            "order": null,
            "_view_module_version": "1.2.0",
            "grid_template_areas": null,
            "object_position": null,
            "object_fit": null,
            "grid_auto_columns": null,
            "margin": null,
            "display": null,
            "left": null
          }
        },
        "d9dbd26009db40c889b8f8bb6bc4b83f": {
          "model_module": "@jupyter-widgets/controls",
          "model_name": "DescriptionStyleModel",
          "state": {
            "_view_name": "StyleView",
            "_model_name": "DescriptionStyleModel",
            "description_width": "",
            "_view_module": "@jupyter-widgets/base",
            "_model_module_version": "1.5.0",
            "_view_count": null,
            "_view_module_version": "1.2.0",
            "_model_module": "@jupyter-widgets/controls"
          }
        },
        "bb68643837f2456ba876b9c7dfe0d162": {
          "model_module": "@jupyter-widgets/base",
          "model_name": "LayoutModel",
          "state": {
            "_view_name": "LayoutView",
            "grid_template_rows": null,
            "right": null,
            "justify_content": null,
            "_view_module": "@jupyter-widgets/base",
            "overflow": null,
            "_model_module_version": "1.2.0",
            "_view_count": null,
            "flex_flow": null,
            "width": null,
            "min_width": null,
            "border": null,
            "align_items": null,
            "bottom": null,
            "_model_module": "@jupyter-widgets/base",
            "top": null,
            "grid_column": null,
            "overflow_y": null,
            "overflow_x": null,
            "grid_auto_flow": null,
            "grid_area": null,
            "grid_template_columns": null,
            "flex": null,
            "_model_name": "LayoutModel",
            "justify_items": null,
            "grid_row": null,
            "max_height": null,
            "align_content": null,
            "visibility": null,
            "align_self": null,
            "height": null,
            "min_height": null,
            "padding": null,
            "grid_auto_rows": null,
            "grid_gap": null,
            "max_width": null,
            "order": null,
            "_view_module_version": "1.2.0",
            "grid_template_areas": null,
            "object_position": null,
            "object_fit": null,
            "grid_auto_columns": null,
            "margin": null,
            "display": null,
            "left": null
          }
        },
        "02e89e4e86c34269921dc9e91f0d674d": {
          "model_module": "@jupyter-widgets/controls",
          "model_name": "HBoxModel",
          "state": {
            "_view_name": "HBoxView",
            "_dom_classes": [],
            "_model_name": "HBoxModel",
            "_view_module": "@jupyter-widgets/controls",
            "_model_module_version": "1.5.0",
            "_view_count": null,
            "_view_module_version": "1.5.0",
            "box_style": "",
            "layout": "IPY_MODEL_e13e224b75cf47418ecdd74524af18dd",
            "_model_module": "@jupyter-widgets/controls",
            "children": [
              "IPY_MODEL_abd0e2b7c9a746acad1af5ee6ec23048",
              "IPY_MODEL_4e4469fa802945399d3408f6f448f894"
            ]
          }
        },
        "e13e224b75cf47418ecdd74524af18dd": {
          "model_module": "@jupyter-widgets/base",
          "model_name": "LayoutModel",
          "state": {
            "_view_name": "LayoutView",
            "grid_template_rows": null,
            "right": null,
            "justify_content": null,
            "_view_module": "@jupyter-widgets/base",
            "overflow": null,
            "_model_module_version": "1.2.0",
            "_view_count": null,
            "flex_flow": null,
            "width": null,
            "min_width": null,
            "border": null,
            "align_items": null,
            "bottom": null,
            "_model_module": "@jupyter-widgets/base",
            "top": null,
            "grid_column": null,
            "overflow_y": null,
            "overflow_x": null,
            "grid_auto_flow": null,
            "grid_area": null,
            "grid_template_columns": null,
            "flex": null,
            "_model_name": "LayoutModel",
            "justify_items": null,
            "grid_row": null,
            "max_height": null,
            "align_content": null,
            "visibility": null,
            "align_self": null,
            "height": null,
            "min_height": null,
            "padding": null,
            "grid_auto_rows": null,
            "grid_gap": null,
            "max_width": null,
            "order": null,
            "_view_module_version": "1.2.0",
            "grid_template_areas": null,
            "object_position": null,
            "object_fit": null,
            "grid_auto_columns": null,
            "margin": null,
            "display": null,
            "left": null
          }
        },
        "abd0e2b7c9a746acad1af5ee6ec23048": {
          "model_module": "@jupyter-widgets/controls",
          "model_name": "FloatProgressModel",
          "state": {
            "_view_name": "ProgressView",
            "style": "IPY_MODEL_f5b15cd87a194ee6a23c9b79631b3232",
            "_dom_classes": [],
            "description": "epoch 8: 100%",
            "_model_name": "FloatProgressModel",
            "bar_style": "success",
            "max": 4440,
            "_view_module": "@jupyter-widgets/controls",
            "_model_module_version": "1.5.0",
            "value": 4440,
            "_view_count": null,
            "_view_module_version": "1.5.0",
            "orientation": "horizontal",
            "min": 0,
            "description_tooltip": null,
            "_model_module": "@jupyter-widgets/controls",
            "layout": "IPY_MODEL_55549433685842a7b28f838c69caa904"
          }
        },
        "4e4469fa802945399d3408f6f448f894": {
          "model_module": "@jupyter-widgets/controls",
          "model_name": "HTMLModel",
          "state": {
            "_view_name": "HTMLView",
            "style": "IPY_MODEL_fa2a5e9209e6486d86e9b999b4829a01",
            "_dom_classes": [],
            "description": "",
            "_model_name": "HTMLModel",
            "placeholder": "​",
            "_view_module": "@jupyter-widgets/controls",
            "_model_module_version": "1.5.0",
            "value": " 4440/4440 [00:22&lt;00:00, 200.57it/s]",
            "_view_count": null,
            "_view_module_version": "1.5.0",
            "description_tooltip": null,
            "_model_module": "@jupyter-widgets/controls",
            "layout": "IPY_MODEL_a552012f7d674f47b6e8e2c1ccc2047a"
          }
        },
        "f5b15cd87a194ee6a23c9b79631b3232": {
          "model_module": "@jupyter-widgets/controls",
          "model_name": "ProgressStyleModel",
          "state": {
            "_view_name": "StyleView",
            "_model_name": "ProgressStyleModel",
            "description_width": "initial",
            "_view_module": "@jupyter-widgets/base",
            "_model_module_version": "1.5.0",
            "_view_count": null,
            "_view_module_version": "1.2.0",
            "bar_color": null,
            "_model_module": "@jupyter-widgets/controls"
          }
        },
        "55549433685842a7b28f838c69caa904": {
          "model_module": "@jupyter-widgets/base",
          "model_name": "LayoutModel",
          "state": {
            "_view_name": "LayoutView",
            "grid_template_rows": null,
            "right": null,
            "justify_content": null,
            "_view_module": "@jupyter-widgets/base",
            "overflow": null,
            "_model_module_version": "1.2.0",
            "_view_count": null,
            "flex_flow": null,
            "width": null,
            "min_width": null,
            "border": null,
            "align_items": null,
            "bottom": null,
            "_model_module": "@jupyter-widgets/base",
            "top": null,
            "grid_column": null,
            "overflow_y": null,
            "overflow_x": null,
            "grid_auto_flow": null,
            "grid_area": null,
            "grid_template_columns": null,
            "flex": null,
            "_model_name": "LayoutModel",
            "justify_items": null,
            "grid_row": null,
            "max_height": null,
            "align_content": null,
            "visibility": null,
            "align_self": null,
            "height": null,
            "min_height": null,
            "padding": null,
            "grid_auto_rows": null,
            "grid_gap": null,
            "max_width": null,
            "order": null,
            "_view_module_version": "1.2.0",
            "grid_template_areas": null,
            "object_position": null,
            "object_fit": null,
            "grid_auto_columns": null,
            "margin": null,
            "display": null,
            "left": null
          }
        },
        "fa2a5e9209e6486d86e9b999b4829a01": {
          "model_module": "@jupyter-widgets/controls",
          "model_name": "DescriptionStyleModel",
          "state": {
            "_view_name": "StyleView",
            "_model_name": "DescriptionStyleModel",
            "description_width": "",
            "_view_module": "@jupyter-widgets/base",
            "_model_module_version": "1.5.0",
            "_view_count": null,
            "_view_module_version": "1.2.0",
            "_model_module": "@jupyter-widgets/controls"
          }
        },
        "a552012f7d674f47b6e8e2c1ccc2047a": {
          "model_module": "@jupyter-widgets/base",
          "model_name": "LayoutModel",
          "state": {
            "_view_name": "LayoutView",
            "grid_template_rows": null,
            "right": null,
            "justify_content": null,
            "_view_module": "@jupyter-widgets/base",
            "overflow": null,
            "_model_module_version": "1.2.0",
            "_view_count": null,
            "flex_flow": null,
            "width": null,
            "min_width": null,
            "border": null,
            "align_items": null,
            "bottom": null,
            "_model_module": "@jupyter-widgets/base",
            "top": null,
            "grid_column": null,
            "overflow_y": null,
            "overflow_x": null,
            "grid_auto_flow": null,
            "grid_area": null,
            "grid_template_columns": null,
            "flex": null,
            "_model_name": "LayoutModel",
            "justify_items": null,
            "grid_row": null,
            "max_height": null,
            "align_content": null,
            "visibility": null,
            "align_self": null,
            "height": null,
            "min_height": null,
            "padding": null,
            "grid_auto_rows": null,
            "grid_gap": null,
            "max_width": null,
            "order": null,
            "_view_module_version": "1.2.0",
            "grid_template_areas": null,
            "object_position": null,
            "object_fit": null,
            "grid_auto_columns": null,
            "margin": null,
            "display": null,
            "left": null
          }
        },
        "e74058fe2498434ea0f11d155f4123ae": {
          "model_module": "@jupyter-widgets/controls",
          "model_name": "HBoxModel",
          "state": {
            "_view_name": "HBoxView",
            "_dom_classes": [],
            "_model_name": "HBoxModel",
            "_view_module": "@jupyter-widgets/controls",
            "_model_module_version": "1.5.0",
            "_view_count": null,
            "_view_module_version": "1.5.0",
            "box_style": "",
            "layout": "IPY_MODEL_47c2eba91ca54625826001e28ad30df7",
            "_model_module": "@jupyter-widgets/controls",
            "children": [
              "IPY_MODEL_02fb74a53d4c48a5a405893ae3a66d47",
              "IPY_MODEL_8ed448f3c9b5422d9ceea54083cb152b"
            ]
          }
        },
        "47c2eba91ca54625826001e28ad30df7": {
          "model_module": "@jupyter-widgets/base",
          "model_name": "LayoutModel",
          "state": {
            "_view_name": "LayoutView",
            "grid_template_rows": null,
            "right": null,
            "justify_content": null,
            "_view_module": "@jupyter-widgets/base",
            "overflow": null,
            "_model_module_version": "1.2.0",
            "_view_count": null,
            "flex_flow": null,
            "width": null,
            "min_width": null,
            "border": null,
            "align_items": null,
            "bottom": null,
            "_model_module": "@jupyter-widgets/base",
            "top": null,
            "grid_column": null,
            "overflow_y": null,
            "overflow_x": null,
            "grid_auto_flow": null,
            "grid_area": null,
            "grid_template_columns": null,
            "flex": null,
            "_model_name": "LayoutModel",
            "justify_items": null,
            "grid_row": null,
            "max_height": null,
            "align_content": null,
            "visibility": null,
            "align_self": null,
            "height": null,
            "min_height": null,
            "padding": null,
            "grid_auto_rows": null,
            "grid_gap": null,
            "max_width": null,
            "order": null,
            "_view_module_version": "1.2.0",
            "grid_template_areas": null,
            "object_position": null,
            "object_fit": null,
            "grid_auto_columns": null,
            "margin": null,
            "display": null,
            "left": null
          }
        },
        "02fb74a53d4c48a5a405893ae3a66d47": {
          "model_module": "@jupyter-widgets/controls",
          "model_name": "FloatProgressModel",
          "state": {
            "_view_name": "ProgressView",
            "style": "IPY_MODEL_39f063975c164463a04b046efe603f1d",
            "_dom_classes": [],
            "description": "epoch 9: 100%",
            "_model_name": "FloatProgressModel",
            "bar_style": "success",
            "max": 4440,
            "_view_module": "@jupyter-widgets/controls",
            "_model_module_version": "1.5.0",
            "value": 4440,
            "_view_count": null,
            "_view_module_version": "1.5.0",
            "orientation": "horizontal",
            "min": 0,
            "description_tooltip": null,
            "_model_module": "@jupyter-widgets/controls",
            "layout": "IPY_MODEL_f88fc3f50bb4450f8c92f18c8c37a68d"
          }
        },
        "8ed448f3c9b5422d9ceea54083cb152b": {
          "model_module": "@jupyter-widgets/controls",
          "model_name": "HTMLModel",
          "state": {
            "_view_name": "HTMLView",
            "style": "IPY_MODEL_a23776f4fd4b4816a7c81763342d5d39",
            "_dom_classes": [],
            "description": "",
            "_model_name": "HTMLModel",
            "placeholder": "​",
            "_view_module": "@jupyter-widgets/controls",
            "_model_module_version": "1.5.0",
            "value": " 4440/4440 [00:10&lt;00:00, 408.44it/s]",
            "_view_count": null,
            "_view_module_version": "1.5.0",
            "description_tooltip": null,
            "_model_module": "@jupyter-widgets/controls",
            "layout": "IPY_MODEL_d3b9115497384db8bfc27fe525a20c19"
          }
        },
        "39f063975c164463a04b046efe603f1d": {
          "model_module": "@jupyter-widgets/controls",
          "model_name": "ProgressStyleModel",
          "state": {
            "_view_name": "StyleView",
            "_model_name": "ProgressStyleModel",
            "description_width": "initial",
            "_view_module": "@jupyter-widgets/base",
            "_model_module_version": "1.5.0",
            "_view_count": null,
            "_view_module_version": "1.2.0",
            "bar_color": null,
            "_model_module": "@jupyter-widgets/controls"
          }
        },
        "f88fc3f50bb4450f8c92f18c8c37a68d": {
          "model_module": "@jupyter-widgets/base",
          "model_name": "LayoutModel",
          "state": {
            "_view_name": "LayoutView",
            "grid_template_rows": null,
            "right": null,
            "justify_content": null,
            "_view_module": "@jupyter-widgets/base",
            "overflow": null,
            "_model_module_version": "1.2.0",
            "_view_count": null,
            "flex_flow": null,
            "width": null,
            "min_width": null,
            "border": null,
            "align_items": null,
            "bottom": null,
            "_model_module": "@jupyter-widgets/base",
            "top": null,
            "grid_column": null,
            "overflow_y": null,
            "overflow_x": null,
            "grid_auto_flow": null,
            "grid_area": null,
            "grid_template_columns": null,
            "flex": null,
            "_model_name": "LayoutModel",
            "justify_items": null,
            "grid_row": null,
            "max_height": null,
            "align_content": null,
            "visibility": null,
            "align_self": null,
            "height": null,
            "min_height": null,
            "padding": null,
            "grid_auto_rows": null,
            "grid_gap": null,
            "max_width": null,
            "order": null,
            "_view_module_version": "1.2.0",
            "grid_template_areas": null,
            "object_position": null,
            "object_fit": null,
            "grid_auto_columns": null,
            "margin": null,
            "display": null,
            "left": null
          }
        },
        "a23776f4fd4b4816a7c81763342d5d39": {
          "model_module": "@jupyter-widgets/controls",
          "model_name": "DescriptionStyleModel",
          "state": {
            "_view_name": "StyleView",
            "_model_name": "DescriptionStyleModel",
            "description_width": "",
            "_view_module": "@jupyter-widgets/base",
            "_model_module_version": "1.5.0",
            "_view_count": null,
            "_view_module_version": "1.2.0",
            "_model_module": "@jupyter-widgets/controls"
          }
        },
        "d3b9115497384db8bfc27fe525a20c19": {
          "model_module": "@jupyter-widgets/base",
          "model_name": "LayoutModel",
          "state": {
            "_view_name": "LayoutView",
            "grid_template_rows": null,
            "right": null,
            "justify_content": null,
            "_view_module": "@jupyter-widgets/base",
            "overflow": null,
            "_model_module_version": "1.2.0",
            "_view_count": null,
            "flex_flow": null,
            "width": null,
            "min_width": null,
            "border": null,
            "align_items": null,
            "bottom": null,
            "_model_module": "@jupyter-widgets/base",
            "top": null,
            "grid_column": null,
            "overflow_y": null,
            "overflow_x": null,
            "grid_auto_flow": null,
            "grid_area": null,
            "grid_template_columns": null,
            "flex": null,
            "_model_name": "LayoutModel",
            "justify_items": null,
            "grid_row": null,
            "max_height": null,
            "align_content": null,
            "visibility": null,
            "align_self": null,
            "height": null,
            "min_height": null,
            "padding": null,
            "grid_auto_rows": null,
            "grid_gap": null,
            "max_width": null,
            "order": null,
            "_view_module_version": "1.2.0",
            "grid_template_areas": null,
            "object_position": null,
            "object_fit": null,
            "grid_auto_columns": null,
            "margin": null,
            "display": null,
            "left": null
          }
        },
        "4e69dafbcbd249058098d10a7268c240": {
          "model_module": "@jupyter-widgets/controls",
          "model_name": "HBoxModel",
          "state": {
            "_view_name": "HBoxView",
            "_dom_classes": [],
            "_model_name": "HBoxModel",
            "_view_module": "@jupyter-widgets/controls",
            "_model_module_version": "1.5.0",
            "_view_count": null,
            "_view_module_version": "1.5.0",
            "box_style": "",
            "layout": "IPY_MODEL_445e7d59b03247e7a0371e2d50888574",
            "_model_module": "@jupyter-widgets/controls",
            "children": [
              "IPY_MODEL_bffed0668c654a3fab07d35830a5bf9d",
              "IPY_MODEL_b03b443097ba4120b0f16c5f99891bc7"
            ]
          }
        },
        "445e7d59b03247e7a0371e2d50888574": {
          "model_module": "@jupyter-widgets/base",
          "model_name": "LayoutModel",
          "state": {
            "_view_name": "LayoutView",
            "grid_template_rows": null,
            "right": null,
            "justify_content": null,
            "_view_module": "@jupyter-widgets/base",
            "overflow": null,
            "_model_module_version": "1.2.0",
            "_view_count": null,
            "flex_flow": null,
            "width": null,
            "min_width": null,
            "border": null,
            "align_items": null,
            "bottom": null,
            "_model_module": "@jupyter-widgets/base",
            "top": null,
            "grid_column": null,
            "overflow_y": null,
            "overflow_x": null,
            "grid_auto_flow": null,
            "grid_area": null,
            "grid_template_columns": null,
            "flex": null,
            "_model_name": "LayoutModel",
            "justify_items": null,
            "grid_row": null,
            "max_height": null,
            "align_content": null,
            "visibility": null,
            "align_self": null,
            "height": null,
            "min_height": null,
            "padding": null,
            "grid_auto_rows": null,
            "grid_gap": null,
            "max_width": null,
            "order": null,
            "_view_module_version": "1.2.0",
            "grid_template_areas": null,
            "object_position": null,
            "object_fit": null,
            "grid_auto_columns": null,
            "margin": null,
            "display": null,
            "left": null
          }
        },
        "bffed0668c654a3fab07d35830a5bf9d": {
          "model_module": "@jupyter-widgets/controls",
          "model_name": "FloatProgressModel",
          "state": {
            "_view_name": "ProgressView",
            "style": "IPY_MODEL_1c77d621987148d98b8cb9225848a5e4",
            "_dom_classes": [],
            "description": "100%",
            "_model_name": "FloatProgressModel",
            "bar_style": "success",
            "max": 126304,
            "_view_module": "@jupyter-widgets/controls",
            "_model_module_version": "1.5.0",
            "value": 126304,
            "_view_count": null,
            "_view_module_version": "1.5.0",
            "orientation": "horizontal",
            "min": 0,
            "description_tooltip": null,
            "_model_module": "@jupyter-widgets/controls",
            "layout": "IPY_MODEL_fd5ba543e7ea4dfaa65420159b85d5aa"
          }
        },
        "b03b443097ba4120b0f16c5f99891bc7": {
          "model_module": "@jupyter-widgets/controls",
          "model_name": "HTMLModel",
          "state": {
            "_view_name": "HTMLView",
            "style": "IPY_MODEL_68a34b3813af40c286a423a42c4874c3",
            "_dom_classes": [],
            "description": "",
            "_model_name": "HTMLModel",
            "placeholder": "​",
            "_view_module": "@jupyter-widgets/controls",
            "_model_module_version": "1.5.0",
            "value": " 126304/126304 [00:31&lt;00:00, 3959.55it/s]",
            "_view_count": null,
            "_view_module_version": "1.5.0",
            "description_tooltip": null,
            "_model_module": "@jupyter-widgets/controls",
            "layout": "IPY_MODEL_6ab6190e385c4146896a5cbcb558174f"
          }
        },
        "1c77d621987148d98b8cb9225848a5e4": {
          "model_module": "@jupyter-widgets/controls",
          "model_name": "ProgressStyleModel",
          "state": {
            "_view_name": "StyleView",
            "_model_name": "ProgressStyleModel",
            "description_width": "initial",
            "_view_module": "@jupyter-widgets/base",
            "_model_module_version": "1.5.0",
            "_view_count": null,
            "_view_module_version": "1.2.0",
            "bar_color": null,
            "_model_module": "@jupyter-widgets/controls"
          }
        },
        "fd5ba543e7ea4dfaa65420159b85d5aa": {
          "model_module": "@jupyter-widgets/base",
          "model_name": "LayoutModel",
          "state": {
            "_view_name": "LayoutView",
            "grid_template_rows": null,
            "right": null,
            "justify_content": null,
            "_view_module": "@jupyter-widgets/base",
            "overflow": null,
            "_model_module_version": "1.2.0",
            "_view_count": null,
            "flex_flow": null,
            "width": null,
            "min_width": null,
            "border": null,
            "align_items": null,
            "bottom": null,
            "_model_module": "@jupyter-widgets/base",
            "top": null,
            "grid_column": null,
            "overflow_y": null,
            "overflow_x": null,
            "grid_auto_flow": null,
            "grid_area": null,
            "grid_template_columns": null,
            "flex": null,
            "_model_name": "LayoutModel",
            "justify_items": null,
            "grid_row": null,
            "max_height": null,
            "align_content": null,
            "visibility": null,
            "align_self": null,
            "height": null,
            "min_height": null,
            "padding": null,
            "grid_auto_rows": null,
            "grid_gap": null,
            "max_width": null,
            "order": null,
            "_view_module_version": "1.2.0",
            "grid_template_areas": null,
            "object_position": null,
            "object_fit": null,
            "grid_auto_columns": null,
            "margin": null,
            "display": null,
            "left": null
          }
        },
        "68a34b3813af40c286a423a42c4874c3": {
          "model_module": "@jupyter-widgets/controls",
          "model_name": "DescriptionStyleModel",
          "state": {
            "_view_name": "StyleView",
            "_model_name": "DescriptionStyleModel",
            "description_width": "",
            "_view_module": "@jupyter-widgets/base",
            "_model_module_version": "1.5.0",
            "_view_count": null,
            "_view_module_version": "1.2.0",
            "_model_module": "@jupyter-widgets/controls"
          }
        },
        "6ab6190e385c4146896a5cbcb558174f": {
          "model_module": "@jupyter-widgets/base",
          "model_name": "LayoutModel",
          "state": {
            "_view_name": "LayoutView",
            "grid_template_rows": null,
            "right": null,
            "justify_content": null,
            "_view_module": "@jupyter-widgets/base",
            "overflow": null,
            "_model_module_version": "1.2.0",
            "_view_count": null,
            "flex_flow": null,
            "width": null,
            "min_width": null,
            "border": null,
            "align_items": null,
            "bottom": null,
            "_model_module": "@jupyter-widgets/base",
            "top": null,
            "grid_column": null,
            "overflow_y": null,
            "overflow_x": null,
            "grid_auto_flow": null,
            "grid_area": null,
            "grid_template_columns": null,
            "flex": null,
            "_model_name": "LayoutModel",
            "justify_items": null,
            "grid_row": null,
            "max_height": null,
            "align_content": null,
            "visibility": null,
            "align_self": null,
            "height": null,
            "min_height": null,
            "padding": null,
            "grid_auto_rows": null,
            "grid_gap": null,
            "max_width": null,
            "order": null,
            "_view_module_version": "1.2.0",
            "grid_template_areas": null,
            "object_position": null,
            "object_fit": null,
            "grid_auto_columns": null,
            "margin": null,
            "display": null,
            "left": null
          }
        },
        "e7390cab51cb43ea84e90b8c9222be8e": {
          "model_module": "@jupyter-widgets/controls",
          "model_name": "HBoxModel",
          "state": {
            "_view_name": "HBoxView",
            "_dom_classes": [],
            "_model_name": "HBoxModel",
            "_view_module": "@jupyter-widgets/controls",
            "_model_module_version": "1.5.0",
            "_view_count": null,
            "_view_module_version": "1.5.0",
            "box_style": "",
            "layout": "IPY_MODEL_e3d11b351a4e4f4390429c0cbf572f82",
            "_model_module": "@jupyter-widgets/controls",
            "children": [
              "IPY_MODEL_cd236dcf681f4db698634def1a563729",
              "IPY_MODEL_05a234e228264f65939986562aad9277"
            ]
          }
        },
        "e3d11b351a4e4f4390429c0cbf572f82": {
          "model_module": "@jupyter-widgets/base",
          "model_name": "LayoutModel",
          "state": {
            "_view_name": "LayoutView",
            "grid_template_rows": null,
            "right": null,
            "justify_content": null,
            "_view_module": "@jupyter-widgets/base",
            "overflow": null,
            "_model_module_version": "1.2.0",
            "_view_count": null,
            "flex_flow": null,
            "width": null,
            "min_width": null,
            "border": null,
            "align_items": null,
            "bottom": null,
            "_model_module": "@jupyter-widgets/base",
            "top": null,
            "grid_column": null,
            "overflow_y": null,
            "overflow_x": null,
            "grid_auto_flow": null,
            "grid_area": null,
            "grid_template_columns": null,
            "flex": null,
            "_model_name": "LayoutModel",
            "justify_items": null,
            "grid_row": null,
            "max_height": null,
            "align_content": null,
            "visibility": null,
            "align_self": null,
            "height": null,
            "min_height": null,
            "padding": null,
            "grid_auto_rows": null,
            "grid_gap": null,
            "max_width": null,
            "order": null,
            "_view_module_version": "1.2.0",
            "grid_template_areas": null,
            "object_position": null,
            "object_fit": null,
            "grid_auto_columns": null,
            "margin": null,
            "display": null,
            "left": null
          }
        },
        "cd236dcf681f4db698634def1a563729": {
          "model_module": "@jupyter-widgets/controls",
          "model_name": "FloatProgressModel",
          "state": {
            "_view_name": "ProgressView",
            "style": "IPY_MODEL_e1eb585367d745dfa9f5a7401ced5594",
            "_dom_classes": [],
            "description": "100%",
            "_model_name": "FloatProgressModel",
            "bar_style": "success",
            "max": 126304,
            "_view_module": "@jupyter-widgets/controls",
            "_model_module_version": "1.5.0",
            "value": 126304,
            "_view_count": null,
            "_view_module_version": "1.5.0",
            "orientation": "horizontal",
            "min": 0,
            "description_tooltip": null,
            "_model_module": "@jupyter-widgets/controls",
            "layout": "IPY_MODEL_1d8bc58a2e43427eab51eb5255332fc3"
          }
        },
        "05a234e228264f65939986562aad9277": {
          "model_module": "@jupyter-widgets/controls",
          "model_name": "HTMLModel",
          "state": {
            "_view_name": "HTMLView",
            "style": "IPY_MODEL_2e58e538991549ccb8ab3e9ed6aec338",
            "_dom_classes": [],
            "description": "",
            "_model_name": "HTMLModel",
            "placeholder": "​",
            "_view_module": "@jupyter-widgets/controls",
            "_model_module_version": "1.5.0",
            "value": " 126304/126304 [00:30&lt;00:00, 4137.78it/s]",
            "_view_count": null,
            "_view_module_version": "1.5.0",
            "description_tooltip": null,
            "_model_module": "@jupyter-widgets/controls",
            "layout": "IPY_MODEL_90d8925fec894b24a685bfb9174f1cd3"
          }
        },
        "e1eb585367d745dfa9f5a7401ced5594": {
          "model_module": "@jupyter-widgets/controls",
          "model_name": "ProgressStyleModel",
          "state": {
            "_view_name": "StyleView",
            "_model_name": "ProgressStyleModel",
            "description_width": "initial",
            "_view_module": "@jupyter-widgets/base",
            "_model_module_version": "1.5.0",
            "_view_count": null,
            "_view_module_version": "1.2.0",
            "bar_color": null,
            "_model_module": "@jupyter-widgets/controls"
          }
        },
        "1d8bc58a2e43427eab51eb5255332fc3": {
          "model_module": "@jupyter-widgets/base",
          "model_name": "LayoutModel",
          "state": {
            "_view_name": "LayoutView",
            "grid_template_rows": null,
            "right": null,
            "justify_content": null,
            "_view_module": "@jupyter-widgets/base",
            "overflow": null,
            "_model_module_version": "1.2.0",
            "_view_count": null,
            "flex_flow": null,
            "width": null,
            "min_width": null,
            "border": null,
            "align_items": null,
            "bottom": null,
            "_model_module": "@jupyter-widgets/base",
            "top": null,
            "grid_column": null,
            "overflow_y": null,
            "overflow_x": null,
            "grid_auto_flow": null,
            "grid_area": null,
            "grid_template_columns": null,
            "flex": null,
            "_model_name": "LayoutModel",
            "justify_items": null,
            "grid_row": null,
            "max_height": null,
            "align_content": null,
            "visibility": null,
            "align_self": null,
            "height": null,
            "min_height": null,
            "padding": null,
            "grid_auto_rows": null,
            "grid_gap": null,
            "max_width": null,
            "order": null,
            "_view_module_version": "1.2.0",
            "grid_template_areas": null,
            "object_position": null,
            "object_fit": null,
            "grid_auto_columns": null,
            "margin": null,
            "display": null,
            "left": null
          }
        },
        "2e58e538991549ccb8ab3e9ed6aec338": {
          "model_module": "@jupyter-widgets/controls",
          "model_name": "DescriptionStyleModel",
          "state": {
            "_view_name": "StyleView",
            "_model_name": "DescriptionStyleModel",
            "description_width": "",
            "_view_module": "@jupyter-widgets/base",
            "_model_module_version": "1.5.0",
            "_view_count": null,
            "_view_module_version": "1.2.0",
            "_model_module": "@jupyter-widgets/controls"
          }
        },
        "90d8925fec894b24a685bfb9174f1cd3": {
          "model_module": "@jupyter-widgets/base",
          "model_name": "LayoutModel",
          "state": {
            "_view_name": "LayoutView",
            "grid_template_rows": null,
            "right": null,
            "justify_content": null,
            "_view_module": "@jupyter-widgets/base",
            "overflow": null,
            "_model_module_version": "1.2.0",
            "_view_count": null,
            "flex_flow": null,
            "width": null,
            "min_width": null,
            "border": null,
            "align_items": null,
            "bottom": null,
            "_model_module": "@jupyter-widgets/base",
            "top": null,
            "grid_column": null,
            "overflow_y": null,
            "overflow_x": null,
            "grid_auto_flow": null,
            "grid_area": null,
            "grid_template_columns": null,
            "flex": null,
            "_model_name": "LayoutModel",
            "justify_items": null,
            "grid_row": null,
            "max_height": null,
            "align_content": null,
            "visibility": null,
            "align_self": null,
            "height": null,
            "min_height": null,
            "padding": null,
            "grid_auto_rows": null,
            "grid_gap": null,
            "max_width": null,
            "order": null,
            "_view_module_version": "1.2.0",
            "grid_template_areas": null,
            "object_position": null,
            "object_fit": null,
            "grid_auto_columns": null,
            "margin": null,
            "display": null,
            "left": null
          }
        },
        "ba01d874b9ff45049ec460d81b880c0f": {
          "model_module": "@jupyter-widgets/controls",
          "model_name": "HBoxModel",
          "state": {
            "_view_name": "HBoxView",
            "_dom_classes": [],
            "_model_name": "HBoxModel",
            "_view_module": "@jupyter-widgets/controls",
            "_model_module_version": "1.5.0",
            "_view_count": null,
            "_view_module_version": "1.5.0",
            "box_style": "",
            "layout": "IPY_MODEL_aa6c1620505f4a359ea599db02ae4036",
            "_model_module": "@jupyter-widgets/controls",
            "children": [
              "IPY_MODEL_87808f51e59942eebffa4930f2c1b9e4",
              "IPY_MODEL_3835bda2f49642328aa6265ef43da2cc"
            ]
          }
        },
        "aa6c1620505f4a359ea599db02ae4036": {
          "model_module": "@jupyter-widgets/base",
          "model_name": "LayoutModel",
          "state": {
            "_view_name": "LayoutView",
            "grid_template_rows": null,
            "right": null,
            "justify_content": null,
            "_view_module": "@jupyter-widgets/base",
            "overflow": null,
            "_model_module_version": "1.2.0",
            "_view_count": null,
            "flex_flow": null,
            "width": null,
            "min_width": null,
            "border": null,
            "align_items": null,
            "bottom": null,
            "_model_module": "@jupyter-widgets/base",
            "top": null,
            "grid_column": null,
            "overflow_y": null,
            "overflow_x": null,
            "grid_auto_flow": null,
            "grid_area": null,
            "grid_template_columns": null,
            "flex": null,
            "_model_name": "LayoutModel",
            "justify_items": null,
            "grid_row": null,
            "max_height": null,
            "align_content": null,
            "visibility": null,
            "align_self": null,
            "height": null,
            "min_height": null,
            "padding": null,
            "grid_auto_rows": null,
            "grid_gap": null,
            "max_width": null,
            "order": null,
            "_view_module_version": "1.2.0",
            "grid_template_areas": null,
            "object_position": null,
            "object_fit": null,
            "grid_auto_columns": null,
            "margin": null,
            "display": null,
            "left": null
          }
        },
        "87808f51e59942eebffa4930f2c1b9e4": {
          "model_module": "@jupyter-widgets/controls",
          "model_name": "FloatProgressModel",
          "state": {
            "_view_name": "ProgressView",
            "style": "IPY_MODEL_d0b9fe39a271483592333204aa2d1caa",
            "_dom_classes": [],
            "description": "100%",
            "_model_name": "FloatProgressModel",
            "bar_style": "success",
            "max": 10,
            "_view_module": "@jupyter-widgets/controls",
            "_model_module_version": "1.5.0",
            "value": 10,
            "_view_count": null,
            "_view_module_version": "1.5.0",
            "orientation": "horizontal",
            "min": 0,
            "description_tooltip": null,
            "_model_module": "@jupyter-widgets/controls",
            "layout": "IPY_MODEL_70f924049f79449582c577f0c91b7f41"
          }
        },
        "3835bda2f49642328aa6265ef43da2cc": {
          "model_module": "@jupyter-widgets/controls",
          "model_name": "HTMLModel",
          "state": {
            "_view_name": "HTMLView",
            "style": "IPY_MODEL_1c987468bc024686903dc26bfe12f2b3",
            "_dom_classes": [],
            "description": "",
            "_model_name": "HTMLModel",
            "placeholder": "​",
            "_view_module": "@jupyter-widgets/controls",
            "_model_module_version": "1.5.0",
            "value": " 10/10 [00:03&lt;00:00,  2.83it/s]",
            "_view_count": null,
            "_view_module_version": "1.5.0",
            "description_tooltip": null,
            "_model_module": "@jupyter-widgets/controls",
            "layout": "IPY_MODEL_9d4b9987f1ef49e1905888f5de21f123"
          }
        },
        "d0b9fe39a271483592333204aa2d1caa": {
          "model_module": "@jupyter-widgets/controls",
          "model_name": "ProgressStyleModel",
          "state": {
            "_view_name": "StyleView",
            "_model_name": "ProgressStyleModel",
            "description_width": "initial",
            "_view_module": "@jupyter-widgets/base",
            "_model_module_version": "1.5.0",
            "_view_count": null,
            "_view_module_version": "1.2.0",
            "bar_color": null,
            "_model_module": "@jupyter-widgets/controls"
          }
        },
        "70f924049f79449582c577f0c91b7f41": {
          "model_module": "@jupyter-widgets/base",
          "model_name": "LayoutModel",
          "state": {
            "_view_name": "LayoutView",
            "grid_template_rows": null,
            "right": null,
            "justify_content": null,
            "_view_module": "@jupyter-widgets/base",
            "overflow": null,
            "_model_module_version": "1.2.0",
            "_view_count": null,
            "flex_flow": null,
            "width": null,
            "min_width": null,
            "border": null,
            "align_items": null,
            "bottom": null,
            "_model_module": "@jupyter-widgets/base",
            "top": null,
            "grid_column": null,
            "overflow_y": null,
            "overflow_x": null,
            "grid_auto_flow": null,
            "grid_area": null,
            "grid_template_columns": null,
            "flex": null,
            "_model_name": "LayoutModel",
            "justify_items": null,
            "grid_row": null,
            "max_height": null,
            "align_content": null,
            "visibility": null,
            "align_self": null,
            "height": null,
            "min_height": null,
            "padding": null,
            "grid_auto_rows": null,
            "grid_gap": null,
            "max_width": null,
            "order": null,
            "_view_module_version": "1.2.0",
            "grid_template_areas": null,
            "object_position": null,
            "object_fit": null,
            "grid_auto_columns": null,
            "margin": null,
            "display": null,
            "left": null
          }
        },
        "1c987468bc024686903dc26bfe12f2b3": {
          "model_module": "@jupyter-widgets/controls",
          "model_name": "DescriptionStyleModel",
          "state": {
            "_view_name": "StyleView",
            "_model_name": "DescriptionStyleModel",
            "description_width": "",
            "_view_module": "@jupyter-widgets/base",
            "_model_module_version": "1.5.0",
            "_view_count": null,
            "_view_module_version": "1.2.0",
            "_model_module": "@jupyter-widgets/controls"
          }
        },
        "9d4b9987f1ef49e1905888f5de21f123": {
          "model_module": "@jupyter-widgets/base",
          "model_name": "LayoutModel",
          "state": {
            "_view_name": "LayoutView",
            "grid_template_rows": null,
            "right": null,
            "justify_content": null,
            "_view_module": "@jupyter-widgets/base",
            "overflow": null,
            "_model_module_version": "1.2.0",
            "_view_count": null,
            "flex_flow": null,
            "width": null,
            "min_width": null,
            "border": null,
            "align_items": null,
            "bottom": null,
            "_model_module": "@jupyter-widgets/base",
            "top": null,
            "grid_column": null,
            "overflow_y": null,
            "overflow_x": null,
            "grid_auto_flow": null,
            "grid_area": null,
            "grid_template_columns": null,
            "flex": null,
            "_model_name": "LayoutModel",
            "justify_items": null,
            "grid_row": null,
            "max_height": null,
            "align_content": null,
            "visibility": null,
            "align_self": null,
            "height": null,
            "min_height": null,
            "padding": null,
            "grid_auto_rows": null,
            "grid_gap": null,
            "max_width": null,
            "order": null,
            "_view_module_version": "1.2.0",
            "grid_template_areas": null,
            "object_position": null,
            "object_fit": null,
            "grid_auto_columns": null,
            "margin": null,
            "display": null,
            "left": null
          }
        },
        "d0d1baa369be4e3cad1691576a57964e": {
          "model_module": "@jupyter-widgets/controls",
          "model_name": "HBoxModel",
          "state": {
            "_view_name": "HBoxView",
            "_dom_classes": [],
            "_model_name": "HBoxModel",
            "_view_module": "@jupyter-widgets/controls",
            "_model_module_version": "1.5.0",
            "_view_count": null,
            "_view_module_version": "1.5.0",
            "box_style": "",
            "layout": "IPY_MODEL_590f21e7ad56465f9337c7021b0b159e",
            "_model_module": "@jupyter-widgets/controls",
            "children": [
              "IPY_MODEL_8e23ba25a9bf42ddb73c9a393f02a5db",
              "IPY_MODEL_b234a0efb7e444daada285559ca6ac9d"
            ]
          }
        },
        "590f21e7ad56465f9337c7021b0b159e": {
          "model_module": "@jupyter-widgets/base",
          "model_name": "LayoutModel",
          "state": {
            "_view_name": "LayoutView",
            "grid_template_rows": null,
            "right": null,
            "justify_content": null,
            "_view_module": "@jupyter-widgets/base",
            "overflow": null,
            "_model_module_version": "1.2.0",
            "_view_count": null,
            "flex_flow": null,
            "width": null,
            "min_width": null,
            "border": null,
            "align_items": null,
            "bottom": null,
            "_model_module": "@jupyter-widgets/base",
            "top": null,
            "grid_column": null,
            "overflow_y": null,
            "overflow_x": null,
            "grid_auto_flow": null,
            "grid_area": null,
            "grid_template_columns": null,
            "flex": null,
            "_model_name": "LayoutModel",
            "justify_items": null,
            "grid_row": null,
            "max_height": null,
            "align_content": null,
            "visibility": null,
            "align_self": null,
            "height": null,
            "min_height": null,
            "padding": null,
            "grid_auto_rows": null,
            "grid_gap": null,
            "max_width": null,
            "order": null,
            "_view_module_version": "1.2.0",
            "grid_template_areas": null,
            "object_position": null,
            "object_fit": null,
            "grid_auto_columns": null,
            "margin": null,
            "display": null,
            "left": null
          }
        },
        "8e23ba25a9bf42ddb73c9a393f02a5db": {
          "model_module": "@jupyter-widgets/controls",
          "model_name": "FloatProgressModel",
          "state": {
            "_view_name": "ProgressView",
            "style": "IPY_MODEL_61dc3f74c1404a5596665aad21042de3",
            "_dom_classes": [],
            "description": "100%",
            "_model_name": "FloatProgressModel",
            "bar_style": "success",
            "max": 10,
            "_view_module": "@jupyter-widgets/controls",
            "_model_module_version": "1.5.0",
            "value": 10,
            "_view_count": null,
            "_view_module_version": "1.5.0",
            "orientation": "horizontal",
            "min": 0,
            "description_tooltip": null,
            "_model_module": "@jupyter-widgets/controls",
            "layout": "IPY_MODEL_b4eb0e681a13477d8e04c42a39c51891"
          }
        },
        "b234a0efb7e444daada285559ca6ac9d": {
          "model_module": "@jupyter-widgets/controls",
          "model_name": "HTMLModel",
          "state": {
            "_view_name": "HTMLView",
            "style": "IPY_MODEL_42efe976c6ce4acb8dc8ec9750a425de",
            "_dom_classes": [],
            "description": "",
            "_model_name": "HTMLModel",
            "placeholder": "​",
            "_view_module": "@jupyter-widgets/controls",
            "_model_module_version": "1.5.0",
            "value": " 10/10 [00:00&lt;00:00, 41.14it/s]",
            "_view_count": null,
            "_view_module_version": "1.5.0",
            "description_tooltip": null,
            "_model_module": "@jupyter-widgets/controls",
            "layout": "IPY_MODEL_bd4ebb806d0e47c1a3721a1e6ef67e6b"
          }
        },
        "61dc3f74c1404a5596665aad21042de3": {
          "model_module": "@jupyter-widgets/controls",
          "model_name": "ProgressStyleModel",
          "state": {
            "_view_name": "StyleView",
            "_model_name": "ProgressStyleModel",
            "description_width": "initial",
            "_view_module": "@jupyter-widgets/base",
            "_model_module_version": "1.5.0",
            "_view_count": null,
            "_view_module_version": "1.2.0",
            "bar_color": null,
            "_model_module": "@jupyter-widgets/controls"
          }
        },
        "b4eb0e681a13477d8e04c42a39c51891": {
          "model_module": "@jupyter-widgets/base",
          "model_name": "LayoutModel",
          "state": {
            "_view_name": "LayoutView",
            "grid_template_rows": null,
            "right": null,
            "justify_content": null,
            "_view_module": "@jupyter-widgets/base",
            "overflow": null,
            "_model_module_version": "1.2.0",
            "_view_count": null,
            "flex_flow": null,
            "width": null,
            "min_width": null,
            "border": null,
            "align_items": null,
            "bottom": null,
            "_model_module": "@jupyter-widgets/base",
            "top": null,
            "grid_column": null,
            "overflow_y": null,
            "overflow_x": null,
            "grid_auto_flow": null,
            "grid_area": null,
            "grid_template_columns": null,
            "flex": null,
            "_model_name": "LayoutModel",
            "justify_items": null,
            "grid_row": null,
            "max_height": null,
            "align_content": null,
            "visibility": null,
            "align_self": null,
            "height": null,
            "min_height": null,
            "padding": null,
            "grid_auto_rows": null,
            "grid_gap": null,
            "max_width": null,
            "order": null,
            "_view_module_version": "1.2.0",
            "grid_template_areas": null,
            "object_position": null,
            "object_fit": null,
            "grid_auto_columns": null,
            "margin": null,
            "display": null,
            "left": null
          }
        },
        "42efe976c6ce4acb8dc8ec9750a425de": {
          "model_module": "@jupyter-widgets/controls",
          "model_name": "DescriptionStyleModel",
          "state": {
            "_view_name": "StyleView",
            "_model_name": "DescriptionStyleModel",
            "description_width": "",
            "_view_module": "@jupyter-widgets/base",
            "_model_module_version": "1.5.0",
            "_view_count": null,
            "_view_module_version": "1.2.0",
            "_model_module": "@jupyter-widgets/controls"
          }
        },
        "bd4ebb806d0e47c1a3721a1e6ef67e6b": {
          "model_module": "@jupyter-widgets/base",
          "model_name": "LayoutModel",
          "state": {
            "_view_name": "LayoutView",
            "grid_template_rows": null,
            "right": null,
            "justify_content": null,
            "_view_module": "@jupyter-widgets/base",
            "overflow": null,
            "_model_module_version": "1.2.0",
            "_view_count": null,
            "flex_flow": null,
            "width": null,
            "min_width": null,
            "border": null,
            "align_items": null,
            "bottom": null,
            "_model_module": "@jupyter-widgets/base",
            "top": null,
            "grid_column": null,
            "overflow_y": null,
            "overflow_x": null,
            "grid_auto_flow": null,
            "grid_area": null,
            "grid_template_columns": null,
            "flex": null,
            "_model_name": "LayoutModel",
            "justify_items": null,
            "grid_row": null,
            "max_height": null,
            "align_content": null,
            "visibility": null,
            "align_self": null,
            "height": null,
            "min_height": null,
            "padding": null,
            "grid_auto_rows": null,
            "grid_gap": null,
            "max_width": null,
            "order": null,
            "_view_module_version": "1.2.0",
            "grid_template_areas": null,
            "object_position": null,
            "object_fit": null,
            "grid_auto_columns": null,
            "margin": null,
            "display": null,
            "left": null
          }
        },
        "7d612f62e8114ad585948387bebf4bbd": {
          "model_module": "@jupyter-widgets/controls",
          "model_name": "HBoxModel",
          "state": {
            "_view_name": "HBoxView",
            "_dom_classes": [],
            "_model_name": "HBoxModel",
            "_view_module": "@jupyter-widgets/controls",
            "_model_module_version": "1.5.0",
            "_view_count": null,
            "_view_module_version": "1.5.0",
            "box_style": "",
            "layout": "IPY_MODEL_b039f11c2fe0477eb05e06ec1859d240",
            "_model_module": "@jupyter-widgets/controls",
            "children": [
              "IPY_MODEL_9be06f980a274ba9ba841b1315c43ea9",
              "IPY_MODEL_12b02292f3a64ee69e8bea6fb7108a39"
            ]
          }
        },
        "b039f11c2fe0477eb05e06ec1859d240": {
          "model_module": "@jupyter-widgets/base",
          "model_name": "LayoutModel",
          "state": {
            "_view_name": "LayoutView",
            "grid_template_rows": null,
            "right": null,
            "justify_content": null,
            "_view_module": "@jupyter-widgets/base",
            "overflow": null,
            "_model_module_version": "1.2.0",
            "_view_count": null,
            "flex_flow": null,
            "width": null,
            "min_width": null,
            "border": null,
            "align_items": null,
            "bottom": null,
            "_model_module": "@jupyter-widgets/base",
            "top": null,
            "grid_column": null,
            "overflow_y": null,
            "overflow_x": null,
            "grid_auto_flow": null,
            "grid_area": null,
            "grid_template_columns": null,
            "flex": null,
            "_model_name": "LayoutModel",
            "justify_items": null,
            "grid_row": null,
            "max_height": null,
            "align_content": null,
            "visibility": null,
            "align_self": null,
            "height": null,
            "min_height": null,
            "padding": null,
            "grid_auto_rows": null,
            "grid_gap": null,
            "max_width": null,
            "order": null,
            "_view_module_version": "1.2.0",
            "grid_template_areas": null,
            "object_position": null,
            "object_fit": null,
            "grid_auto_columns": null,
            "margin": null,
            "display": null,
            "left": null
          }
        },
        "9be06f980a274ba9ba841b1315c43ea9": {
          "model_module": "@jupyter-widgets/controls",
          "model_name": "FloatProgressModel",
          "state": {
            "_view_name": "ProgressView",
            "style": "IPY_MODEL_c67dfe8af4e34d2fb799b371d169c943",
            "_dom_classes": [],
            "description": "100%",
            "_model_name": "FloatProgressModel",
            "bar_style": "success",
            "max": 20,
            "_view_module": "@jupyter-widgets/controls",
            "_model_module_version": "1.5.0",
            "value": 20,
            "_view_count": null,
            "_view_module_version": "1.5.0",
            "orientation": "horizontal",
            "min": 0,
            "description_tooltip": null,
            "_model_module": "@jupyter-widgets/controls",
            "layout": "IPY_MODEL_f04492342c424c19b7a0845df224ebfe"
          }
        },
        "12b02292f3a64ee69e8bea6fb7108a39": {
          "model_module": "@jupyter-widgets/controls",
          "model_name": "HTMLModel",
          "state": {
            "_view_name": "HTMLView",
            "style": "IPY_MODEL_38f92807c6134802b39d94cfba363d6b",
            "_dom_classes": [],
            "description": "",
            "_model_name": "HTMLModel",
            "placeholder": "​",
            "_view_module": "@jupyter-widgets/controls",
            "_model_module_version": "1.5.0",
            "value": " 20/20 [1:01:16&lt;00:00, 183.80s/it]",
            "_view_count": null,
            "_view_module_version": "1.5.0",
            "description_tooltip": null,
            "_model_module": "@jupyter-widgets/controls",
            "layout": "IPY_MODEL_2376b887f8e24ed2b1396e2e4523f37d"
          }
        },
        "c67dfe8af4e34d2fb799b371d169c943": {
          "model_module": "@jupyter-widgets/controls",
          "model_name": "ProgressStyleModel",
          "state": {
            "_view_name": "StyleView",
            "_model_name": "ProgressStyleModel",
            "description_width": "initial",
            "_view_module": "@jupyter-widgets/base",
            "_model_module_version": "1.5.0",
            "_view_count": null,
            "_view_module_version": "1.2.0",
            "bar_color": null,
            "_model_module": "@jupyter-widgets/controls"
          }
        },
        "f04492342c424c19b7a0845df224ebfe": {
          "model_module": "@jupyter-widgets/base",
          "model_name": "LayoutModel",
          "state": {
            "_view_name": "LayoutView",
            "grid_template_rows": null,
            "right": null,
            "justify_content": null,
            "_view_module": "@jupyter-widgets/base",
            "overflow": null,
            "_model_module_version": "1.2.0",
            "_view_count": null,
            "flex_flow": null,
            "width": null,
            "min_width": null,
            "border": null,
            "align_items": null,
            "bottom": null,
            "_model_module": "@jupyter-widgets/base",
            "top": null,
            "grid_column": null,
            "overflow_y": null,
            "overflow_x": null,
            "grid_auto_flow": null,
            "grid_area": null,
            "grid_template_columns": null,
            "flex": null,
            "_model_name": "LayoutModel",
            "justify_items": null,
            "grid_row": null,
            "max_height": null,
            "align_content": null,
            "visibility": null,
            "align_self": null,
            "height": null,
            "min_height": null,
            "padding": null,
            "grid_auto_rows": null,
            "grid_gap": null,
            "max_width": null,
            "order": null,
            "_view_module_version": "1.2.0",
            "grid_template_areas": null,
            "object_position": null,
            "object_fit": null,
            "grid_auto_columns": null,
            "margin": null,
            "display": null,
            "left": null
          }
        },
        "38f92807c6134802b39d94cfba363d6b": {
          "model_module": "@jupyter-widgets/controls",
          "model_name": "DescriptionStyleModel",
          "state": {
            "_view_name": "StyleView",
            "_model_name": "DescriptionStyleModel",
            "description_width": "",
            "_view_module": "@jupyter-widgets/base",
            "_model_module_version": "1.5.0",
            "_view_count": null,
            "_view_module_version": "1.2.0",
            "_model_module": "@jupyter-widgets/controls"
          }
        },
        "2376b887f8e24ed2b1396e2e4523f37d": {
          "model_module": "@jupyter-widgets/base",
          "model_name": "LayoutModel",
          "state": {
            "_view_name": "LayoutView",
            "grid_template_rows": null,
            "right": null,
            "justify_content": null,
            "_view_module": "@jupyter-widgets/base",
            "overflow": null,
            "_model_module_version": "1.2.0",
            "_view_count": null,
            "flex_flow": null,
            "width": null,
            "min_width": null,
            "border": null,
            "align_items": null,
            "bottom": null,
            "_model_module": "@jupyter-widgets/base",
            "top": null,
            "grid_column": null,
            "overflow_y": null,
            "overflow_x": null,
            "grid_auto_flow": null,
            "grid_area": null,
            "grid_template_columns": null,
            "flex": null,
            "_model_name": "LayoutModel",
            "justify_items": null,
            "grid_row": null,
            "max_height": null,
            "align_content": null,
            "visibility": null,
            "align_self": null,
            "height": null,
            "min_height": null,
            "padding": null,
            "grid_auto_rows": null,
            "grid_gap": null,
            "max_width": null,
            "order": null,
            "_view_module_version": "1.2.0",
            "grid_template_areas": null,
            "object_position": null,
            "object_fit": null,
            "grid_auto_columns": null,
            "margin": null,
            "display": null,
            "left": null
          }
        },
        "09a9ab7410b442cf9582006dce248195": {
          "model_module": "@jupyter-widgets/controls",
          "model_name": "HBoxModel",
          "state": {
            "_view_name": "HBoxView",
            "_dom_classes": [],
            "_model_name": "HBoxModel",
            "_view_module": "@jupyter-widgets/controls",
            "_model_module_version": "1.5.0",
            "_view_count": null,
            "_view_module_version": "1.5.0",
            "box_style": "",
            "layout": "IPY_MODEL_60b3388de00346528ede4e71a58e3e16",
            "_model_module": "@jupyter-widgets/controls",
            "children": [
              "IPY_MODEL_cc062d78f3984f8c86222c6a71acf681",
              "IPY_MODEL_a4180cc32b19450eb708a99fb90fc66c"
            ]
          }
        },
        "60b3388de00346528ede4e71a58e3e16": {
          "model_module": "@jupyter-widgets/base",
          "model_name": "LayoutModel",
          "state": {
            "_view_name": "LayoutView",
            "grid_template_rows": null,
            "right": null,
            "justify_content": null,
            "_view_module": "@jupyter-widgets/base",
            "overflow": null,
            "_model_module_version": "1.2.0",
            "_view_count": null,
            "flex_flow": null,
            "width": null,
            "min_width": null,
            "border": null,
            "align_items": null,
            "bottom": null,
            "_model_module": "@jupyter-widgets/base",
            "top": null,
            "grid_column": null,
            "overflow_y": null,
            "overflow_x": null,
            "grid_auto_flow": null,
            "grid_area": null,
            "grid_template_columns": null,
            "flex": null,
            "_model_name": "LayoutModel",
            "justify_items": null,
            "grid_row": null,
            "max_height": null,
            "align_content": null,
            "visibility": null,
            "align_self": null,
            "height": null,
            "min_height": null,
            "padding": null,
            "grid_auto_rows": null,
            "grid_gap": null,
            "max_width": null,
            "order": null,
            "_view_module_version": "1.2.0",
            "grid_template_areas": null,
            "object_position": null,
            "object_fit": null,
            "grid_auto_columns": null,
            "margin": null,
            "display": null,
            "left": null
          }
        },
        "cc062d78f3984f8c86222c6a71acf681": {
          "model_module": "@jupyter-widgets/controls",
          "model_name": "FloatProgressModel",
          "state": {
            "_view_name": "ProgressView",
            "style": "IPY_MODEL_f57144cfae4346a38f532f4e2407af41",
            "_dom_classes": [],
            "description": "100%",
            "_model_name": "FloatProgressModel",
            "bar_style": "success",
            "max": 20,
            "_view_module": "@jupyter-widgets/controls",
            "_model_module_version": "1.5.0",
            "value": 20,
            "_view_count": null,
            "_view_module_version": "1.5.0",
            "orientation": "horizontal",
            "min": 0,
            "description_tooltip": null,
            "_model_module": "@jupyter-widgets/controls",
            "layout": "IPY_MODEL_4f82d497f5cf47239e884cfa5fb9a8a6"
          }
        },
        "a4180cc32b19450eb708a99fb90fc66c": {
          "model_module": "@jupyter-widgets/controls",
          "model_name": "HTMLModel",
          "state": {
            "_view_name": "HTMLView",
            "style": "IPY_MODEL_9159d83769694a64b189d15fa38893f5",
            "_dom_classes": [],
            "description": "",
            "_model_name": "HTMLModel",
            "placeholder": "​",
            "_view_module": "@jupyter-widgets/controls",
            "_model_module_version": "1.5.0",
            "value": " 20/20 [14:05&lt;00:00, 42.29s/it]",
            "_view_count": null,
            "_view_module_version": "1.5.0",
            "description_tooltip": null,
            "_model_module": "@jupyter-widgets/controls",
            "layout": "IPY_MODEL_470127201cbf444389c49222e89ee2a1"
          }
        },
        "f57144cfae4346a38f532f4e2407af41": {
          "model_module": "@jupyter-widgets/controls",
          "model_name": "ProgressStyleModel",
          "state": {
            "_view_name": "StyleView",
            "_model_name": "ProgressStyleModel",
            "description_width": "initial",
            "_view_module": "@jupyter-widgets/base",
            "_model_module_version": "1.5.0",
            "_view_count": null,
            "_view_module_version": "1.2.0",
            "bar_color": null,
            "_model_module": "@jupyter-widgets/controls"
          }
        },
        "4f82d497f5cf47239e884cfa5fb9a8a6": {
          "model_module": "@jupyter-widgets/base",
          "model_name": "LayoutModel",
          "state": {
            "_view_name": "LayoutView",
            "grid_template_rows": null,
            "right": null,
            "justify_content": null,
            "_view_module": "@jupyter-widgets/base",
            "overflow": null,
            "_model_module_version": "1.2.0",
            "_view_count": null,
            "flex_flow": null,
            "width": null,
            "min_width": null,
            "border": null,
            "align_items": null,
            "bottom": null,
            "_model_module": "@jupyter-widgets/base",
            "top": null,
            "grid_column": null,
            "overflow_y": null,
            "overflow_x": null,
            "grid_auto_flow": null,
            "grid_area": null,
            "grid_template_columns": null,
            "flex": null,
            "_model_name": "LayoutModel",
            "justify_items": null,
            "grid_row": null,
            "max_height": null,
            "align_content": null,
            "visibility": null,
            "align_self": null,
            "height": null,
            "min_height": null,
            "padding": null,
            "grid_auto_rows": null,
            "grid_gap": null,
            "max_width": null,
            "order": null,
            "_view_module_version": "1.2.0",
            "grid_template_areas": null,
            "object_position": null,
            "object_fit": null,
            "grid_auto_columns": null,
            "margin": null,
            "display": null,
            "left": null
          }
        },
        "9159d83769694a64b189d15fa38893f5": {
          "model_module": "@jupyter-widgets/controls",
          "model_name": "DescriptionStyleModel",
          "state": {
            "_view_name": "StyleView",
            "_model_name": "DescriptionStyleModel",
            "description_width": "",
            "_view_module": "@jupyter-widgets/base",
            "_model_module_version": "1.5.0",
            "_view_count": null,
            "_view_module_version": "1.2.0",
            "_model_module": "@jupyter-widgets/controls"
          }
        },
        "470127201cbf444389c49222e89ee2a1": {
          "model_module": "@jupyter-widgets/base",
          "model_name": "LayoutModel",
          "state": {
            "_view_name": "LayoutView",
            "grid_template_rows": null,
            "right": null,
            "justify_content": null,
            "_view_module": "@jupyter-widgets/base",
            "overflow": null,
            "_model_module_version": "1.2.0",
            "_view_count": null,
            "flex_flow": null,
            "width": null,
            "min_width": null,
            "border": null,
            "align_items": null,
            "bottom": null,
            "_model_module": "@jupyter-widgets/base",
            "top": null,
            "grid_column": null,
            "overflow_y": null,
            "overflow_x": null,
            "grid_auto_flow": null,
            "grid_area": null,
            "grid_template_columns": null,
            "flex": null,
            "_model_name": "LayoutModel",
            "justify_items": null,
            "grid_row": null,
            "max_height": null,
            "align_content": null,
            "visibility": null,
            "align_self": null,
            "height": null,
            "min_height": null,
            "padding": null,
            "grid_auto_rows": null,
            "grid_gap": null,
            "max_width": null,
            "order": null,
            "_view_module_version": "1.2.0",
            "grid_template_areas": null,
            "object_position": null,
            "object_fit": null,
            "grid_auto_columns": null,
            "margin": null,
            "display": null,
            "left": null
          }
        },
        "f33645bc50744981960799bb0c0ed021": {
          "model_module": "@jupyter-widgets/controls",
          "model_name": "HBoxModel",
          "state": {
            "_view_name": "HBoxView",
            "_dom_classes": [],
            "_model_name": "HBoxModel",
            "_view_module": "@jupyter-widgets/controls",
            "_model_module_version": "1.5.0",
            "_view_count": null,
            "_view_module_version": "1.5.0",
            "box_style": "",
            "layout": "IPY_MODEL_7b33b2911f334c9295386b1fdc6f7227",
            "_model_module": "@jupyter-widgets/controls",
            "children": [
              "IPY_MODEL_c51fd271559b4e879215fcbcae1404f9",
              "IPY_MODEL_4bf10610227a4667a44f6bf697cfffc3"
            ]
          }
        },
        "7b33b2911f334c9295386b1fdc6f7227": {
          "model_module": "@jupyter-widgets/base",
          "model_name": "LayoutModel",
          "state": {
            "_view_name": "LayoutView",
            "grid_template_rows": null,
            "right": null,
            "justify_content": null,
            "_view_module": "@jupyter-widgets/base",
            "overflow": null,
            "_model_module_version": "1.2.0",
            "_view_count": null,
            "flex_flow": null,
            "width": null,
            "min_width": null,
            "border": null,
            "align_items": null,
            "bottom": null,
            "_model_module": "@jupyter-widgets/base",
            "top": null,
            "grid_column": null,
            "overflow_y": null,
            "overflow_x": null,
            "grid_auto_flow": null,
            "grid_area": null,
            "grid_template_columns": null,
            "flex": null,
            "_model_name": "LayoutModel",
            "justify_items": null,
            "grid_row": null,
            "max_height": null,
            "align_content": null,
            "visibility": null,
            "align_self": null,
            "height": null,
            "min_height": null,
            "padding": null,
            "grid_auto_rows": null,
            "grid_gap": null,
            "max_width": null,
            "order": null,
            "_view_module_version": "1.2.0",
            "grid_template_areas": null,
            "object_position": null,
            "object_fit": null,
            "grid_auto_columns": null,
            "margin": null,
            "display": null,
            "left": null
          }
        },
        "c51fd271559b4e879215fcbcae1404f9": {
          "model_module": "@jupyter-widgets/controls",
          "model_name": "FloatProgressModel",
          "state": {
            "_view_name": "ProgressView",
            "style": "IPY_MODEL_9ff59bfdff004967ac1c389880529096",
            "_dom_classes": [],
            "description": "100%",
            "_model_name": "FloatProgressModel",
            "bar_style": "success",
            "max": 10,
            "_view_module": "@jupyter-widgets/controls",
            "_model_module_version": "1.5.0",
            "value": 10,
            "_view_count": null,
            "_view_module_version": "1.5.0",
            "orientation": "horizontal",
            "min": 0,
            "description_tooltip": null,
            "_model_module": "@jupyter-widgets/controls",
            "layout": "IPY_MODEL_31c01f6b36794f49888ca2767727f67b"
          }
        },
        "4bf10610227a4667a44f6bf697cfffc3": {
          "model_module": "@jupyter-widgets/controls",
          "model_name": "HTMLModel",
          "state": {
            "_view_name": "HTMLView",
            "style": "IPY_MODEL_1af5798a668a4bd6bca0cfb4f861b3da",
            "_dom_classes": [],
            "description": "",
            "_model_name": "HTMLModel",
            "placeholder": "​",
            "_view_module": "@jupyter-widgets/controls",
            "_model_module_version": "1.5.0",
            "value": " 10/10 [00:02&lt;00:00,  3.69it/s]",
            "_view_count": null,
            "_view_module_version": "1.5.0",
            "description_tooltip": null,
            "_model_module": "@jupyter-widgets/controls",
            "layout": "IPY_MODEL_1780ca4c1e224161bd1cfa01ecfdb4f6"
          }
        },
        "9ff59bfdff004967ac1c389880529096": {
          "model_module": "@jupyter-widgets/controls",
          "model_name": "ProgressStyleModel",
          "state": {
            "_view_name": "StyleView",
            "_model_name": "ProgressStyleModel",
            "description_width": "initial",
            "_view_module": "@jupyter-widgets/base",
            "_model_module_version": "1.5.0",
            "_view_count": null,
            "_view_module_version": "1.2.0",
            "bar_color": null,
            "_model_module": "@jupyter-widgets/controls"
          }
        },
        "31c01f6b36794f49888ca2767727f67b": {
          "model_module": "@jupyter-widgets/base",
          "model_name": "LayoutModel",
          "state": {
            "_view_name": "LayoutView",
            "grid_template_rows": null,
            "right": null,
            "justify_content": null,
            "_view_module": "@jupyter-widgets/base",
            "overflow": null,
            "_model_module_version": "1.2.0",
            "_view_count": null,
            "flex_flow": null,
            "width": null,
            "min_width": null,
            "border": null,
            "align_items": null,
            "bottom": null,
            "_model_module": "@jupyter-widgets/base",
            "top": null,
            "grid_column": null,
            "overflow_y": null,
            "overflow_x": null,
            "grid_auto_flow": null,
            "grid_area": null,
            "grid_template_columns": null,
            "flex": null,
            "_model_name": "LayoutModel",
            "justify_items": null,
            "grid_row": null,
            "max_height": null,
            "align_content": null,
            "visibility": null,
            "align_self": null,
            "height": null,
            "min_height": null,
            "padding": null,
            "grid_auto_rows": null,
            "grid_gap": null,
            "max_width": null,
            "order": null,
            "_view_module_version": "1.2.0",
            "grid_template_areas": null,
            "object_position": null,
            "object_fit": null,
            "grid_auto_columns": null,
            "margin": null,
            "display": null,
            "left": null
          }
        },
        "1af5798a668a4bd6bca0cfb4f861b3da": {
          "model_module": "@jupyter-widgets/controls",
          "model_name": "DescriptionStyleModel",
          "state": {
            "_view_name": "StyleView",
            "_model_name": "DescriptionStyleModel",
            "description_width": "",
            "_view_module": "@jupyter-widgets/base",
            "_model_module_version": "1.5.0",
            "_view_count": null,
            "_view_module_version": "1.2.0",
            "_model_module": "@jupyter-widgets/controls"
          }
        },
        "1780ca4c1e224161bd1cfa01ecfdb4f6": {
          "model_module": "@jupyter-widgets/base",
          "model_name": "LayoutModel",
          "state": {
            "_view_name": "LayoutView",
            "grid_template_rows": null,
            "right": null,
            "justify_content": null,
            "_view_module": "@jupyter-widgets/base",
            "overflow": null,
            "_model_module_version": "1.2.0",
            "_view_count": null,
            "flex_flow": null,
            "width": null,
            "min_width": null,
            "border": null,
            "align_items": null,
            "bottom": null,
            "_model_module": "@jupyter-widgets/base",
            "top": null,
            "grid_column": null,
            "overflow_y": null,
            "overflow_x": null,
            "grid_auto_flow": null,
            "grid_area": null,
            "grid_template_columns": null,
            "flex": null,
            "_model_name": "LayoutModel",
            "justify_items": null,
            "grid_row": null,
            "max_height": null,
            "align_content": null,
            "visibility": null,
            "align_self": null,
            "height": null,
            "min_height": null,
            "padding": null,
            "grid_auto_rows": null,
            "grid_gap": null,
            "max_width": null,
            "order": null,
            "_view_module_version": "1.2.0",
            "grid_template_areas": null,
            "object_position": null,
            "object_fit": null,
            "grid_auto_columns": null,
            "margin": null,
            "display": null,
            "left": null
          }
        },
        "5ef5c2ba0b644bd1ae97157811129886": {
          "model_module": "@jupyter-widgets/controls",
          "model_name": "HBoxModel",
          "state": {
            "_view_name": "HBoxView",
            "_dom_classes": [],
            "_model_name": "HBoxModel",
            "_view_module": "@jupyter-widgets/controls",
            "_model_module_version": "1.5.0",
            "_view_count": null,
            "_view_module_version": "1.5.0",
            "box_style": "",
            "layout": "IPY_MODEL_02462c4491a5416d8bc57a321913ed42",
            "_model_module": "@jupyter-widgets/controls",
            "children": [
              "IPY_MODEL_fec7f90a98a44942889a4dd1e4c9222a",
              "IPY_MODEL_0140c385e539414185ea52816f16f61c"
            ]
          }
        },
        "02462c4491a5416d8bc57a321913ed42": {
          "model_module": "@jupyter-widgets/base",
          "model_name": "LayoutModel",
          "state": {
            "_view_name": "LayoutView",
            "grid_template_rows": null,
            "right": null,
            "justify_content": null,
            "_view_module": "@jupyter-widgets/base",
            "overflow": null,
            "_model_module_version": "1.2.0",
            "_view_count": null,
            "flex_flow": null,
            "width": null,
            "min_width": null,
            "border": null,
            "align_items": null,
            "bottom": null,
            "_model_module": "@jupyter-widgets/base",
            "top": null,
            "grid_column": null,
            "overflow_y": null,
            "overflow_x": null,
            "grid_auto_flow": null,
            "grid_area": null,
            "grid_template_columns": null,
            "flex": null,
            "_model_name": "LayoutModel",
            "justify_items": null,
            "grid_row": null,
            "max_height": null,
            "align_content": null,
            "visibility": null,
            "align_self": null,
            "height": null,
            "min_height": null,
            "padding": null,
            "grid_auto_rows": null,
            "grid_gap": null,
            "max_width": null,
            "order": null,
            "_view_module_version": "1.2.0",
            "grid_template_areas": null,
            "object_position": null,
            "object_fit": null,
            "grid_auto_columns": null,
            "margin": null,
            "display": null,
            "left": null
          }
        },
        "fec7f90a98a44942889a4dd1e4c9222a": {
          "model_module": "@jupyter-widgets/controls",
          "model_name": "FloatProgressModel",
          "state": {
            "_view_name": "ProgressView",
            "style": "IPY_MODEL_792800dcc8c345d0b89f15600720ffa3",
            "_dom_classes": [],
            "description": "100%",
            "_model_name": "FloatProgressModel",
            "bar_style": "success",
            "max": 20,
            "_view_module": "@jupyter-widgets/controls",
            "_model_module_version": "1.5.0",
            "value": 20,
            "_view_count": null,
            "_view_module_version": "1.5.0",
            "orientation": "horizontal",
            "min": 0,
            "description_tooltip": null,
            "_model_module": "@jupyter-widgets/controls",
            "layout": "IPY_MODEL_fdb5344999464c9193516cc70ebbdc88"
          }
        },
        "0140c385e539414185ea52816f16f61c": {
          "model_module": "@jupyter-widgets/controls",
          "model_name": "HTMLModel",
          "state": {
            "_view_name": "HTMLView",
            "style": "IPY_MODEL_e3ed8386458140ea9949a3e1bb891c10",
            "_dom_classes": [],
            "description": "",
            "_model_name": "HTMLModel",
            "placeholder": "​",
            "_view_module": "@jupyter-widgets/controls",
            "_model_module_version": "1.5.0",
            "value": " 20/20 [00:00&lt;00:00, 151.50it/s]",
            "_view_count": null,
            "_view_module_version": "1.5.0",
            "description_tooltip": null,
            "_model_module": "@jupyter-widgets/controls",
            "layout": "IPY_MODEL_513ac818896a42a9956138d5a04311de"
          }
        },
        "792800dcc8c345d0b89f15600720ffa3": {
          "model_module": "@jupyter-widgets/controls",
          "model_name": "ProgressStyleModel",
          "state": {
            "_view_name": "StyleView",
            "_model_name": "ProgressStyleModel",
            "description_width": "initial",
            "_view_module": "@jupyter-widgets/base",
            "_model_module_version": "1.5.0",
            "_view_count": null,
            "_view_module_version": "1.2.0",
            "bar_color": null,
            "_model_module": "@jupyter-widgets/controls"
          }
        },
        "fdb5344999464c9193516cc70ebbdc88": {
          "model_module": "@jupyter-widgets/base",
          "model_name": "LayoutModel",
          "state": {
            "_view_name": "LayoutView",
            "grid_template_rows": null,
            "right": null,
            "justify_content": null,
            "_view_module": "@jupyter-widgets/base",
            "overflow": null,
            "_model_module_version": "1.2.0",
            "_view_count": null,
            "flex_flow": null,
            "width": null,
            "min_width": null,
            "border": null,
            "align_items": null,
            "bottom": null,
            "_model_module": "@jupyter-widgets/base",
            "top": null,
            "grid_column": null,
            "overflow_y": null,
            "overflow_x": null,
            "grid_auto_flow": null,
            "grid_area": null,
            "grid_template_columns": null,
            "flex": null,
            "_model_name": "LayoutModel",
            "justify_items": null,
            "grid_row": null,
            "max_height": null,
            "align_content": null,
            "visibility": null,
            "align_self": null,
            "height": null,
            "min_height": null,
            "padding": null,
            "grid_auto_rows": null,
            "grid_gap": null,
            "max_width": null,
            "order": null,
            "_view_module_version": "1.2.0",
            "grid_template_areas": null,
            "object_position": null,
            "object_fit": null,
            "grid_auto_columns": null,
            "margin": null,
            "display": null,
            "left": null
          }
        },
        "e3ed8386458140ea9949a3e1bb891c10": {
          "model_module": "@jupyter-widgets/controls",
          "model_name": "DescriptionStyleModel",
          "state": {
            "_view_name": "StyleView",
            "_model_name": "DescriptionStyleModel",
            "description_width": "",
            "_view_module": "@jupyter-widgets/base",
            "_model_module_version": "1.5.0",
            "_view_count": null,
            "_view_module_version": "1.2.0",
            "_model_module": "@jupyter-widgets/controls"
          }
        },
        "513ac818896a42a9956138d5a04311de": {
          "model_module": "@jupyter-widgets/base",
          "model_name": "LayoutModel",
          "state": {
            "_view_name": "LayoutView",
            "grid_template_rows": null,
            "right": null,
            "justify_content": null,
            "_view_module": "@jupyter-widgets/base",
            "overflow": null,
            "_model_module_version": "1.2.0",
            "_view_count": null,
            "flex_flow": null,
            "width": null,
            "min_width": null,
            "border": null,
            "align_items": null,
            "bottom": null,
            "_model_module": "@jupyter-widgets/base",
            "top": null,
            "grid_column": null,
            "overflow_y": null,
            "overflow_x": null,
            "grid_auto_flow": null,
            "grid_area": null,
            "grid_template_columns": null,
            "flex": null,
            "_model_name": "LayoutModel",
            "justify_items": null,
            "grid_row": null,
            "max_height": null,
            "align_content": null,
            "visibility": null,
            "align_self": null,
            "height": null,
            "min_height": null,
            "padding": null,
            "grid_auto_rows": null,
            "grid_gap": null,
            "max_width": null,
            "order": null,
            "_view_module_version": "1.2.0",
            "grid_template_areas": null,
            "object_position": null,
            "object_fit": null,
            "grid_auto_columns": null,
            "margin": null,
            "display": null,
            "left": null
          }
        }
      }
    },
    "accelerator": "GPU"
  },
  "cells": [
    {
      "cell_type": "markdown",
      "metadata": {
        "id": "view-in-github",
        "colab_type": "text"
      },
      "source": [
        "<a href=\"https://colab.research.google.com/github/SavkinEgor/MADE_ML_Speech/blob/main/SPEECH_asr_lab_3.ipynb\" target=\"_parent\"><img src=\"https://colab.research.google.com/assets/colab-badge.svg\" alt=\"Open In Colab\"/></a>"
      ]
    },
    {
      "cell_type": "markdown",
      "metadata": {
        "id": "p4V6X26FcseO"
      },
      "source": [
        "# Практика №3\n",
        "\n",
        "Теперь в качестве акустической модели мы будем использовать простой DNN классификатор. На каждом кадре записи мы будем подавать его вектор признаков на DNN, которая будет выдавать \"распределение вероятностей\" по фонемам. Далее это распределение мы будем использовать в нашем алгоритме распознавания по словарю. Схема работы такого классификатора представлена ниже: \n",
        "\n",
        "![](https://drive.google.com/uc?export=view&id=1dv0VuE8DIoKXETbvnZq2PMixkWMCJOxr)"
      ]
    },
    {
      "cell_type": "markdown",
      "metadata": {
        "id": "rHZ_-8Zgddys"
      },
      "source": [
        "### Bootstrap"
      ]
    },
    {
      "cell_type": "code",
      "metadata": {
        "id": "Cn3HKnaHdsvg",
        "colab": {
          "base_uri": "https://localhost:8080/"
        },
        "outputId": "3de3d142-746d-42c0-9739-fa00ab139997"
      },
      "source": [
        "!gdown --id '1meikF0XqBUnVZKoY3160MQ0R25lq-EMu'\n",
        "!gdown --id '1f0LkW6I3Q5CnOThuNFAJ9umgnb2eU4Ox'\n",
        "\n",
        "!unzip -q lab2.zip\n",
        "!unzip -q train_librispeech_10h.zip\n",
        "!mv lab2 lab3\n",
        "!mv train_librispeech_10h lab3/data\n",
        "!rm -rf lab2.zip sample_data train_librispeech_10h.zip\n",
        "%cd lab3"
      ],
      "execution_count": 1,
      "outputs": [
        {
          "output_type": "stream",
          "text": [
            "Downloading...\n",
            "From: https://drive.google.com/uc?id=1meikF0XqBUnVZKoY3160MQ0R25lq-EMu\n",
            "To: /content/lab2.zip\n",
            "100% 1.66M/1.66M [00:00<00:00, 106MB/s]\n",
            "Downloading...\n",
            "From: https://drive.google.com/uc?id=1f0LkW6I3Q5CnOThuNFAJ9umgnb2eU4Ox\n",
            "To: /content/train_librispeech_10h.zip\n",
            "679MB [00:04, 150MB/s]\n",
            "/content/lab3\n"
          ],
          "name": "stdout"
        }
      ]
    },
    {
      "cell_type": "code",
      "metadata": {
        "id": "5ce6879uekCJ"
      },
      "source": [
        "import os\n",
        "import numpy as np\n",
        "import time\n",
        "from tqdm.notebook import tqdm\n",
        "import matplotlib.pyplot as plt\n",
        "import IPython.display as ipd\n",
        "import librosa, librosa.display\n",
        "import torch\n",
        "import torch.nn as nn\n",
        "import torch.functional as F\n",
        "\n",
        "\n",
        "%matplotlib inline\n",
        "plt.rcParams['figure.figsize'] = (15.0, 5.0)\n",
        "plt.rcParams['image.interpolation'] = 'nearest'\n",
        "plt.rcParams['image.cmap'] = 'gray'"
      ],
      "execution_count": 2,
      "outputs": []
    },
    {
      "cell_type": "code",
      "metadata": {
        "id": "962pS6h8e1kp",
        "colab": {
          "base_uri": "https://localhost:8080/",
          "height": 67,
          "referenced_widgets": [
            "6dd38f500e9142c2a36a6fedcac8de0b",
            "05039c6f4b984788b033a2af59972502",
            "5e8929c07b2b44fa9d06cba61a68220d",
            "11cd07a1550141a4a634ef1b431ac1d3",
            "d05d1815b223490f8137093954012006",
            "c5e8b6a344ce44299090517cddad9f92",
            "d5e25f1c18b24c5b82cbe84bc640bd9c",
            "fc66c97daaa143928e3f06da980b9a14"
          ]
        },
        "outputId": "a018f31d-0e9d-4411-9c3d-7952bdaae418"
      },
      "source": [
        "# загрузка списка допустимых фонем:\n",
        "def load_phones_dict(phones_file):\n",
        "    phones_dict = {}\n",
        "    with open(phones_file, encoding='utf-8') as fn:\n",
        "        for index, line in enumerate(fn):\n",
        "            phones_dict[line.strip()] = index\n",
        "    return phones_dict\n",
        "\n",
        "# загрузка покадровой фонемной разметки в словарь:\n",
        "def load_phone_aligment(aligment_file):\n",
        "    ali_dict = {}\n",
        "    with open(aligment_file, encoding='utf-8') as fn:\n",
        "        for line in fn:\n",
        "            line = line.strip().split()\n",
        "            ali_dict[line[0]] = line[1:]\n",
        "    return ali_dict\n",
        "\n",
        "# подсчет акустиеских признаков для записей из папки:\n",
        "def load_data_dict(dir_path, count=None):\n",
        "    data_dict = {}\n",
        "    step = 0\n",
        "    for wav_name in tqdm(os.listdir(dir_path)):\n",
        "        x, sr = librosa.load(os.path.join(dir_path, wav_name), sr=None) \n",
        "        mfcc = librosa.feature.mfcc(x, sr=sr, n_mfcc=13, \n",
        "                                    n_fft=int(sr * 0.025),\n",
        "                                    hop_length=int(sr * 0.01))\n",
        "        step += 1\n",
        "        if count and step == count:\n",
        "            print(f'Early stop at {step}th file..')\n",
        "            break\n",
        "        data_dict[wav_name.split('.')[0]] = mfcc.T  \n",
        "    return data_dict\n",
        "\n",
        "\n",
        "phones_file = 'data/train_librispeech_10h/phones'\n",
        "phones_dict = load_phones_dict(phones_file)\n",
        "\n",
        "ali_file = 'data/train_librispeech_10h/ali_phones.txt'\n",
        "ali_dict = load_phone_aligment(ali_file)\n",
        "\n",
        "train_records_dir = 'data/train_librispeech_10h/wav_dir'\n",
        "feats_dict = load_data_dict(train_records_dir, count=1000)"
      ],
      "execution_count": 3,
      "outputs": [
        {
          "output_type": "display_data",
          "data": {
            "application/vnd.jupyter.widget-view+json": {
              "model_id": "6dd38f500e9142c2a36a6fedcac8de0b",
              "version_minor": 0,
              "version_major": 2
            },
            "text/plain": [
              "HBox(children=(FloatProgress(value=0.0, max=3000.0), HTML(value='')))"
            ]
          },
          "metadata": {
            "tags": []
          }
        },
        {
          "output_type": "stream",
          "text": [
            "Early stop at 1000th file..\n"
          ],
          "name": "stdout"
        }
      ]
    },
    {
      "cell_type": "markdown",
      "metadata": {
        "id": "uANGmL0ufNIW"
      },
      "source": [
        "### Априорная вероятность:\n",
        "\n",
        "![](https://drive.google.com/uc?export=view&id=1WhjclhXm2POYsCgvxp3iAIOvT9F_k8If)"
      ]
    },
    {
      "cell_type": "code",
      "metadata": {
        "id": "2n8qgqIrfiS_"
      },
      "source": [
        "# объединение кадров признаков с соответствующими им фонемам:\n",
        "# side_context - контест справа и слева\n",
        "def combain_data(ali_dict, feats_dict, phones_dict, side_context=None):\n",
        "    data_list = [] # соответсиве фонема - MFCC\n",
        "    priors_list = [0] * len(phones_dict) # веорятность как часто какая фонема считается\n",
        "    for file_name in feats_dict.keys():\n",
        "        file_feats = feats_dict[file_name]\n",
        "        file_ali = ali_dict[file_name]\n",
        "        for frame in range(min(len(file_feats), len(file_ali))):\n",
        "            data_list.append(np.append(file_feats[frame], phones_dict[file_ali[frame]]))\n",
        "            priors_list[phones_dict[file_ali[frame]]] += 1\n",
        "    return data_list, np.array(priors_list)/sum(priors_list)\n",
        "\n",
        "side_context = None\n",
        "data_list, priors_list = combain_data(ali_dict, feats_dict, phones_dict, side_context)\n",
        "data_list = np.random.permutation(data_list)"
      ],
      "execution_count": 4,
      "outputs": []
    },
    {
      "cell_type": "code",
      "metadata": {
        "id": "UHic9k0UcXxK"
      },
      "source": [
        "# Добавленный код\n",
        "\n",
        "# объединение кадров признаков с соответствующими им фонемам:\n",
        "# side_context - контест справа и слева\n",
        "def combain_data(ali_dict, feats_dict, phones_dict, side_context=None):\n",
        "    data_list = [] # соответсиве фонема -MFCC\n",
        "    priors_list = [0] * len(phones_dict) # веорятность как часто какая фонема считается\n",
        "    for file_name in feats_dict.keys():\n",
        "        file_feats = feats_dict[file_name]\n",
        "        file_ali = ali_dict[file_name]\n",
        "        for frame in range(1, min(len(file_feats), len(file_ali)) - 1):\n",
        "          # - - - - - - - - - - - ADDITIONAL CODE HERE - - - - - - - - - - -\n",
        "            if side_context:\n",
        "                data_list.append(np.concatenate((\n",
        "                      file_feats[frame - 1],\n",
        "                      file_feats[frame],\n",
        "                      file_feats[frame + 1],\n",
        "                      [phones_dict[file_ali[frame]]],\n",
        "                      )))\n",
        "            else:\n",
        "                data_list.append(np.append(file_feats[frame], phones_dict[file_ali[frame]]))\n",
        "            priors_list[phones_dict[file_ali[frame]]] += 1\n",
        "          # - - - - - - - - - - - ADDITIONAL CODE HERE - - - - - - - - - - -\n",
        "    return data_list, np.array(priors_list)/sum(priors_list)\n",
        "\n",
        "side_context = True # CONTEXT FLAG\n",
        "data_list, priors_list = combain_data(ali_dict, feats_dict, phones_dict, side_context)\n",
        "data_list = np.random.permutation(data_list)"
      ],
      "execution_count": 5,
      "outputs": []
    },
    {
      "cell_type": "code",
      "metadata": {
        "id": "qHLC2DdUftpu"
      },
      "source": [
        "class CommonDataSet():\n",
        "\n",
        "    def __init__(self, data_list, device, valid_proportion=0.1):\n",
        "        self.train = data_list[:int((1-valid_proportion)*len(data_list))]\n",
        "        self.valid = data_list[int((1-valid_proportion)*len(data_list)):]\n",
        "        self.device = device\n",
        "        \n",
        "    def num_batches(self, batch_size):\n",
        "        return len(self.train)//batch_size        \n",
        "        \n",
        "    def next_batch(self, batch_size):\n",
        "        for i in range(self.num_batches(batch_size)):\n",
        "            batch_xs = torch.tensor(self.train[i * batch_size:(i + 1) * batch_size, :-1], dtype=torch.float32)\n",
        "            batch_ys = torch.tensor(self.train[i * batch_size:(i + 1) * batch_size,-1].ravel(), dtype=torch.int64)\n",
        "\n",
        "            yield batch_xs.to(self.device), batch_ys.to(self.device)"
      ],
      "execution_count": 6,
      "outputs": []
    },
    {
      "cell_type": "code",
      "metadata": {
        "id": "a9uSB2Q_fu_M"
      },
      "source": [
        "class MyNet(torch.nn.Module):\n",
        "\n",
        "    def __init__(self, input_dim, output_dim):\n",
        "        super(MyNet, self).__init__()\n",
        "        # params:\n",
        "        input_dim = input_dim       # размерность входных признаков\n",
        "        n_nodes_hl1 = 256\n",
        "        n_nodes_hl2 = 256\n",
        "        n_nodes_hl3 = 256\n",
        "        n_nodes_hl4 = 256\n",
        "        output_dim = output_dim     # количество выходных классов (фонем)\n",
        "        # FC layers:\n",
        "        self.fc1 = nn.Linear(input_dim, n_nodes_hl1)\n",
        "        self.fc2 = nn.Linear(n_nodes_hl1, n_nodes_hl2)\n",
        "        self.fc3 = nn.Linear(n_nodes_hl2, n_nodes_hl3)\n",
        "        self.fc4 = nn.Linear(n_nodes_hl3, n_nodes_hl4)\n",
        "        self.fc5 = nn.Linear(n_nodes_hl4, output_dim)\n",
        "\n",
        "    def forward(self, x):\n",
        "        x = torch.relu(self.fc1(x))\n",
        "        x = torch.relu(self.fc2(x))\n",
        "        x = torch.relu(self.fc3(x))\n",
        "        x = torch.relu(self.fc4(x))\n",
        "        x = self.fc5(x)\n",
        "        return (x)"
      ],
      "execution_count": 7,
      "outputs": []
    },
    {
      "cell_type": "code",
      "metadata": {
        "id": "q7cfzedIErFI"
      },
      "source": [
        "class MyNetUpgraded(torch.nn.Module):\n",
        "\n",
        "    def __init__(self, input_dim, output_dim):\n",
        "        super(MyNetUpgraded, self).__init__()\n",
        "        # params:\n",
        "        input_dim = input_dim       # размерность входных признаков\n",
        "        n_nodes_hl1 = 512\n",
        "        n_nodes_hl2 = 512\n",
        "        n_nodes_hl3 = 256\n",
        "        n_nodes_hl4 = 256\n",
        "        output_dim = output_dim     # количество выходных классов (фонем)\n",
        "        # FC layers:\n",
        "        self.fc1 = nn.Linear(input_dim, n_nodes_hl1)\n",
        "        self.fc2 = nn.Linear(n_nodes_hl1, n_nodes_hl2)\n",
        "        self.fc3 = nn.Linear(n_nodes_hl2, n_nodes_hl3)\n",
        "        self.fc4 = nn.Linear(n_nodes_hl3, n_nodes_hl4)\n",
        "        self.fc5 = nn.Linear(n_nodes_hl4, output_dim)\n",
        "        # BN layers:\n",
        "        self.bn1 = nn.BatchNorm1d(n_nodes_hl1)\n",
        "        self.bn2 = nn.BatchNorm1d(n_nodes_hl2)\n",
        "        self.bn3 = nn.BatchNorm1d(n_nodes_hl3)\n",
        "        self.bn4 = nn.BatchNorm1d(n_nodes_hl4)\n",
        "\n",
        "    def forward(self, x):\n",
        "        x = torch.relu(self.fc1(x))\n",
        "        x = self.bn1(x)\n",
        "        x = torch.relu(self.fc2(x))\n",
        "        x = self.bn2(x)\n",
        "        x = torch.relu(self.fc3(x))\n",
        "        x = self.bn3(x)\n",
        "        x = torch.relu(self.fc4(x))\n",
        "        x = self.bn4(x)\n",
        "        x = self.fc5(x)\n",
        "        return (x)"
      ],
      "execution_count": 24,
      "outputs": []
    },
    {
      "cell_type": "code",
      "metadata": {
        "id": "W80N4NRGbYF5"
      },
      "source": [
        "class MyNetUpgraded(torch.nn.Module):\n",
        "\n",
        "    def __init__(self, input_dim, output_dim):\n",
        "        super(MyNetUpgraded, self).__init__()\n",
        "        # params:\n",
        "        input_dim = input_dim       # размерность входных признаков\n",
        "        n_nodes_hl1 = 512\n",
        "        n_nodes_hl2 = 512\n",
        "        n_nodes_hl3 = 256\n",
        "        n_nodes_hl4 = 256\n",
        "        output_dim = output_dim     # количество выходных классов (фонем)\n",
        "        # FC layers:\n",
        "        self.fc1 = nn.Linear(input_dim, n_nodes_hl1)\n",
        "        self.fc2 = nn.Linear(n_nodes_hl1, n_nodes_hl2)\n",
        "        self.fc3 = nn.Linear(n_nodes_hl2, n_nodes_hl3)\n",
        "        self.fc4 = nn.Linear(n_nodes_hl3, n_nodes_hl4)\n",
        "        self.fc5 = nn.Linear(n_nodes_hl4, output_dim)\n",
        "        # DO layers:\n",
        "        self.do1 = nn.Dropout(0.2)\n",
        "        self.do2 = nn.Dropout(0.2)\n",
        "        self.do3 = nn.Dropout(0.2)\n",
        "        self.do4 = nn.Dropout(0.2)\n",
        "\n",
        "    def forward(self, x):\n",
        "        x = torch.relu(self.fc1(x))\n",
        "        x = self.do1(x)\n",
        "        x = torch.relu(self.fc2(x))\n",
        "        x = self.do2(x)\n",
        "        x = torch.relu(self.fc3(x))\n",
        "        x = self.do3(x)\n",
        "        x = torch.relu(self.fc4(x))\n",
        "        x = self.do4(x)\n",
        "        x = self.fc5(x)\n",
        "        return (x)"
      ],
      "execution_count": 50,
      "outputs": []
    },
    {
      "cell_type": "code",
      "metadata": {
        "id": "tPtcMmosSy0K"
      },
      "source": [
        "# class MyOwnNet(torch.nn.Module):\n",
        "\n",
        "#     def __init__(self, input_dim, output_dim):\n",
        "#         super(MyOwnNet, self).__init__()\n",
        "#         # params:\n",
        "#         self.input_dim = input_dim       # размерность входных признаков\n",
        "#         self.context = 3\n",
        "\n",
        "#         n_nodes_hl1 = 3 * 8 * 256\n",
        "#         n_nodes_hl2 = 512\n",
        "#         n_nodes_hl3 = 256\n",
        "#         n_nodes_hl4 = 512\n",
        "#         output_dim = output_dim     # количество выходных классов (фонем)\n",
        "#         # FC layers:\n",
        "#         self.fc1 = nn.Linear(input_dim, n_nodes_hl1)\n",
        "#         self.fc2 = nn.Linear(n_nodes_hl1, n_nodes_hl2)\n",
        "#         self.fc3 = nn.Linear(n_nodes_hl2, n_nodes_hl3)\n",
        "#         self.fc4 = nn.Linear(n_nodes_hl3, n_nodes_hl4)\n",
        "#         self.fc5 = nn.Linear(n_nodes_hl4, output_dim)\n",
        "#         # CONV layers:\n",
        "#         self.conv1 = nn.Conv1d(in_channels=1, out_channels=4, kernel_size=3, padding=1)\n",
        "#         self.conv2 = nn.Conv1d(in_channels=4, out_channels=8, kernel_size=3, padding=1)\n",
        "#         # self.conv3 = nn.Conv1d(in_channels=4, out_channels=8, kernel_size=3, padding=1)\n",
        "#         # POOLING layers:\n",
        "#         self.pool1 = nn.AvgPool1d(4)\n",
        "#         self.pool2 = nn.AvgPool1d(8)\n",
        "#         # self.pool11 = nn.MaxPool1d(8)\n",
        "#         # BATCHNORM layers:\n",
        "#         self.batchnorm1 = nn.BatchNorm1d(4)\n",
        "#         self.batchnorm1 = nn.BatchNorm1d(8)\n",
        "#         # DROPOUT layers:\n",
        "#         self.dropout1 = nn.Dropout(0.2)\n",
        "#         self.dropout2 = nn.Dropout(0.2)\n",
        "\n",
        "#     def forward(self, x):\n",
        "#         # x = torch.relu(self.fc1(x))\n",
        "#         # x = x.reshape(self.context, 1, self.input_dim)\n",
        "#         x = x.reshape(256, 1, self.input_dim)\n",
        "#         x = self.pool1(self.conv1(x))\n",
        "#         x = self.dropout1(x)\n",
        "#         x = self.pool2(self.conv2(x))\n",
        "#         x = self.dropout2(x)\n",
        "#         # x = torch.relu(self.fc2(x))\n",
        "#         x = torch.relu(self.fc2(x))\n",
        "#         # x = torch.relu(self.fc4(x))\n",
        "#         # torch.squeeze(x)\n",
        "#         x = self.fc5(x)\n",
        "#         return (x)"
      ],
      "execution_count": 9,
      "outputs": []
    },
    {
      "cell_type": "code",
      "metadata": {
        "id": "H7gfUxteJ11O"
      },
      "source": [
        "# c1 = nn.Conv1d(1, 2, 3, padding=1)\n",
        "# p1 = nn.MaxPool1d(2)\n",
        "# b1 = nn.BatchNorm1d(2)"
      ],
      "execution_count": null,
      "outputs": []
    },
    {
      "cell_type": "code",
      "metadata": {
        "id": "AlcP13NKLspP"
      },
      "source": [
        "# tmp = torch.rand(39)"
      ],
      "execution_count": null,
      "outputs": []
    },
    {
      "cell_type": "code",
      "metadata": {
        "id": "-ubrSIIvL2hB"
      },
      "source": [
        "# res1 = c1(tmp.reshape(3,1,13))"
      ],
      "execution_count": null,
      "outputs": []
    },
    {
      "cell_type": "code",
      "metadata": {
        "id": "hddZthmFO1Lv"
      },
      "source": [
        "# res2 = p1(res1)"
      ],
      "execution_count": null,
      "outputs": []
    },
    {
      "cell_type": "code",
      "metadata": {
        "colab": {
          "base_uri": "https://localhost:8080/"
        },
        "id": "1rXKdHoBQ0GU",
        "outputId": "0bdf5f8d-a188-40d5-f85f-8c4a0d502d4d"
      },
      "source": [
        "# b1(res2).shape"
      ],
      "execution_count": null,
      "outputs": [
        {
          "output_type": "execute_result",
          "data": {
            "text/plain": [
              "torch.Size([3, 2, 6])"
            ]
          },
          "metadata": {
            "tags": []
          },
          "execution_count": 18
        }
      ]
    },
    {
      "cell_type": "code",
      "metadata": {
        "id": "m6rOW3CCd_d6"
      },
      "source": [
        "# net = MyOwnNet(input_dim=(data_list[0].shape[0] - 1),\n",
        "#             output_dim=len(phones_dict.keys())).to(device)"
      ],
      "execution_count": null,
      "outputs": []
    },
    {
      "cell_type": "code",
      "metadata": {
        "colab": {
          "base_uri": "https://localhost:8080/"
        },
        "id": "Mwz7t-uveREg",
        "outputId": "6c2f053b-0e7c-4745-b134-a37b1a366f89"
      },
      "source": [
        "9984 / 256"
      ],
      "execution_count": null,
      "outputs": [
        {
          "output_type": "execute_result",
          "data": {
            "text/plain": [
              "39.0"
            ]
          },
          "metadata": {
            "tags": []
          },
          "execution_count": 23
        }
      ]
    },
    {
      "cell_type": "code",
      "metadata": {
        "id": "d2pZS8DcPGTe"
      },
      "source": [
        "# device = torch.device('cuda' if torch.cuda.is_available() else 'cpu')\n",
        "# batch_size = 256"
      ],
      "execution_count": null,
      "outputs": []
    },
    {
      "cell_type": "code",
      "metadata": {
        "id": "ULMW9bQPekkL"
      },
      "source": [
        "# data_set = CommonDataSet(data_list, device)\n",
        "# batch_xs, batch_ys = next(data_set.next_batch(batch_size))"
      ],
      "execution_count": null,
      "outputs": []
    },
    {
      "cell_type": "code",
      "metadata": {
        "colab": {
          "base_uri": "https://localhost:8080/"
        },
        "id": "jH-fOiCPSEvY",
        "outputId": "fa9fadc3-67ae-45ae-e4b7-d51fc5cb83e0"
      },
      "source": [
        "# batch_xs.shape"
      ],
      "execution_count": null,
      "outputs": [
        {
          "output_type": "execute_result",
          "data": {
            "text/plain": [
              "torch.Size([256, 39])"
            ]
          },
          "metadata": {
            "tags": []
          },
          "execution_count": 29
        }
      ]
    },
    {
      "cell_type": "code",
      "metadata": {
        "colab": {
          "base_uri": "https://localhost:8080/",
          "height": 311
        },
        "id": "DEg3rgxgeGA3",
        "outputId": "c0030383-55c4-4a51-d745-669ff2a6cb8c"
      },
      "source": [
        "# net(batch_xs)"
      ],
      "execution_count": null,
      "outputs": [
        {
          "output_type": "error",
          "ename": "RuntimeError",
          "evalue": "ignored",
          "traceback": [
            "\u001b[0;31m---------------------------------------------------------------------------\u001b[0m",
            "\u001b[0;31mRuntimeError\u001b[0m                              Traceback (most recent call last)",
            "\u001b[0;32m<ipython-input-30-fcab9313a6cb>\u001b[0m in \u001b[0;36m<module>\u001b[0;34m()\u001b[0m\n\u001b[0;32m----> 1\u001b[0;31m \u001b[0mnet\u001b[0m\u001b[0;34m(\u001b[0m\u001b[0mbatch_xs\u001b[0m\u001b[0;34m)\u001b[0m\u001b[0;34m\u001b[0m\u001b[0;34m\u001b[0m\u001b[0m\n\u001b[0m",
            "\u001b[0;32m/usr/local/lib/python3.7/dist-packages/torch/nn/modules/module.py\u001b[0m in \u001b[0;36m_call_impl\u001b[0;34m(self, *input, **kwargs)\u001b[0m\n\u001b[1;32m    887\u001b[0m             \u001b[0mresult\u001b[0m \u001b[0;34m=\u001b[0m \u001b[0mself\u001b[0m\u001b[0;34m.\u001b[0m\u001b[0m_slow_forward\u001b[0m\u001b[0;34m(\u001b[0m\u001b[0;34m*\u001b[0m\u001b[0minput\u001b[0m\u001b[0;34m,\u001b[0m \u001b[0;34m**\u001b[0m\u001b[0mkwargs\u001b[0m\u001b[0;34m)\u001b[0m\u001b[0;34m\u001b[0m\u001b[0;34m\u001b[0m\u001b[0m\n\u001b[1;32m    888\u001b[0m         \u001b[0;32melse\u001b[0m\u001b[0;34m:\u001b[0m\u001b[0;34m\u001b[0m\u001b[0;34m\u001b[0m\u001b[0m\n\u001b[0;32m--> 889\u001b[0;31m             \u001b[0mresult\u001b[0m \u001b[0;34m=\u001b[0m \u001b[0mself\u001b[0m\u001b[0;34m.\u001b[0m\u001b[0mforward\u001b[0m\u001b[0;34m(\u001b[0m\u001b[0;34m*\u001b[0m\u001b[0minput\u001b[0m\u001b[0;34m,\u001b[0m \u001b[0;34m**\u001b[0m\u001b[0mkwargs\u001b[0m\u001b[0;34m)\u001b[0m\u001b[0;34m\u001b[0m\u001b[0;34m\u001b[0m\u001b[0m\n\u001b[0m\u001b[1;32m    890\u001b[0m         for hook in itertools.chain(\n\u001b[1;32m    891\u001b[0m                 \u001b[0m_global_forward_hooks\u001b[0m\u001b[0;34m.\u001b[0m\u001b[0mvalues\u001b[0m\u001b[0;34m(\u001b[0m\u001b[0;34m)\u001b[0m\u001b[0;34m,\u001b[0m\u001b[0;34m\u001b[0m\u001b[0;34m\u001b[0m\u001b[0m\n",
            "\u001b[0;32m<ipython-input-28-9bc40394ff96>\u001b[0m in \u001b[0;36mforward\u001b[0;34m(self, x)\u001b[0m\n\u001b[1;32m     42\u001b[0m         \u001b[0mx\u001b[0m \u001b[0;34m=\u001b[0m \u001b[0mself\u001b[0m\u001b[0;34m.\u001b[0m\u001b[0mdropout2\u001b[0m\u001b[0;34m(\u001b[0m\u001b[0mx\u001b[0m\u001b[0;34m)\u001b[0m\u001b[0;34m\u001b[0m\u001b[0;34m\u001b[0m\u001b[0m\n\u001b[1;32m     43\u001b[0m         \u001b[0;31m# x = torch.relu(self.fc2(x))\u001b[0m\u001b[0;34m\u001b[0m\u001b[0;34m\u001b[0m\u001b[0;34m\u001b[0m\u001b[0m\n\u001b[0;32m---> 44\u001b[0;31m         \u001b[0mx\u001b[0m \u001b[0;34m=\u001b[0m \u001b[0mtorch\u001b[0m\u001b[0;34m.\u001b[0m\u001b[0mrelu\u001b[0m\u001b[0;34m(\u001b[0m\u001b[0mself\u001b[0m\u001b[0;34m.\u001b[0m\u001b[0mfc2\u001b[0m\u001b[0;34m(\u001b[0m\u001b[0mx\u001b[0m\u001b[0;34m)\u001b[0m\u001b[0;34m)\u001b[0m\u001b[0;34m\u001b[0m\u001b[0;34m\u001b[0m\u001b[0m\n\u001b[0m\u001b[1;32m     45\u001b[0m         \u001b[0;31m# x = torch.relu(self.fc4(x))\u001b[0m\u001b[0;34m\u001b[0m\u001b[0;34m\u001b[0m\u001b[0;34m\u001b[0m\u001b[0m\n\u001b[1;32m     46\u001b[0m         \u001b[0;31m# torch.squeeze(x)\u001b[0m\u001b[0;34m\u001b[0m\u001b[0;34m\u001b[0m\u001b[0;34m\u001b[0m\u001b[0m\n",
            "\u001b[0;32m/usr/local/lib/python3.7/dist-packages/torch/nn/modules/module.py\u001b[0m in \u001b[0;36m_call_impl\u001b[0;34m(self, *input, **kwargs)\u001b[0m\n\u001b[1;32m    887\u001b[0m             \u001b[0mresult\u001b[0m \u001b[0;34m=\u001b[0m \u001b[0mself\u001b[0m\u001b[0;34m.\u001b[0m\u001b[0m_slow_forward\u001b[0m\u001b[0;34m(\u001b[0m\u001b[0;34m*\u001b[0m\u001b[0minput\u001b[0m\u001b[0;34m,\u001b[0m \u001b[0;34m**\u001b[0m\u001b[0mkwargs\u001b[0m\u001b[0;34m)\u001b[0m\u001b[0;34m\u001b[0m\u001b[0;34m\u001b[0m\u001b[0m\n\u001b[1;32m    888\u001b[0m         \u001b[0;32melse\u001b[0m\u001b[0;34m:\u001b[0m\u001b[0;34m\u001b[0m\u001b[0;34m\u001b[0m\u001b[0m\n\u001b[0;32m--> 889\u001b[0;31m             \u001b[0mresult\u001b[0m \u001b[0;34m=\u001b[0m \u001b[0mself\u001b[0m\u001b[0;34m.\u001b[0m\u001b[0mforward\u001b[0m\u001b[0;34m(\u001b[0m\u001b[0;34m*\u001b[0m\u001b[0minput\u001b[0m\u001b[0;34m,\u001b[0m \u001b[0;34m**\u001b[0m\u001b[0mkwargs\u001b[0m\u001b[0;34m)\u001b[0m\u001b[0;34m\u001b[0m\u001b[0;34m\u001b[0m\u001b[0m\n\u001b[0m\u001b[1;32m    890\u001b[0m         for hook in itertools.chain(\n\u001b[1;32m    891\u001b[0m                 \u001b[0m_global_forward_hooks\u001b[0m\u001b[0;34m.\u001b[0m\u001b[0mvalues\u001b[0m\u001b[0;34m(\u001b[0m\u001b[0;34m)\u001b[0m\u001b[0;34m,\u001b[0m\u001b[0;34m\u001b[0m\u001b[0;34m\u001b[0m\u001b[0m\n",
            "\u001b[0;32m/usr/local/lib/python3.7/dist-packages/torch/nn/modules/linear.py\u001b[0m in \u001b[0;36mforward\u001b[0;34m(self, input)\u001b[0m\n\u001b[1;32m     92\u001b[0m \u001b[0;34m\u001b[0m\u001b[0m\n\u001b[1;32m     93\u001b[0m     \u001b[0;32mdef\u001b[0m \u001b[0mforward\u001b[0m\u001b[0;34m(\u001b[0m\u001b[0mself\u001b[0m\u001b[0;34m,\u001b[0m \u001b[0minput\u001b[0m\u001b[0;34m:\u001b[0m \u001b[0mTensor\u001b[0m\u001b[0;34m)\u001b[0m \u001b[0;34m->\u001b[0m \u001b[0mTensor\u001b[0m\u001b[0;34m:\u001b[0m\u001b[0;34m\u001b[0m\u001b[0;34m\u001b[0m\u001b[0m\n\u001b[0;32m---> 94\u001b[0;31m         \u001b[0;32mreturn\u001b[0m \u001b[0mF\u001b[0m\u001b[0;34m.\u001b[0m\u001b[0mlinear\u001b[0m\u001b[0;34m(\u001b[0m\u001b[0minput\u001b[0m\u001b[0;34m,\u001b[0m \u001b[0mself\u001b[0m\u001b[0;34m.\u001b[0m\u001b[0mweight\u001b[0m\u001b[0;34m,\u001b[0m \u001b[0mself\u001b[0m\u001b[0;34m.\u001b[0m\u001b[0mbias\u001b[0m\u001b[0;34m)\u001b[0m\u001b[0;34m\u001b[0m\u001b[0;34m\u001b[0m\u001b[0m\n\u001b[0m\u001b[1;32m     95\u001b[0m \u001b[0;34m\u001b[0m\u001b[0m\n\u001b[1;32m     96\u001b[0m     \u001b[0;32mdef\u001b[0m \u001b[0mextra_repr\u001b[0m\u001b[0;34m(\u001b[0m\u001b[0mself\u001b[0m\u001b[0;34m)\u001b[0m \u001b[0;34m->\u001b[0m \u001b[0mstr\u001b[0m\u001b[0;34m:\u001b[0m\u001b[0;34m\u001b[0m\u001b[0;34m\u001b[0m\u001b[0m\n",
            "\u001b[0;32m/usr/local/lib/python3.7/dist-packages/torch/nn/functional.py\u001b[0m in \u001b[0;36mlinear\u001b[0;34m(input, weight, bias)\u001b[0m\n\u001b[1;32m   1751\u001b[0m     \u001b[0;32mif\u001b[0m \u001b[0mhas_torch_function_variadic\u001b[0m\u001b[0;34m(\u001b[0m\u001b[0minput\u001b[0m\u001b[0;34m,\u001b[0m \u001b[0mweight\u001b[0m\u001b[0;34m)\u001b[0m\u001b[0;34m:\u001b[0m\u001b[0;34m\u001b[0m\u001b[0;34m\u001b[0m\u001b[0m\n\u001b[1;32m   1752\u001b[0m         \u001b[0;32mreturn\u001b[0m \u001b[0mhandle_torch_function\u001b[0m\u001b[0;34m(\u001b[0m\u001b[0mlinear\u001b[0m\u001b[0;34m,\u001b[0m \u001b[0;34m(\u001b[0m\u001b[0minput\u001b[0m\u001b[0;34m,\u001b[0m \u001b[0mweight\u001b[0m\u001b[0;34m)\u001b[0m\u001b[0;34m,\u001b[0m \u001b[0minput\u001b[0m\u001b[0;34m,\u001b[0m \u001b[0mweight\u001b[0m\u001b[0;34m,\u001b[0m \u001b[0mbias\u001b[0m\u001b[0;34m=\u001b[0m\u001b[0mbias\u001b[0m\u001b[0;34m)\u001b[0m\u001b[0;34m\u001b[0m\u001b[0;34m\u001b[0m\u001b[0m\n\u001b[0;32m-> 1753\u001b[0;31m     \u001b[0;32mreturn\u001b[0m \u001b[0mtorch\u001b[0m\u001b[0;34m.\u001b[0m\u001b[0m_C\u001b[0m\u001b[0;34m.\u001b[0m\u001b[0m_nn\u001b[0m\u001b[0;34m.\u001b[0m\u001b[0mlinear\u001b[0m\u001b[0;34m(\u001b[0m\u001b[0minput\u001b[0m\u001b[0;34m,\u001b[0m \u001b[0mweight\u001b[0m\u001b[0;34m,\u001b[0m \u001b[0mbias\u001b[0m\u001b[0;34m)\u001b[0m\u001b[0;34m\u001b[0m\u001b[0;34m\u001b[0m\u001b[0m\n\u001b[0m\u001b[1;32m   1754\u001b[0m \u001b[0;34m\u001b[0m\u001b[0m\n\u001b[1;32m   1755\u001b[0m \u001b[0;34m\u001b[0m\u001b[0m\n",
            "\u001b[0;31mRuntimeError\u001b[0m: mat1 and mat2 shapes cannot be multiplied (2048x1 and 6144x512)"
          ]
        }
      ]
    },
    {
      "cell_type": "code",
      "metadata": {
        "id": "owcdDPb8fy2_",
        "colab": {
          "base_uri": "https://localhost:8080/",
          "height": 728,
          "referenced_widgets": [
            "88c324af840f421b83a30ec15f76833c",
            "8ee5d80d7a53455a8fe62b8774bed234",
            "6f54d81b8fc14deebb02b17ab82972be",
            "fb1810c046ae4d928d2c0c2cd85dc167",
            "17ba8dabc45e49c2b244881bd2fad601",
            "cd68a8a756e942b4a9514bd58046bf21",
            "e388779a854048ceaae6a7a10b016e41",
            "4cd61648380d4ea592ff5d17944ce3ec",
            "810f2999c7224e63a6966cde9502b32d",
            "9703768077f9499da1631ff4d7798440",
            "132306103cf248c5a574cc9f3bf9e990",
            "ab73972bdaef422a9d89cb8d889da4fa",
            "9274e3fa864540bd80896c3437b3a4ec",
            "ce41f0a9984a426887084ba6fda52f9d",
            "c802358ca46c481ea20c2085274c1c32",
            "e130755827c84304b4cb2f75d9e0b44e",
            "efd49a678d824d46aebcb014e1160b95",
            "3866a1e0bbf54830a23ff35d2bc5f8e4",
            "a83e991dd4574a0a87cf48413bb67510",
            "ed88206cf6ab47c4a1dea79cf5a9882f",
            "6826981d235e4eb380a641744ea0cefe",
            "993d9f6f93e6441986b4410952d97038",
            "6732c65dae6541f6a43f6e951e76f4bc",
            "534ea3b5d9a84a54b9da20382bd1c737",
            "b41332c1f47a4ef99f423d6d3b318318",
            "c6c40745095b4ae09b05b7233c49357e",
            "2fd0c3b403c041559fcd6079c23a79ff",
            "f4834e3917d34a20b72cb79d103e3229",
            "60a93b5374124095b044fb2ad781b9fe",
            "d67bb629ad3f4cdd8d7b3d408d70a11f",
            "9e49595eb68b420aac2a474d1d9591de",
            "0efb3cd2179d4acdbd8bdc1a1bcc3bb8",
            "c79e25b1b2c54963b21a59570b3ebe4e",
            "12bd7c490d0f4cd1acae3a63eac77281",
            "37785b459ce04dba88bad729d827125f",
            "6d978260b31144abb8e67d193fc7b120",
            "fdf4ae8c62fa48618551c6f63a59c862",
            "7857b6d4012f479d85221acf0760c0a4",
            "ec0d936ca79242f59bb11519d0221d8a",
            "c1c0e72fb87f4fe8880dbb779c8d3e98",
            "ba3d04f3456d42c8a62cb8dec5e1f4d9",
            "102db263c432491a9c0bcfaaa4deb567",
            "9efacd2c8b4147cc933376ee83acce70",
            "66d3d4a62f8a4ab6bdde9eddb39cd3ad",
            "3196cfb6c8be4de0b0b3935759c6fd26",
            "ad39196338da4e21b49c8c321e33f84f",
            "70404527ef3747d388a71bf15e23b362",
            "6d84a5a65c85469ebd7d6dfeb562e137",
            "42bd39e2a2f048f1a99cf4a37ba8c4f4",
            "3c12a02f2a1145cfae8691c36743c563",
            "81c6bdf725874ab49453aea31790b55d",
            "c270dc871469475c8f4a6d0079f2de87",
            "ee13a14de8334cab9bdf30548a408aca",
            "93113c990f434a348f15459feba95ce8",
            "40c18ad3881a4c19a6bf86247fd39904",
            "b978b120bb5d4c3b9dd345759f27ce4a",
            "6f9ef00e48184cd1b81bcd06c0eace94",
            "2284459edd0a4aeea8feb41112a939a1",
            "9042640cd4b54d619aca5e6fde1ee18f",
            "719ca3a74fc348ea9bf337b342ba7986",
            "6c67d31495fb49d382f71765aaa41e53",
            "7593746118744a9bb4af13bc99b868ff",
            "d9dbd26009db40c889b8f8bb6bc4b83f",
            "bb68643837f2456ba876b9c7dfe0d162",
            "02e89e4e86c34269921dc9e91f0d674d",
            "e13e224b75cf47418ecdd74524af18dd",
            "abd0e2b7c9a746acad1af5ee6ec23048",
            "4e4469fa802945399d3408f6f448f894",
            "f5b15cd87a194ee6a23c9b79631b3232",
            "55549433685842a7b28f838c69caa904",
            "fa2a5e9209e6486d86e9b999b4829a01",
            "a552012f7d674f47b6e8e2c1ccc2047a",
            "e74058fe2498434ea0f11d155f4123ae",
            "47c2eba91ca54625826001e28ad30df7",
            "02fb74a53d4c48a5a405893ae3a66d47",
            "8ed448f3c9b5422d9ceea54083cb152b",
            "39f063975c164463a04b046efe603f1d",
            "f88fc3f50bb4450f8c92f18c8c37a68d",
            "a23776f4fd4b4816a7c81763342d5d39",
            "d3b9115497384db8bfc27fe525a20c19"
          ]
        },
        "outputId": "84b4c69a-0fc6-4eb2-caab-98097c6842af"
      },
      "source": [
        "device = torch.device('cuda' if torch.cuda.is_available() else 'cpu')\n",
        "\n",
        "# load data:\n",
        "data_set = CommonDataSet(data_list, device)\n",
        "\n",
        "batch_size = 256\n",
        "\n",
        "# training network model:\n",
        "start = time.time() \n",
        "net = MyNetUpgraded(input_dim=(data_list[0].shape[0] - 1),\n",
        "            output_dim=len(phones_dict.keys())).to(device)\n",
        "criterion = nn.CrossEntropyLoss()\n",
        "optimizer = torch.optim.Adam(net.parameters(), lr=0.0001)\n",
        "\n",
        "loss_list = []\n",
        "\n",
        "print('TRAINIG IS STARTED...')\n",
        "for epoch in range(10):\n",
        "    running_loss = 0\n",
        "    counter = 0\n",
        "    for batch_xs, batch_ys in tqdm(data_set.next_batch(batch_size), \\\n",
        "                                   total=data_set.num_batches(batch_size), \\\n",
        "                                   desc='epoch {}'.format(epoch)):\n",
        "        optimizer.zero_grad()\n",
        "        output = net(batch_xs)\n",
        "\n",
        "        loss = criterion(output, batch_ys)\n",
        "        loss.backward()\n",
        "        optimizer.step()\n",
        "        \n",
        "        running_loss += loss.item()\n",
        "        counter += 1\n",
        "        \n",
        "    print('loss is: {:.4f}'.format((running_loss / counter)))\n",
        "    loss_list.append(running_loss / counter)\n",
        "    \n",
        "end = time.time()\n",
        "minutes = (end - start) // 60\n",
        "seconds = np.mod((end - start), 60)\n",
        "print('Time is: {} min {} sec'.format(int(minutes), int(seconds)))"
      ],
      "execution_count": 51,
      "outputs": [
        {
          "output_type": "stream",
          "text": [
            "TRAINIG IS STARTED...\n"
          ],
          "name": "stdout"
        },
        {
          "output_type": "display_data",
          "data": {
            "application/vnd.jupyter.widget-view+json": {
              "model_id": "88c324af840f421b83a30ec15f76833c",
              "version_minor": 0,
              "version_major": 2
            },
            "text/plain": [
              "HBox(children=(FloatProgress(value=0.0, description='epoch 0', max=4440.0, style=ProgressStyle(description_wid…"
            ]
          },
          "metadata": {
            "tags": []
          }
        },
        {
          "output_type": "stream",
          "text": [
            "\n",
            "loss is: 2.3752\n"
          ],
          "name": "stdout"
        },
        {
          "output_type": "display_data",
          "data": {
            "application/vnd.jupyter.widget-view+json": {
              "model_id": "810f2999c7224e63a6966cde9502b32d",
              "version_minor": 0,
              "version_major": 2
            },
            "text/plain": [
              "HBox(children=(FloatProgress(value=0.0, description='epoch 1', max=4440.0, style=ProgressStyle(description_wid…"
            ]
          },
          "metadata": {
            "tags": []
          }
        },
        {
          "output_type": "stream",
          "text": [
            "\n",
            "loss is: 2.0412\n"
          ],
          "name": "stdout"
        },
        {
          "output_type": "display_data",
          "data": {
            "application/vnd.jupyter.widget-view+json": {
              "model_id": "efd49a678d824d46aebcb014e1160b95",
              "version_minor": 0,
              "version_major": 2
            },
            "text/plain": [
              "HBox(children=(FloatProgress(value=0.0, description='epoch 2', max=4440.0, style=ProgressStyle(description_wid…"
            ]
          },
          "metadata": {
            "tags": []
          }
        },
        {
          "output_type": "stream",
          "text": [
            "\n",
            "loss is: 1.9517\n"
          ],
          "name": "stdout"
        },
        {
          "output_type": "display_data",
          "data": {
            "application/vnd.jupyter.widget-view+json": {
              "model_id": "b41332c1f47a4ef99f423d6d3b318318",
              "version_minor": 0,
              "version_major": 2
            },
            "text/plain": [
              "HBox(children=(FloatProgress(value=0.0, description='epoch 3', max=4440.0, style=ProgressStyle(description_wid…"
            ]
          },
          "metadata": {
            "tags": []
          }
        },
        {
          "output_type": "stream",
          "text": [
            "\n",
            "loss is: 1.9015\n"
          ],
          "name": "stdout"
        },
        {
          "output_type": "display_data",
          "data": {
            "application/vnd.jupyter.widget-view+json": {
              "model_id": "c79e25b1b2c54963b21a59570b3ebe4e",
              "version_minor": 0,
              "version_major": 2
            },
            "text/plain": [
              "HBox(children=(FloatProgress(value=0.0, description='epoch 4', max=4440.0, style=ProgressStyle(description_wid…"
            ]
          },
          "metadata": {
            "tags": []
          }
        },
        {
          "output_type": "stream",
          "text": [
            "\n",
            "loss is: 1.8687\n"
          ],
          "name": "stdout"
        },
        {
          "output_type": "display_data",
          "data": {
            "application/vnd.jupyter.widget-view+json": {
              "model_id": "ba3d04f3456d42c8a62cb8dec5e1f4d9",
              "version_minor": 0,
              "version_major": 2
            },
            "text/plain": [
              "HBox(children=(FloatProgress(value=0.0, description='epoch 5', max=4440.0, style=ProgressStyle(description_wid…"
            ]
          },
          "metadata": {
            "tags": []
          }
        },
        {
          "output_type": "stream",
          "text": [
            "\n",
            "loss is: 1.8434\n"
          ],
          "name": "stdout"
        },
        {
          "output_type": "display_data",
          "data": {
            "application/vnd.jupyter.widget-view+json": {
              "model_id": "42bd39e2a2f048f1a99cf4a37ba8c4f4",
              "version_minor": 0,
              "version_major": 2
            },
            "text/plain": [
              "HBox(children=(FloatProgress(value=0.0, description='epoch 6', max=4440.0, style=ProgressStyle(description_wid…"
            ]
          },
          "metadata": {
            "tags": []
          }
        },
        {
          "output_type": "stream",
          "text": [
            "\n",
            "loss is: 1.8253\n"
          ],
          "name": "stdout"
        },
        {
          "output_type": "display_data",
          "data": {
            "application/vnd.jupyter.widget-view+json": {
              "model_id": "6f9ef00e48184cd1b81bcd06c0eace94",
              "version_minor": 0,
              "version_major": 2
            },
            "text/plain": [
              "HBox(children=(FloatProgress(value=0.0, description='epoch 7', max=4440.0, style=ProgressStyle(description_wid…"
            ]
          },
          "metadata": {
            "tags": []
          }
        },
        {
          "output_type": "stream",
          "text": [
            "\n",
            "loss is: 1.8092\n"
          ],
          "name": "stdout"
        },
        {
          "output_type": "display_data",
          "data": {
            "application/vnd.jupyter.widget-view+json": {
              "model_id": "02e89e4e86c34269921dc9e91f0d674d",
              "version_minor": 0,
              "version_major": 2
            },
            "text/plain": [
              "HBox(children=(FloatProgress(value=0.0, description='epoch 8', max=4440.0, style=ProgressStyle(description_wid…"
            ]
          },
          "metadata": {
            "tags": []
          }
        },
        {
          "output_type": "stream",
          "text": [
            "\n",
            "loss is: 1.7953\n"
          ],
          "name": "stdout"
        },
        {
          "output_type": "display_data",
          "data": {
            "application/vnd.jupyter.widget-view+json": {
              "model_id": "e74058fe2498434ea0f11d155f4123ae",
              "version_minor": 0,
              "version_major": 2
            },
            "text/plain": [
              "HBox(children=(FloatProgress(value=0.0, description='epoch 9', max=4440.0, style=ProgressStyle(description_wid…"
            ]
          },
          "metadata": {
            "tags": []
          }
        },
        {
          "output_type": "stream",
          "text": [
            "\n",
            "loss is: 1.7828\n",
            "Time is: 1 min 50 sec\n"
          ],
          "name": "stdout"
        }
      ]
    },
    {
      "cell_type": "code",
      "metadata": {
        "id": "Eb6dlB11f9tJ",
        "colab": {
          "base_uri": "https://localhost:8080/",
          "height": 350
        },
        "outputId": "8706f0bf-bc89-40d7-dda1-943df5ddeaf3"
      },
      "source": [
        "plt.rcParams['figure.figsize'] = (15.0, 5.0)\n",
        "plt.plot(loss_list)\n",
        "plt.title('Loss per epoch')\n",
        "plt.ylabel('loss')\n",
        "plt.xlabel('epoch')\n",
        "plt.grid()\n",
        "plt.show()"
      ],
      "execution_count": 52,
      "outputs": [
        {
          "output_type": "display_data",
          "data": {
            "image/png": "[encoded data removed]",
            "text/plain": [
              "<Figure size 1080x360 with 1 Axes>"
            ]
          },
          "metadata": {
            "tags": [],
            "needs_background": "light"
          }
        }
      ]
    },
    {
      "cell_type": "code",
      "metadata": {
        "colab": {
          "base_uri": "https://localhost:8080/"
        },
        "id": "a8zXzz1cXwi9",
        "outputId": "5c6fa88a-7027-4baa-86eb-6410fec150ef"
      },
      "source": [
        "ftr"
      ],
      "execution_count": 30,
      "outputs": [
        {
          "output_type": "execute_result",
          "data": {
            "text/plain": [
              "tensor([-6.3775e+02,  1.1790e+02,  8.5892e+00,  5.4900e+01, -1.7413e+01,\n",
              "         2.2536e+00,  2.6324e+01, -1.7889e+01, -1.2616e+01, -9.4394e+00,\n",
              "         2.9284e+00,  1.0748e+01,  3.4030e+00, -6.5154e+02,  1.0941e+02,\n",
              "         9.7302e+00,  6.9203e+01,  1.4413e+01, -1.0435e+01,  1.6133e+01,\n",
              "        -1.9655e+01, -2.3439e+01, -5.6126e+00,  1.3551e+01,  1.6716e+01,\n",
              "         3.8319e+00, -6.4770e+02,  1.0489e+02,  5.7841e+00,  4.9001e+01,\n",
              "         1.6701e+01, -1.4983e+01,  1.7104e+01,  1.6798e+00, -1.7255e+01,\n",
              "        -4.8204e+00,  1.8035e+01,  1.2241e+01,  2.9365e-01])"
            ]
          },
          "metadata": {
            "tags": []
          },
          "execution_count": 30
        }
      ]
    },
    {
      "cell_type": "code",
      "metadata": {
        "id": "Og_i93uLf96T",
        "colab": {
          "base_uri": "https://localhost:8080/",
          "height": 84,
          "referenced_widgets": [
            "4e69dafbcbd249058098d10a7268c240",
            "445e7d59b03247e7a0371e2d50888574",
            "bffed0668c654a3fab07d35830a5bf9d",
            "b03b443097ba4120b0f16c5f99891bc7",
            "1c77d621987148d98b8cb9225848a5e4",
            "fd5ba543e7ea4dfaa65420159b85d5aa",
            "68a34b3813af40c286a423a42c4874c3",
            "6ab6190e385c4146896a5cbcb558174f"
          ]
        },
        "outputId": "24274ef3-9851-4a21-92b9-ccd181f00caa"
      },
      "source": [
        "net.cpu()\n",
        "net.eval()\n",
        "with torch.no_grad():\n",
        "    correct_cnt = 0\n",
        "    for ftr, true_label in tqdm(zip(data_set.valid[:, :-1], data_set.valid[:, -1]), total=data_set.valid.shape[0]):\n",
        "        ftr = torch.from_numpy(ftr).float()\n",
        "        # output = net.forward(ftr.reshape(1,ftr.shape[0]))\n",
        "        output = net.forward(ftr)\n",
        "        correct_cnt += (output.argmax().item() == true_label)\n",
        "        \n",
        "    print(\"Total frame accuracy is {:.3f}\".format(correct_cnt / data_set.valid.shape[0]))"
      ],
      "execution_count": 53,
      "outputs": [
        {
          "output_type": "display_data",
          "data": {
            "application/vnd.jupyter.widget-view+json": {
              "model_id": "4e69dafbcbd249058098d10a7268c240",
              "version_minor": 0,
              "version_major": 2
            },
            "text/plain": [
              "HBox(children=(FloatProgress(value=0.0, max=126304.0), HTML(value='')))"
            ]
          },
          "metadata": {
            "tags": []
          }
        },
        {
          "output_type": "stream",
          "text": [
            "\n",
            "Total frame accuracy is 0.507\n"
          ],
          "name": "stdout"
        }
      ]
    },
    {
      "cell_type": "code",
      "metadata": {
        "id": "nVyIFfWEgHHk",
        "colab": {
          "base_uri": "https://localhost:8080/",
          "height": 1000,
          "referenced_widgets": [
            "e7390cab51cb43ea84e90b8c9222be8e",
            "e3d11b351a4e4f4390429c0cbf572f82",
            "cd236dcf681f4db698634def1a563729",
            "05a234e228264f65939986562aad9277",
            "e1eb585367d745dfa9f5a7401ced5594",
            "1d8bc58a2e43427eab51eb5255332fc3",
            "2e58e538991549ccb8ab3e9ed6aec338",
            "90d8925fec894b24a685bfb9174f1cd3"
          ]
        },
        "outputId": "10f4f83b-8a4d-4af1-e45c-89c9975bce0c"
      },
      "source": [
        "class_correct = [0 for x in range(len(phones_dict.keys()))]\n",
        "class_total = [0 for x in range(len(phones_dict.keys()))]\n",
        "net.cpu()\n",
        "with torch.no_grad():\n",
        "    for ftr, true_label in tqdm(zip(data_set.valid[:, :-1], data_set.valid[:, -1]), total=data_set.valid.shape[0]):\n",
        "        ftr = torch.from_numpy(ftr).float()\n",
        "        # output = net.forward(ftr.reshape(1,ftr.shape[0]))\n",
        "        output = net.forward(ftr)\n",
        "        predict_label = output.argmax().item()\n",
        "        \n",
        "        class_correct[predict_label] += (predict_label == int(true_label))\n",
        "        class_total[int(true_label)] += 1\n",
        "\n",
        "for idx, phone in enumerate(phones_dict.keys()):\n",
        "    if class_total[idx]:\n",
        "        print('{:3s}: {:.2f} : {}/{}'.format(phone, class_correct[idx] / class_total[idx], \\\n",
        "                                                     class_correct[idx], class_total[idx]))"
      ],
      "execution_count": 54,
      "outputs": [
        {
          "output_type": "display_data",
          "data": {
            "application/vnd.jupyter.widget-view+json": {
              "model_id": "e7390cab51cb43ea84e90b8c9222be8e",
              "version_minor": 0,
              "version_major": 2
            },
            "text/plain": [
              "HBox(children=(FloatProgress(value=0.0, max=126304.0), HTML(value='')))"
            ]
          },
          "metadata": {
            "tags": []
          }
        },
        {
          "output_type": "stream",
          "text": [
            "\n",
            "SIL: 0.97 : 21625/22388\n",
            "SPN: 0.00 : 0/551\n",
            "AA0: 0.00 : 0/38\n",
            "AA1: 0.42 : 708/1694\n",
            "AA2: 0.00 : 0/67\n",
            "AE0: 0.00 : 0/35\n",
            "AE1: 0.53 : 1941/3669\n",
            "AE2: 0.00 : 0/88\n",
            "AH0: 0.36 : 2023/5649\n",
            "AH1: 0.18 : 353/1961\n",
            "AH2: 0.00 : 0/60\n",
            "AO0: 0.00 : 0/25\n",
            "AO1: 0.39 : 732/1893\n",
            "AO2: 0.00 : 0/48\n",
            "AW0: 0.00 : 0/11\n",
            "AW1: 0.24 : 274/1126\n",
            "AW2: 0.00 : 0/47\n",
            "AY0: 0.00 : 0/27\n",
            "AY1: 0.52 : 1496/2865\n",
            "AY2: 0.00 : 0/194\n",
            "B  : 0.27 : 408/1530\n",
            "CH : 0.19 : 167/873\n",
            "D  : 0.28 : 1134/3984\n",
            "DH : 0.20 : 380/1920\n",
            "EH0: 0.00 : 0/56\n",
            "EH1: 0.26 : 751/2860\n",
            "EH2: 0.00 : 0/95\n",
            "ER0: 0.33 : 892/2665\n",
            "ER1: 0.15 : 149/966\n",
            "ER2: 0.00 : 0/17\n",
            "EY0: 0.00 : 0/32\n",
            "EY1: 0.54 : 1281/2377\n",
            "EY2: 0.00 : 0/140\n",
            "F  : 0.55 : 1295/2368\n",
            "G  : 0.07 : 51/769\n",
            "HH : 0.37 : 802/2153\n",
            "IH0: 0.09 : 235/2729\n",
            "IH1: 0.18 : 369/2061\n",
            "IH2: 0.00 : 0/116\n",
            "IY0: 0.31 : 676/2176\n",
            "IY1: 0.58 : 1340/2318\n",
            "IY2: 0.00 : 0/59\n",
            "JH : 0.15 : 102/681\n",
            "K  : 0.44 : 1314/3002\n",
            "L  : 0.60 : 2417/4015\n",
            "M  : 0.41 : 1314/3181\n",
            "N  : 0.61 : 3619/5948\n",
            "NG : 0.20 : 270/1347\n",
            "OW0: 0.00 : 0/216\n",
            "OW1: 0.38 : 719/1911\n",
            "OW2: 0.00 : 0/103\n",
            "OY1: 0.01 : 3/257\n",
            "OY2: 0.00 : 0/9\n",
            "P  : 0.26 : 583/2227\n",
            "R  : 0.57 : 2232/3897\n",
            "S  : 0.85 : 5591/6544\n",
            "SH : 0.66 : 816/1239\n",
            "T  : 0.38 : 2402/6284\n",
            "TH : 0.01 : 8/741\n",
            "UH1: 0.02 : 7/410\n",
            "UH2: 0.00 : 0/9\n",
            "UW0: 0.00 : 0/88\n",
            "UW1: 0.40 : 618/1564\n",
            "UW2: 0.00 : 0/35\n",
            "V  : 0.27 : 464/1719\n",
            "W  : 0.56 : 1271/2265\n",
            "Y  : 0.19 : 122/650\n",
            "Z  : 0.34 : 1073/3190\n",
            "ZH : 0.07 : 5/72\n"
          ],
          "name": "stdout"
        }
      ]
    },
    {
      "cell_type": "markdown",
      "metadata": {
        "id": "nIRfRzMYgNn5"
      },
      "source": [
        "### Распознавание по словарю с помощью нейронки"
      ]
    },
    {
      "cell_type": "code",
      "metadata": {
        "id": "BaGrFSm9gOYK"
      },
      "source": [
        "# теперь будем распознавать по словарю, состоящему из конечных слов\n",
        "# для этого нужно загрузить файл лексикона, который определяет из каких фонем состоят наши слова\n",
        "def load_lexicon_dict(lexicon_file):\n",
        "    lexicon_dict = {}\n",
        "    with open(lexicon_file, encoding='utf-8') as fn:\n",
        "        for line in fn:\n",
        "            line = line.strip().split()\n",
        "            lexicon_dict[line[0]] = line[1:]\n",
        "    return lexicon_dict"
      ],
      "execution_count": 38,
      "outputs": []
    },
    {
      "cell_type": "code",
      "metadata": {
        "id": "-Nyn975_gSXX"
      },
      "source": [
        "class AcousticModel:\n",
        "    def __init__(self, phone_name, phone_index, priors_list):\n",
        "        self.phone_name = phone_name\n",
        "        self.phone_index = phone_index\n",
        "        self.phone_prior = priors_list[phone_index]\n",
        "        \n",
        "    def distance(self, input_feats, nnet):\n",
        "        with torch.no_grad():\n",
        "            predicts = nnet.forward(torch.tensor(input_feats, dtype=torch.float32))\n",
        "            softmax = torch.nn.functional.softmax(predicts, dim=0)\n",
        "        return -np.log(softmax[self.phone_index].item() / self.phone_prior)\n",
        "\n",
        "class State:\n",
        "    def __init__(self, model, index):  \n",
        "        self.model = model                     # вектор признаков узла\n",
        "        self.is_final = False                  # является ли этот узел финальнвм в слове\n",
        "        self.word = None                       # слово эталона (назначается только для финального узла)\n",
        "        self.best_token = None                 # лучший токен (по минимуму дистанции) в узле\n",
        "        self.current_word = None               # текущее слово эталона\n",
        "        self.next_states = []                  # список следующих узлов\n",
        "        self.index = index                     # индекс узла \n",
        "\n",
        "        \n",
        "def load_graph(lexicon_dict, phones_dict, priors_list):\n",
        "    start_state = State(None, 0)\n",
        "    graph = [start_state, ]\n",
        "    state_index = 1\n",
        "    for word in lexicon_dict.keys():\n",
        "        previous_state = start_state\n",
        "        for phone in lexicon_dict[word]:\n",
        "            state = State(AcousticModel(phone, phones_dict[phone], priors_list), state_index)\n",
        "            state.current_word = word           # слово эталона теперь будет храниться в каждом узле\n",
        "            state.next_states.append(state)     # add loop\n",
        "            previous_state.next_states.append(state)\n",
        "            previous_state = state \n",
        "            graph.append(state)\n",
        "            state_index += 1\n",
        "        if state:\n",
        "            state.word = word\n",
        "            state.is_final = True\n",
        "    return graph"
      ],
      "execution_count": 55,
      "outputs": []
    },
    {
      "cell_type": "code",
      "metadata": {
        "id": "lK9ZeJzJgXp7"
      },
      "source": [
        "class Token:\n",
        "    def __init__(self, state, dist=0.0, word=\"\"):\n",
        "        self.state = state       # стейт графа, в котором токен находится в текущий момент\n",
        "        self.dist = dist         # общая накопленная дистанция пути, пройденного токеном\n",
        "        self.word = word         # слово, которое распозналось токеном\n",
        "        self.alive = True\n",
        "\n",
        "\n",
        "def beam_pruning(next_tokens, threshold):   \n",
        "    alive_tokens = [token for token in next_tokens if token.alive]\n",
        "    best_token = alive_tokens[np.argmin([token.dist for token in alive_tokens if token.alive])]\n",
        "    for token in next_tokens:\n",
        "        if token.dist > best_token.dist + threshold:\n",
        "            token.alive = False\n",
        "    return next_tokens\n",
        "\n",
        "\n",
        "def state_pruning(next_tokens):\n",
        "    for i in range(len(next_tokens)): \n",
        "        state_index = next_tokens[i].state.index\n",
        "        if not graph[state_index].best_token:\n",
        "            graph[state_index].best_token = next_tokens[i]\n",
        "        else:\n",
        "            if next_tokens[i].dist <= graph[state_index].best_token.dist:\n",
        "                graph[state_index].best_token.alive = False\n",
        "                graph[state_index].best_token = next_tokens[i]\n",
        "            else:\n",
        "                next_tokens[i].alive = False\n",
        "    for token in next_tokens:                           \n",
        "        index = token.state.index                        \n",
        "        if graph[index].best_token:                     \n",
        "            graph[index].best_token = None              \n",
        "    return next_tokens\n",
        "\n",
        "\n",
        "def recognize(filename, features, graph, nnet, recognition_results, beam_threshold):\n",
        "\n",
        "    start_state = graph[0]\n",
        "    active_tokens = [Token(start_state), ]\n",
        "    next_tokens = []\n",
        "    \n",
        "    for frame in range(len(features)):\n",
        "        ftr_frame = features[frame]\n",
        "        for token in active_tokens:\n",
        "            if token.alive:\n",
        "                for transition_state in token.state.next_states:\n",
        "                    new_token = Token(transition_state, token.dist, token.word)\n",
        "                    # Добавить констекст тоже\n",
        "                    new_token.dist += transition_state.model.distance(ftr_frame, nnet)\n",
        "                    next_tokens.append(new_token)\n",
        "        # state and beam prunings:\n",
        "        next_tokens = state_pruning(next_tokens)         \n",
        "        next_tokens = beam_pruning(next_tokens, beam_threshold) \n",
        "\n",
        "        active_tokens = next_tokens\n",
        "        next_tokens = []                                    \n",
        "        \n",
        "    # поиск финальных токенов:\n",
        "    final_tokens = []\n",
        "    for token in active_tokens:\n",
        "        if token.state.is_final and token.alive:\n",
        "            final_tokens.append(token)\n",
        "\n",
        "    # если нет финальных, то берем лучший из выживших:\n",
        "    if len(final_tokens) != 0:\n",
        "        win_token = final_tokens[np.argmin([token.dist for token in final_tokens])]\n",
        "    else:\n",
        "        alive_tokens = [token for token in active_tokens if token.alive]\n",
        "        win_token = alive_tokens[np.argmin([token.dist for token in alive_tokens])]\n",
        "        win_token.state.word = win_token.state.current_word\n",
        "\n",
        "    # вывод результата\n",
        "    print(f\"result: {filename:<27} ==> {win_token.state.word}\")\n",
        "\n",
        "    # совпадает ли запись с полученным эталоном:  \n",
        "    record_word = filename.split('_')[0]\n",
        "    etalon_word = win_token.state.word.split('_')[0]\n",
        "    recognition_results.append(etalon_word.lower() == record_word)\n",
        "\n",
        "    return recognition_results"
      ],
      "execution_count": 19,
      "outputs": []
    },
    {
      "cell_type": "code",
      "metadata": {
        "id": "WCQjf9upd_4c"
      },
      "source": [
        "def recognize(filename, features, graph, nnet, recognition_results, beam_threshold):\n",
        "\n",
        "    start_state = graph[0]\n",
        "    active_tokens = [Token(start_state), ]\n",
        "    next_tokens = []\n",
        "    \n",
        "    for frame in range(1, len(features) - 1):\n",
        "      # - - - - - - - - - - - ADDITIONAL CODE HERE - - - - - - - - - - -\n",
        "        ftr_frame = np.concatenate((features[frame - 1], features[frame], features[frame + 1]))\n",
        "      # - - - - - - - - - - - ADDITIONAL CODE HERE - - - - - - - - - - -\n",
        "        for token in active_tokens:\n",
        "            if token.alive:\n",
        "                for transition_state in token.state.next_states:\n",
        "                    new_token = Token(transition_state, token.dist, token.word)\n",
        "                    # Добавить констекст тоже\n",
        "                    new_token.dist += transition_state.model.distance(ftr_frame, nnet)\n",
        "                    next_tokens.append(new_token)\n",
        "        # state and beam prunings:\n",
        "        next_tokens = state_pruning(next_tokens)         \n",
        "        next_tokens = beam_pruning(next_tokens, beam_threshold) \n",
        "\n",
        "        active_tokens = next_tokens\n",
        "        next_tokens = []                                    \n",
        "        \n",
        "    # поиск финальных токенов:\n",
        "    final_tokens = []\n",
        "    for token in active_tokens:\n",
        "        if token.state.is_final and token.alive:\n",
        "            final_tokens.append(token)\n",
        "\n",
        "    # если нет финальных, то берем лучший из выживших:\n",
        "    if len(final_tokens) != 0:\n",
        "        win_token = final_tokens[np.argmin([token.dist for token in final_tokens])]\n",
        "    else:\n",
        "        alive_tokens = [token for token in active_tokens if token.alive]\n",
        "        win_token = alive_tokens[np.argmin([token.dist for token in alive_tokens])]\n",
        "        win_token.state.word = win_token.state.current_word\n",
        "\n",
        "    # вывод результата\n",
        "    print(f\"result: {filename:<27} ==> {win_token.state.word}\")\n",
        "\n",
        "    # совпадает ли запись с полученным эталоном:  \n",
        "    record_word = filename.split('_')[0]\n",
        "    etalon_word = win_token.state.word.split('_')[0]\n",
        "    recognition_results.append(etalon_word.lower() == record_word)\n",
        "\n",
        "    return recognition_results"
      ],
      "execution_count": 20,
      "outputs": []
    },
    {
      "cell_type": "code",
      "metadata": {
        "id": "mr-Eg4ejgait"
      },
      "source": [
        "def run_recognizer(records_data_dict, graph, nnet, beam_threshold=10):\n",
        "    start_time = time.time()\n",
        "    recognition_results = []\n",
        "\n",
        "    for filename in records_data_dict.keys():    \n",
        "        recognition_results = recognize(filename,\n",
        "                                        records_data_dict[filename],\n",
        "                                        graph, nnet,\n",
        "                                        recognition_results, beam_threshold)\n",
        "\n",
        "    print(\"-\" * 60)\n",
        "    print(f\"WER is: {(1 - sum(recognition_results)/len(recognition_results))*100:.2f}%\")\n",
        "    print(f\"Total time is: {time.time() - start_time:.2f} sec\")\n",
        "    print(\"-\" * 60)"
      ],
      "execution_count": 21,
      "outputs": []
    },
    {
      "cell_type": "markdown",
      "metadata": {
        "id": "mwf8Fl3ffkM_"
      },
      "source": [
        "### Запустим распознавание на базе YES_NO"
      ]
    },
    {
      "cell_type": "code",
      "metadata": {
        "colab": {
          "base_uri": "https://localhost:8080/",
          "height": 309,
          "referenced_widgets": [
            "ba01d874b9ff45049ec460d81b880c0f",
            "aa6c1620505f4a359ea599db02ae4036",
            "87808f51e59942eebffa4930f2c1b9e4",
            "3835bda2f49642328aa6265ef43da2cc",
            "d0b9fe39a271483592333204aa2d1caa",
            "70f924049f79449582c577f0c91b7f41",
            "1c987468bc024686903dc26bfe12f2b3",
            "9d4b9987f1ef49e1905888f5de21f123"
          ]
        },
        "id": "a9nNlFDv1p2t",
        "outputId": "04dfb14e-570b-4912-a5c1-57b31c6a8d4e"
      },
      "source": [
        "# Без контекста\n",
        "lexicon_file = 'data/lexicon_yes_no.txt'\n",
        "lexicon_dict = load_lexicon_dict(lexicon_file)\n",
        "graph = load_graph(lexicon_dict, phones_dict, priors_list)\n",
        "records_data_dict = load_data_dict(\"data/yes_no/records\")\n",
        "\n",
        "run_recognizer(records_data_dict, graph, net.cpu(), beam_threshold=100)"
      ],
      "execution_count": null,
      "outputs": [
        {
          "output_type": "display_data",
          "data": {
            "application/vnd.jupyter.widget-view+json": {
              "model_id": "ba01d874b9ff45049ec460d81b880c0f",
              "version_minor": 0,
              "version_major": 2
            },
            "text/plain": [
              "HBox(children=(FloatProgress(value=0.0, max=10.0), HTML(value='')))"
            ]
          },
          "metadata": {
            "tags": []
          }
        },
        {
          "output_type": "stream",
          "text": [
            "\n",
            "result: no_ad89eb1e_nohash_0        ==> NO\n",
            "result: no_4394fc7c_nohash_0        ==> NO\n",
            "result: no_4abb2400_nohash_0        ==> NO\n",
            "result: yes_39a12648_nohash_0       ==> YES\n",
            "result: no_49af4432_nohash_0        ==> NO\n",
            "result: yes_39a6b995_nohash_0       ==> YES\n",
            "result: no_41474817_nohash_0        ==> NO\n",
            "result: yes_fe1916ba_nohash_0       ==> YES\n",
            "result: yes_fc94edb0_nohash_0       ==> YES\n",
            "result: yes_ff63ab0b_nohash_0       ==> YES\n",
            "------------------------------------------------------------\n",
            "WER is: 0.00%\n",
            "Total time is: 2.06 sec\n",
            "------------------------------------------------------------\n"
          ],
          "name": "stdout"
        }
      ]
    },
    {
      "cell_type": "code",
      "metadata": {
        "id": "knH2AK1-gfD3",
        "colab": {
          "base_uri": "https://localhost:8080/",
          "height": 309,
          "referenced_widgets": [
            "d0d1baa369be4e3cad1691576a57964e",
            "590f21e7ad56465f9337c7021b0b159e",
            "8e23ba25a9bf42ddb73c9a393f02a5db",
            "b234a0efb7e444daada285559ca6ac9d",
            "61dc3f74c1404a5596665aad21042de3",
            "b4eb0e681a13477d8e04c42a39c51891",
            "42efe976c6ce4acb8dc8ec9750a425de",
            "bd4ebb806d0e47c1a3721a1e6ef67e6b"
          ]
        },
        "outputId": "1b54cd49-8ab0-4cd7-fce6-b6d9d5e53583"
      },
      "source": [
        "# С контекстом\n",
        "lexicon_file = 'data/lexicon_yes_no.txt'\n",
        "lexicon_dict = load_lexicon_dict(lexicon_file)\n",
        "graph = load_graph(lexicon_dict, phones_dict, priors_list)\n",
        "records_data_dict = load_data_dict(\"data/yes_no/records\")\n",
        "\n",
        "run_recognizer(records_data_dict, graph, net.cpu(), beam_threshold=100)"
      ],
      "execution_count": null,
      "outputs": [
        {
          "output_type": "display_data",
          "data": {
            "application/vnd.jupyter.widget-view+json": {
              "model_id": "d0d1baa369be4e3cad1691576a57964e",
              "version_minor": 0,
              "version_major": 2
            },
            "text/plain": [
              "HBox(children=(FloatProgress(value=0.0, max=10.0), HTML(value='')))"
            ]
          },
          "metadata": {
            "tags": []
          }
        },
        {
          "output_type": "stream",
          "text": [
            "\n",
            "result: no_ad89eb1e_nohash_0        ==> NO\n",
            "result: no_4394fc7c_nohash_0        ==> NO\n",
            "result: no_4abb2400_nohash_0        ==> YES\n",
            "result: yes_39a12648_nohash_0       ==> YES\n",
            "result: no_49af4432_nohash_0        ==> NO\n",
            "result: yes_39a6b995_nohash_0       ==> YES\n",
            "result: no_41474817_nohash_0        ==> NO\n",
            "result: yes_fe1916ba_nohash_0       ==> YES\n",
            "result: yes_fc94edb0_nohash_0       ==> YES\n",
            "result: yes_ff63ab0b_nohash_0       ==> YES\n",
            "------------------------------------------------------------\n",
            "WER is: 10.00%\n",
            "Total time is: 1.97 sec\n",
            "------------------------------------------------------------\n"
          ],
          "name": "stdout"
        }
      ]
    },
    {
      "cell_type": "markdown",
      "metadata": {
        "id": "1mIcRKQNfl35"
      },
      "source": [
        "### Запустим распознавание на базе Digits"
      ]
    },
    {
      "cell_type": "code",
      "metadata": {
        "colab": {
          "base_uri": "https://localhost:8080/",
          "height": 483,
          "referenced_widgets": [
            "7d612f62e8114ad585948387bebf4bbd",
            "b039f11c2fe0477eb05e06ec1859d240",
            "9be06f980a274ba9ba841b1315c43ea9",
            "12b02292f3a64ee69e8bea6fb7108a39",
            "c67dfe8af4e34d2fb799b371d169c943",
            "f04492342c424c19b7a0845df224ebfe",
            "38f92807c6134802b39d94cfba363d6b",
            "2376b887f8e24ed2b1396e2e4523f37d"
          ]
        },
        "id": "jn_uBUi2164e",
        "outputId": "8e41fc52-53cd-4e04-c87a-786a1a94d0b9"
      },
      "source": [
        "# Без контекста\n",
        "lexicon_file = 'data/lexicon_digits.txt'\n",
        "lexicon_dict = load_lexicon_dict(lexicon_file)\n",
        "graph = load_graph(lexicon_dict, phones_dict, priors_list)\n",
        "records_data_dict = load_data_dict(\"data/digits/records\")\n",
        "\n",
        "run_recognizer(records_data_dict, graph, net.cpu(), beam_threshold=50)"
      ],
      "execution_count": null,
      "outputs": [
        {
          "output_type": "display_data",
          "data": {
            "application/vnd.jupyter.widget-view+json": {
              "model_id": "7d612f62e8114ad585948387bebf4bbd",
              "version_minor": 0,
              "version_major": 2
            },
            "text/plain": [
              "HBox(children=(FloatProgress(value=0.0, max=20.0), HTML(value='')))"
            ]
          },
          "metadata": {
            "tags": []
          }
        },
        {
          "output_type": "stream",
          "text": [
            "\n",
            "result: four_ffbb695d_nohash_0      ==> FOUR\n",
            "result: zero_f852895b_nohash_0      ==> THREE\n",
            "result: nine_fbe51750_nohash_0      ==> NINE\n",
            "result: zero_f92e49f3_nohash_3      ==> ZERO\n",
            "result: five_ffd2ba2f_nohash_0      ==> FIVE\n",
            "result: eight_da584bc0_nohash_4     ==> SIX\n",
            "result: nine_ccea893d_nohash_0      ==> NINE\n",
            "result: two_fb2f3242_nohash_0       ==> TWO\n",
            "result: four_fce65496_nohash_0      ==> FOUR\n",
            "result: two_fce65496_nohash_0       ==> TWO\n",
            "result: seven_fd32732a_nohash_0     ==> SEVEN\n",
            "result: one_fc2411fe_nohash_0       ==> NINE\n",
            "result: one_ffa76c4a_nohash_0       ==> FOUR\n",
            "result: seven_fe5c4a7a_nohash_0     ==> SEVEN\n",
            "result: five_f852895b_nohash_0      ==> FIVE\n",
            "result: three_fce96bac_nohash_0     ==> THREE\n",
            "result: eight_daf230ac_nohash_0     ==> SIX\n",
            "result: three_feb1d305_nohash_0     ==> THREE\n",
            "result: six_ffbb695d_nohash_0       ==> TWO\n",
            "result: six_ffd2ba2f_nohash_0       ==> SIX\n",
            "------------------------------------------------------------\n",
            "WER is: 30.00%\n",
            "Total time is: 16.76 sec\n",
            "------------------------------------------------------------\n"
          ],
          "name": "stdout"
        }
      ]
    },
    {
      "cell_type": "code",
      "metadata": {
        "id": "D862ICRZgf2V",
        "colab": {
          "base_uri": "https://localhost:8080/",
          "height": 483,
          "referenced_widgets": [
            "09a9ab7410b442cf9582006dce248195",
            "60b3388de00346528ede4e71a58e3e16",
            "cc062d78f3984f8c86222c6a71acf681",
            "a4180cc32b19450eb708a99fb90fc66c",
            "f57144cfae4346a38f532f4e2407af41",
            "4f82d497f5cf47239e884cfa5fb9a8a6",
            "9159d83769694a64b189d15fa38893f5",
            "470127201cbf444389c49222e89ee2a1"
          ]
        },
        "outputId": "1faa24cf-cfff-43aa-e8f8-24fbef0ebaaf"
      },
      "source": [
        "# С контекстом\n",
        "lexicon_file = 'data/lexicon_digits.txt'\n",
        "lexicon_dict = load_lexicon_dict(lexicon_file)\n",
        "graph = load_graph(lexicon_dict, phones_dict, priors_list)\n",
        "records_data_dict = load_data_dict(\"data/digits/records\")\n",
        "\n",
        "run_recognizer(records_data_dict, graph, net.cpu(), beam_threshold=50)"
      ],
      "execution_count": null,
      "outputs": [
        {
          "output_type": "display_data",
          "data": {
            "application/vnd.jupyter.widget-view+json": {
              "model_id": "09a9ab7410b442cf9582006dce248195",
              "version_minor": 0,
              "version_major": 2
            },
            "text/plain": [
              "HBox(children=(FloatProgress(value=0.0, max=20.0), HTML(value='')))"
            ]
          },
          "metadata": {
            "tags": []
          }
        },
        {
          "output_type": "stream",
          "text": [
            "\n",
            "result: four_ffbb695d_nohash_0      ==> FOUR\n",
            "result: zero_f852895b_nohash_0      ==> ZERO\n",
            "result: nine_fbe51750_nohash_0      ==> NINE\n",
            "result: zero_f92e49f3_nohash_3      ==> ZERO\n",
            "result: five_ffd2ba2f_nohash_0      ==> FIVE\n",
            "result: eight_da584bc0_nohash_4     ==> EIGHT\n",
            "result: nine_ccea893d_nohash_0      ==> NINE\n",
            "result: two_fb2f3242_nohash_0       ==> TWO\n",
            "result: four_fce65496_nohash_0      ==> FOUR\n",
            "result: two_fce65496_nohash_0       ==> TWO\n",
            "result: seven_fd32732a_nohash_0     ==> SEVEN\n",
            "result: one_fc2411fe_nohash_0       ==> NINE\n",
            "result: one_ffa76c4a_nohash_0       ==> ONE\n",
            "result: seven_fe5c4a7a_nohash_0     ==> SEVEN\n",
            "result: five_f852895b_nohash_0      ==> FIVE\n",
            "result: three_fce96bac_nohash_0     ==> THREE\n",
            "result: eight_daf230ac_nohash_0     ==> EIGHT\n",
            "result: three_feb1d305_nohash_0     ==> THREE\n",
            "result: six_ffbb695d_nohash_0       ==> SIX\n",
            "result: six_ffd2ba2f_nohash_0       ==> SIX\n",
            "------------------------------------------------------------\n",
            "WER is: 5.00%\n",
            "Total time is: 15.71 sec\n",
            "------------------------------------------------------------\n"
          ],
          "name": "stdout"
        }
      ]
    },
    {
      "cell_type": "markdown",
      "metadata": {
        "id": "BKFMxsxkgioi"
      },
      "source": [
        "### <b>Задание №1</b> (5 баллов):\n",
        "Реализовать контексты для входных признаков путем конкатенации кадров слева и справа от текущего. Не забудьте поддержать это и в функции распознавания. Насколько улучшилось качество на дата сетах?\n",
        "\n",
        "![](https://drive.google.com/uc?export=view&id=1ft0z6CPhX20cJnA373uLoYwHPEagaKyo)"
      ]
    },
    {
      "cell_type": "markdown",
      "metadata": {
        "id": "EIgDBcT83pT_"
      },
      "source": [
        "Качестов выросло очень приличо, особенно заметно это на датасете с цифрами. На датасете с YES-NO качество упало."
      ]
    },
    {
      "cell_type": "markdown",
      "metadata": {
        "id": "8t1Wg-zJg0tR"
      },
      "source": [
        "### <b>Задание №2</b> (5 баллов):\n",
        "Повысить качество классификации фонем за счет улучшения архитектуры нейронной сети, оптимизатора, других речевых признаков и т.п. Составить небольшой отчет на основе результатов перебора использованных способов. "
      ]
    },
    {
      "cell_type": "code",
      "metadata": {
        "id": "TPRjz9wCaQ44"
      },
      "source": [
        "# С батчнормом\n",
        "class AcousticModel:\n",
        "    def __init__(self, phone_name, phone_index, priors_list):\n",
        "        self.phone_name = phone_name\n",
        "        self.phone_index = phone_index\n",
        "        self.phone_prior = priors_list[phone_index]\n",
        "        \n",
        "    def distance(self, input_feats, nnet):\n",
        "        nnet.eval()\n",
        "        with torch.no_grad():\n",
        "            predicts = nnet.forward(torch.tensor(input_feats, dtype=torch.float32).reshape(1, input_feats.shape[0]))\n",
        "            softmax = torch.nn.functional.softmax(predicts, dim=0)\n",
        "        return -np.log(softmax[self.phone_index].item() / self.phone_prior)\n",
        "\n",
        "class State:\n",
        "    def __init__(self, model, index):  \n",
        "        self.model = model                     # вектор признаков узла\n",
        "        self.is_final = False                  # является ли этот узел финальным в слове\n",
        "        self.word = None                       # слово эталона (назначается только для финального узла)\n",
        "        self.best_token = None                 # лучший токен (по минимуму дистанции) в узле\n",
        "        self.current_word = None               # текущее слово эталона\n",
        "        self.next_states = []                  # список следующих узлов\n",
        "        self.index = index                     # индекс узла \n",
        "\n",
        "        \n",
        "def load_graph(lexicon_dict, phones_dict, priors_list):\n",
        "    start_state = State(None, 0)\n",
        "    graph = [start_state, ]\n",
        "    state_index = 1\n",
        "    for word in lexicon_dict.keys():\n",
        "        previous_state = start_state\n",
        "        for phone in lexicon_dict[word]:\n",
        "            state = State(AcousticModel(phone, phones_dict[phone], priors_list), state_index)\n",
        "            state.current_word = word           # слово эталона теперь будет храниться в каждом узле\n",
        "            state.next_states.append(state)     # add loop\n",
        "            previous_state.next_states.append(state)\n",
        "            previous_state = state \n",
        "            graph.append(state)\n",
        "            state_index += 1\n",
        "        if state:\n",
        "            state.word = word\n",
        "            state.is_final = True\n",
        "    return graph"
      ],
      "execution_count": 48,
      "outputs": []
    },
    {
      "cell_type": "code",
      "metadata": {
        "colab": {
          "base_uri": "https://localhost:8080/",
          "height": 316,
          "referenced_widgets": [
            "f33645bc50744981960799bb0c0ed021",
            "7b33b2911f334c9295386b1fdc6f7227",
            "c51fd271559b4e879215fcbcae1404f9",
            "4bf10610227a4667a44f6bf697cfffc3",
            "9ff59bfdff004967ac1c389880529096",
            "31c01f6b36794f49888ca2767727f67b",
            "1af5798a668a4bd6bca0cfb4f861b3da",
            "1780ca4c1e224161bd1cfa01ecfdb4f6"
          ]
        },
        "id": "CzK0PSA8Vx79",
        "outputId": "32d70580-fd50-4e26-9984-2dfb89a55272"
      },
      "source": [
        "# Ээээксепримент 1\n",
        "net.eval()\n",
        "lexicon_file = 'data/lexicon_yes_no.txt'\n",
        "lexicon_dict = load_lexicon_dict(lexicon_file)\n",
        "graph = load_graph(lexicon_dict, phones_dict, priors_list)\n",
        "records_data_dict = load_data_dict(\"data/yes_no/records\")\n",
        "\n",
        "run_recognizer(records_data_dict, graph, net.cpu(), beam_threshold=100)"
      ],
      "execution_count": 56,
      "outputs": [
        {
          "output_type": "display_data",
          "data": {
            "application/vnd.jupyter.widget-view+json": {
              "model_id": "f33645bc50744981960799bb0c0ed021",
              "version_minor": 0,
              "version_major": 2
            },
            "text/plain": [
              "HBox(children=(FloatProgress(value=0.0, max=10.0), HTML(value='')))"
            ]
          },
          "metadata": {
            "tags": []
          }
        },
        {
          "output_type": "stream",
          "text": [
            "\n",
            "result: yes_ff63ab0b_nohash_0       ==> YES\n",
            "result: no_ad89eb1e_nohash_0        ==> NO\n",
            "result: no_49af4432_nohash_0        ==> NO\n",
            "result: no_4abb2400_nohash_0        ==> NO\n",
            "result: yes_fc94edb0_nohash_0       ==> YES\n",
            "result: no_41474817_nohash_0        ==> NO\n",
            "result: yes_fe1916ba_nohash_0       ==> YES\n",
            "result: yes_39a6b995_nohash_0       ==> YES\n",
            "result: yes_39a12648_nohash_0       ==> YES\n",
            "result: no_4394fc7c_nohash_0        ==> NO\n",
            "------------------------------------------------------------\n",
            "WER is: 0.00%\n",
            "Total time is: 2.60 sec\n",
            "------------------------------------------------------------\n"
          ],
          "name": "stdout"
        }
      ]
    },
    {
      "cell_type": "code",
      "metadata": {
        "colab": {
          "base_uri": "https://localhost:8080/",
          "height": 493,
          "referenced_widgets": [
            "5ef5c2ba0b644bd1ae97157811129886",
            "02462c4491a5416d8bc57a321913ed42",
            "fec7f90a98a44942889a4dd1e4c9222a",
            "0140c385e539414185ea52816f16f61c",
            "792800dcc8c345d0b89f15600720ffa3",
            "fdb5344999464c9193516cc70ebbdc88",
            "e3ed8386458140ea9949a3e1bb891c10",
            "513ac818896a42a9956138d5a04311de"
          ]
        },
        "id": "Mjd0kWuTV7HU",
        "outputId": "124c2fd2-61fc-49dc-f671-ae8f92b57336"
      },
      "source": [
        "# Ээээксепримент 1\n",
        "lexicon_file = 'data/lexicon_digits.txt'\n",
        "lexicon_dict = load_lexicon_dict(lexicon_file)\n",
        "graph = load_graph(lexicon_dict, phones_dict, priors_list)\n",
        "records_data_dict = load_data_dict(\"data/digits/records\")\n",
        "\n",
        "run_recognizer(records_data_dict, graph, net.cpu(), beam_threshold=50)"
      ],
      "execution_count": 57,
      "outputs": [
        {
          "output_type": "display_data",
          "data": {
            "application/vnd.jupyter.widget-view+json": {
              "model_id": "5ef5c2ba0b644bd1ae97157811129886",
              "version_minor": 0,
              "version_major": 2
            },
            "text/plain": [
              "HBox(children=(FloatProgress(value=0.0, max=20.0), HTML(value='')))"
            ]
          },
          "metadata": {
            "tags": []
          }
        },
        {
          "output_type": "stream",
          "text": [
            "\n",
            "result: five_f852895b_nohash_0      ==> FIVE\n",
            "result: two_fce65496_nohash_0       ==> TWO\n",
            "result: four_fce65496_nohash_0      ==> FOUR\n",
            "result: one_ffa76c4a_nohash_0       ==> FOUR\n",
            "result: five_ffd2ba2f_nohash_0      ==> FIVE\n",
            "result: seven_fe5c4a7a_nohash_0     ==> SEVEN\n",
            "result: zero_f852895b_nohash_0      ==> ZERO\n",
            "result: seven_fd32732a_nohash_0     ==> SEVEN\n",
            "result: six_ffd2ba2f_nohash_0       ==> SIX\n",
            "result: eight_daf230ac_nohash_0     ==> EIGHT\n",
            "result: six_ffbb695d_nohash_0       ==> SIX\n",
            "result: two_fb2f3242_nohash_0       ==> TWO\n",
            "result: three_fce96bac_nohash_0     ==> THREE\n",
            "result: nine_ccea893d_nohash_0      ==> NINE\n",
            "result: nine_fbe51750_nohash_0      ==> NINE\n",
            "result: zero_f92e49f3_nohash_3      ==> ZERO\n",
            "result: one_fc2411fe_nohash_0       ==> ONE\n",
            "result: four_ffbb695d_nohash_0      ==> FOUR\n",
            "result: eight_da584bc0_nohash_4     ==> EIGHT\n",
            "result: three_feb1d305_nohash_0     ==> THREE\n",
            "------------------------------------------------------------\n",
            "WER is: 5.00%\n",
            "Total time is: 21.40 sec\n",
            "------------------------------------------------------------\n"
          ],
          "name": "stdout"
        }
      ]
    },
    {
      "cell_type": "code",
      "metadata": {
        "id": "EagKo7Dy0aFO"
      },
      "source": [
        "# слои поменять\n",
        "# ignore index в лоссе\n",
        "# добавить шедулер"
      ],
      "execution_count": null,
      "outputs": []
    },
    {
      "cell_type": "markdown",
      "metadata": {
        "id": "gLoc60MIU0ph"
      },
      "source": [
        "Чуть экспериментов"
      ]
    },
    {
      "cell_type": "markdown",
      "metadata": {
        "id": "R6QYvF2-U6qb"
      },
      "source": [
        "Оригинальная сеть:  \n",
        "frame accuarcy: 0.424  \n",
        "WER YES-NO: 0%  \n",
        "WER DIGITS: 30%  \n",
        "Сеть с контекстом в 1 и с нормализацией:  \n",
        "frame accuarcy: 0.527  \n",
        "WER YES-NO: не запустилось, надо разобраться  \n",
        "WER DIGITS: не запустилось, надо разобраться \n",
        "Сеть с контекстом в 1 и с нормализацией и дропаутом:  \n",
        "frame accuarcy: 0.507  \n",
        "WER YES-NO: 0%  \n",
        "WER DIGITS: 5% "
      ]
    },
    {
      "cell_type": "code",
      "metadata": {
        "id": "m39drQDyUxuN"
      },
      "source": [
        ""
      ],
      "execution_count": null,
      "outputs": []
    }
  ]
}